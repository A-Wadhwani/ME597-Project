{
  "nbformat": 4,
  "nbformat_minor": 0,
  "metadata": {
    "kernelspec": {
      "display_name": "Python 3",
      "language": "python",
      "name": "python3"
    },
    "language_info": {
      "codemirror_mode": {
        "name": "ipython",
        "version": 3
      },
      "file_extension": ".py",
      "mimetype": "text/x-python",
      "name": "python",
      "nbconvert_exporter": "python",
      "pygments_lexer": "ipython3",
      "version": "3.7.6"
    },
    "colab": {
      "name": "UMass Solar data cleaning.ipynb",
      "provenance": [],
      "include_colab_link": true
    }
  },
  "cells": [
    {
      "cell_type": "markdown",
      "metadata": {
        "id": "view-in-github",
        "colab_type": "text"
      },
      "source": [
        "<a href=\"https://colab.research.google.com/github/A-Wadhwani/ME597-Project/blob/main/UMass%20Solar%20data%20cleaning.ipynb\" target=\"_parent\"><img src=\"https://colab.research.google.com/assets/colab-badge.svg\" alt=\"Open In Colab\"/></a>"
      ]
    },
    {
      "cell_type": "code",
      "metadata": {
        "id": "rqU3iqWibKkX"
      },
      "source": [
        "import pandas as pd\n",
        "import numpy as np \n",
        "import matplotlib.pyplot as plt\n",
        "\n",
        "#2017, 2018, 2019 data for weather available\n",
        "#comp sci -  421 panels \n",
        "#rec - 660 panel\n",
        "#fine arts - 424 panels"
      ],
      "execution_count": 26,
      "outputs": []
    },
    {
      "cell_type": "code",
      "metadata": {
        "id": "1yCaEKSpbKkY"
      },
      "source": [
        "data_df =  pd.read_csv('https://raw.githubusercontent.com/A-Wadhwani/ME597-Project/prelim_results/Datasets/Power%20Data/UMass_PowerConsumption.csv', parse_dates=['Site Time'], )"
      ],
      "execution_count": 27,
      "outputs": []
    },
    {
      "cell_type": "code",
      "metadata": {
        "id": "K0TOy6aMbKkZ",
        "outputId": "f6858c35-9869-4b29-d598-e6675d5d9682",
        "colab": {
          "base_uri": "https://localhost:8080/",
          "height": 585
        }
      },
      "source": [
        "data_df.head(70)"
      ],
      "execution_count": 28,
      "outputs": [
        {
          "output_type": "execute_result",
          "data": {
            "text/html": [
              "<div>\n",
              "<style scoped>\n",
              "    .dataframe tbody tr th:only-of-type {\n",
              "        vertical-align: middle;\n",
              "    }\n",
              "\n",
              "    .dataframe tbody tr th {\n",
              "        vertical-align: top;\n",
              "    }\n",
              "\n",
              "    .dataframe thead th {\n",
              "        text-align: right;\n",
              "    }\n",
              "</style>\n",
              "<table border=\"1\" class=\"dataframe\">\n",
              "  <thead>\n",
              "    <tr style=\"text-align: right;\">\n",
              "      <th></th>\n",
              "      <th>Site Time</th>\n",
              "      <th>UMASS Amherst - Robsham Visitors Center null</th>\n",
              "      <th>UMASS Amherst - Lot 44 Carport null</th>\n",
              "      <th>UMASS Amherst - Champions Center null</th>\n",
              "      <th>UMASS Amherst - Computer Science null</th>\n",
              "      <th>UMASS Amherst - Fine Arts Center null</th>\n",
              "      <th>UMASS Amherst - Recreation Center null</th>\n",
              "      <th>UMASS Amherst - University Police null</th>\n",
              "      <th>UMASS Amherst - Lot 25 Carport null</th>\n",
              "    </tr>\n",
              "  </thead>\n",
              "  <tbody>\n",
              "    <tr>\n",
              "      <th>0</th>\n",
              "      <td>2017-01-01</td>\n",
              "      <td>80.5</td>\n",
              "      <td>0</td>\n",
              "      <td>0</td>\n",
              "      <td>0</td>\n",
              "      <td>0.00</td>\n",
              "      <td>0</td>\n",
              "      <td>0.000</td>\n",
              "      <td>0</td>\n",
              "    </tr>\n",
              "    <tr>\n",
              "      <th>1</th>\n",
              "      <td>2017-01-02</td>\n",
              "      <td>59.3</td>\n",
              "      <td>0</td>\n",
              "      <td>0</td>\n",
              "      <td>0</td>\n",
              "      <td>0.00</td>\n",
              "      <td>0</td>\n",
              "      <td>0.000</td>\n",
              "      <td>0</td>\n",
              "    </tr>\n",
              "    <tr>\n",
              "      <th>2</th>\n",
              "      <td>2017-01-03</td>\n",
              "      <td>22.8</td>\n",
              "      <td>34.629</td>\n",
              "      <td>0</td>\n",
              "      <td>0</td>\n",
              "      <td>0.00</td>\n",
              "      <td>0</td>\n",
              "      <td>0.000</td>\n",
              "      <td>0</td>\n",
              "    </tr>\n",
              "    <tr>\n",
              "      <th>3</th>\n",
              "      <td>2017-01-04</td>\n",
              "      <td>76.6</td>\n",
              "      <td>0</td>\n",
              "      <td>0</td>\n",
              "      <td>0</td>\n",
              "      <td>0.00</td>\n",
              "      <td>0</td>\n",
              "      <td>0.000</td>\n",
              "      <td>0</td>\n",
              "    </tr>\n",
              "    <tr>\n",
              "      <th>4</th>\n",
              "      <td>2017-01-05</td>\n",
              "      <td>224</td>\n",
              "      <td>0</td>\n",
              "      <td>0</td>\n",
              "      <td>0</td>\n",
              "      <td>0.00</td>\n",
              "      <td>0</td>\n",
              "      <td>0.000</td>\n",
              "      <td>0</td>\n",
              "    </tr>\n",
              "    <tr>\n",
              "      <th>...</th>\n",
              "      <td>...</td>\n",
              "      <td>...</td>\n",
              "      <td>...</td>\n",
              "      <td>...</td>\n",
              "      <td>...</td>\n",
              "      <td>...</td>\n",
              "      <td>...</td>\n",
              "      <td>...</td>\n",
              "      <td>...</td>\n",
              "    </tr>\n",
              "    <tr>\n",
              "      <th>65</th>\n",
              "      <td>2017-03-07</td>\n",
              "      <td>67.1</td>\n",
              "      <td>1,560.3</td>\n",
              "      <td>153.12</td>\n",
              "      <td>100.33</td>\n",
              "      <td>69.39</td>\n",
              "      <td>154.38</td>\n",
              "      <td>18.381</td>\n",
              "      <td>1,238.7</td>\n",
              "    </tr>\n",
              "    <tr>\n",
              "      <th>66</th>\n",
              "      <td>2017-03-08</td>\n",
              "      <td>399.9</td>\n",
              "      <td>8,702</td>\n",
              "      <td>919.67</td>\n",
              "      <td>589.84</td>\n",
              "      <td>564.75</td>\n",
              "      <td>944</td>\n",
              "      <td>118.687</td>\n",
              "      <td>6,632.9</td>\n",
              "    </tr>\n",
              "    <tr>\n",
              "      <th>67</th>\n",
              "      <td>2017-03-09</td>\n",
              "      <td>536.6</td>\n",
              "      <td>11,252.6</td>\n",
              "      <td>1,269.63</td>\n",
              "      <td>822.65</td>\n",
              "      <td>879.26</td>\n",
              "      <td>1,309.44</td>\n",
              "      <td>156.511</td>\n",
              "      <td>8,924.1</td>\n",
              "    </tr>\n",
              "    <tr>\n",
              "      <th>68</th>\n",
              "      <td>2017-03-10</td>\n",
              "      <td>103.6</td>\n",
              "      <td>2,467.2</td>\n",
              "      <td>247.6</td>\n",
              "      <td>150.63</td>\n",
              "      <td>164.12</td>\n",
              "      <td>242.1</td>\n",
              "      <td>23.675</td>\n",
              "      <td>2,226.9</td>\n",
              "    </tr>\n",
              "    <tr>\n",
              "      <th>69</th>\n",
              "      <td>2017-03-11</td>\n",
              "      <td>479.2</td>\n",
              "      <td>7,702</td>\n",
              "      <td>922.31</td>\n",
              "      <td>705.76</td>\n",
              "      <td>771.76</td>\n",
              "      <td>1,036</td>\n",
              "      <td>145.739</td>\n",
              "      <td>5,021.1</td>\n",
              "    </tr>\n",
              "  </tbody>\n",
              "</table>\n",
              "<p>70 rows × 9 columns</p>\n",
              "</div>"
            ],
            "text/plain": [
              "    Site Time  ... UMASS Amherst - Lot 25 Carport null\n",
              "0  2017-01-01  ...                                   0\n",
              "1  2017-01-02  ...                                   0\n",
              "2  2017-01-03  ...                                   0\n",
              "3  2017-01-04  ...                                   0\n",
              "4  2017-01-05  ...                                   0\n",
              "..        ...  ...                                 ...\n",
              "65 2017-03-07  ...                             1,238.7\n",
              "66 2017-03-08  ...                             6,632.9\n",
              "67 2017-03-09  ...                             8,924.1\n",
              "68 2017-03-10  ...                             2,226.9\n",
              "69 2017-03-11  ...                             5,021.1\n",
              "\n",
              "[70 rows x 9 columns]"
            ]
          },
          "metadata": {
            "tags": []
          },
          "execution_count": 28
        }
      ]
    },
    {
      "cell_type": "code",
      "metadata": {
        "id": "U4wpc4pdbKkZ"
      },
      "source": [
        "data_df['Day'] = [d.day for d in data_df['Site Time']]\n",
        "data_df['Month'] = [d.month for d in data_df['Site Time']]\n",
        "data_df['Year'] = [d.year for d in data_df['Site Time']]\n",
        "data_df['Date'] = [d.date() for d in data_df['Site Time']]"
      ],
      "execution_count": 29,
      "outputs": []
    },
    {
      "cell_type": "code",
      "metadata": {
        "id": "an3Y_7oXbKka"
      },
      "source": [
        "data_new_df = data_df[data_df.Year != 2020].drop(['UMASS Amherst - Champions Center null','UMASS Amherst - Robsham Visitors Center null','UMASS Amherst - Lot 44 Carport null', 'UMASS Amherst - University Police null', 'UMASS Amherst - Lot 25 Carport null' ], axis=1)"
      ],
      "execution_count": 30,
      "outputs": []
    },
    {
      "cell_type": "code",
      "metadata": {
        "id": "g89Cc7BNbKka"
      },
      "source": [
        "data_new_df['UMASS Amherst - Computer Science null'] = data_new_df['UMASS Amherst - Computer Science null'].str.replace(',','').astype(float)\n",
        "#data_new_df['UMASS Amherst - Fine Arts Center null'] = data_new_df['UMASS Amherst - Fine Arts Center null'].str.replace(',','').astype(float)\n",
        "data_new_df['UMASS Amherst - Recreation Center null'] = data_new_df['UMASS Amherst - Recreation Center null'].str.replace(',','').astype(float)\n"
      ],
      "execution_count": 31,
      "outputs": []
    },
    {
      "cell_type": "code",
      "metadata": {
        "id": "_0xXkMmcbKka"
      },
      "source": [
        "data_new_df['UMASS Amherst - Computer Science null'] = data_new_df['UMASS Amherst - Computer Science null'] / 421\n",
        "data_new_df['UMASS Amherst - Fine Arts Center null'] = data_new_df['UMASS Amherst - Fine Arts Center null'] / 424\n",
        "data_new_df['UMASS Amherst - Recreation Center null'] = data_new_df['UMASS Amherst - Recreation Center null'] / 660"
      ],
      "execution_count": 32,
      "outputs": []
    },
    {
      "cell_type": "code",
      "metadata": {
        "scrolled": false,
        "id": "kzj1D4K4bKka"
      },
      "source": [
        "data_new_df = data_new_df.drop(['Site Time'], axis=1)"
      ],
      "execution_count": 33,
      "outputs": []
    },
    {
      "cell_type": "code",
      "metadata": {
        "id": "kGaaMSHDbKka"
      },
      "source": [
        "data_new_df = data_new_df[(data_new_df != 0).all(1)]"
      ],
      "execution_count": 34,
      "outputs": []
    },
    {
      "cell_type": "code",
      "metadata": {
        "id": "RgrdU8OxctOC"
      },
      "source": [
        "#Merge weather data and power data \n",
        "def merge_weather(df_power, weather_data='Datasets/Orlando_Weather.csv'):\n",
        "    #Read data, drop unused columns and remove 0 values\n",
        "    df_weather = pd.read_csv(weather_data)\n",
        "    df_weather = df_weather.drop(columns=['Hour', 'Minute','Wind Direction'])\n",
        "    df_weather = df_weather[df_weather.DNI != 0]\n",
        "\n",
        "    #Take mean, max and min for each DNI and Temperature in DataFrame and mean for everything else\n",
        "    max_temp = df_weather.groupby(['Year', 'Month', 'Day']).max().reset_index()['Temperature']\n",
        "    min_temp = df_weather.groupby(['Year', 'Month', 'Day']).min().reset_index()['Temperature']\n",
        "\n",
        "    #Split into Y M and D\n",
        "    max_dni = df_weather.groupby(['Year', 'Month', 'Day']).max().reset_index()['DNI']\n",
        "    min_dni = df_weather.groupby(['Year', 'Month', 'Day']).min().reset_index()['DNI']\n",
        "\n",
        "\n",
        "    df_weather = pd.DataFrame(df_weather.groupby(['Year', 'Month', 'Day']).mean().reset_index())\n",
        "    df_weather.insert(4, 'DNI Max', max_dni)\n",
        "    df_weather.insert(5, 'DNI Min', min_dni)\n",
        "    df_weather.insert(11, 'Temp Max', max_temp)\n",
        "    df_weather.insert(12, 'Temp Min', min_temp)\n",
        "\n",
        "#    df_power[['Year', 'Month', 'Day']] = df_power.Date.str.split('-', expand=True).apply(pd.to_numeric)\n",
        "\n",
        "    #Merge data together\n",
        "    df_merge = df_weather.merge(df_power, left_on=('Year', 'Month', 'Day'), \n",
        "                                right_on=('Year', 'Month', 'Day'), how = 'inner', suffixes=('_left','_right'))\n",
        "    df_merge = df_merge.rename(columns={'DNI':'DNI Mean'})\n",
        "\n",
        "    return df_merge"
      ],
      "execution_count": 35,
      "outputs": []
    },
    {
      "cell_type": "code",
      "metadata": {
        "id": "2xDMMPj0bKka"
      },
      "source": [
        "final_df = merge_weather(data_new_df,weather_data='https://raw.githubusercontent.com/A-Wadhwani/ME597-Project/prelim_results/Datasets/Weather%20Data/Amherst_Weather.csv')"
      ],
      "execution_count": 39,
      "outputs": []
    },
    {
      "cell_type": "code",
      "metadata": {
        "id": "DjHNnWSYduV8",
        "outputId": "18e9338d-8cc2-4ad8-ec50-e4363222eedf",
        "colab": {
          "base_uri": "https://localhost:8080/",
          "height": 383
        }
      },
      "source": [
        "final_df.head()"
      ],
      "execution_count": 40,
      "outputs": [
        {
          "output_type": "execute_result",
          "data": {
            "text/html": [
              "<div>\n",
              "<style scoped>\n",
              "    .dataframe tbody tr th:only-of-type {\n",
              "        vertical-align: middle;\n",
              "    }\n",
              "\n",
              "    .dataframe tbody tr th {\n",
              "        vertical-align: top;\n",
              "    }\n",
              "\n",
              "    .dataframe thead th {\n",
              "        text-align: right;\n",
              "    }\n",
              "</style>\n",
              "<table border=\"1\" class=\"dataframe\">\n",
              "  <thead>\n",
              "    <tr style=\"text-align: right;\">\n",
              "      <th></th>\n",
              "      <th>Year</th>\n",
              "      <th>Month</th>\n",
              "      <th>Day</th>\n",
              "      <th>DHI</th>\n",
              "      <th>DNI Max</th>\n",
              "      <th>DNI Min</th>\n",
              "      <th>DNI Mean</th>\n",
              "      <th>GHI</th>\n",
              "      <th>Clearsky DHI</th>\n",
              "      <th>Clearsky DNI</th>\n",
              "      <th>Clearsky GHI</th>\n",
              "      <th>Temp Max</th>\n",
              "      <th>Temp Min</th>\n",
              "      <th>Wind Speed</th>\n",
              "      <th>Precipitable Water</th>\n",
              "      <th>Relative Humidity</th>\n",
              "      <th>Temperature</th>\n",
              "      <th>Pressure</th>\n",
              "      <th>UMASS Amherst - Computer Science null</th>\n",
              "      <th>UMASS Amherst - Fine Arts Center null</th>\n",
              "      <th>UMASS Amherst - Recreation Center null</th>\n",
              "      <th>Date</th>\n",
              "    </tr>\n",
              "  </thead>\n",
              "  <tbody>\n",
              "    <tr>\n",
              "      <th>0</th>\n",
              "      <td>2017</td>\n",
              "      <td>2</td>\n",
              "      <td>3</td>\n",
              "      <td>76.100000</td>\n",
              "      <td>808</td>\n",
              "      <td>194</td>\n",
              "      <td>606.200000</td>\n",
              "      <td>305.800000</td>\n",
              "      <td>86.300000</td>\n",
              "      <td>697.200000</td>\n",
              "      <td>350.800000</td>\n",
              "      <td>-2.0</td>\n",
              "      <td>-8.0</td>\n",
              "      <td>0.480000</td>\n",
              "      <td>0.383400</td>\n",
              "      <td>67.023000</td>\n",
              "      <td>-3.500000</td>\n",
              "      <td>1000.000000</td>\n",
              "      <td>1.061948</td>\n",
              "      <td>1.411040</td>\n",
              "      <td>1.095000</td>\n",
              "      <td>2017-02-03</td>\n",
              "    </tr>\n",
              "    <tr>\n",
              "      <th>1</th>\n",
              "      <td>2017</td>\n",
              "      <td>2</td>\n",
              "      <td>4</td>\n",
              "      <td>88.100000</td>\n",
              "      <td>874</td>\n",
              "      <td>286</td>\n",
              "      <td>676.200000</td>\n",
              "      <td>345.400000</td>\n",
              "      <td>88.200000</td>\n",
              "      <td>694.800000</td>\n",
              "      <td>355.100000</td>\n",
              "      <td>-3.0</td>\n",
              "      <td>-7.0</td>\n",
              "      <td>0.600000</td>\n",
              "      <td>0.363900</td>\n",
              "      <td>67.680000</td>\n",
              "      <td>-3.900000</td>\n",
              "      <td>1000.000000</td>\n",
              "      <td>1.409026</td>\n",
              "      <td>1.852061</td>\n",
              "      <td>1.453818</td>\n",
              "      <td>2017-02-04</td>\n",
              "    </tr>\n",
              "    <tr>\n",
              "      <th>2</th>\n",
              "      <td>2017</td>\n",
              "      <td>2</td>\n",
              "      <td>5</td>\n",
              "      <td>122.888889</td>\n",
              "      <td>693</td>\n",
              "      <td>31</td>\n",
              "      <td>356.222222</td>\n",
              "      <td>278.333333</td>\n",
              "      <td>117.666667</td>\n",
              "      <td>615.888889</td>\n",
              "      <td>370.555556</td>\n",
              "      <td>1.0</td>\n",
              "      <td>-5.0</td>\n",
              "      <td>0.566667</td>\n",
              "      <td>0.886000</td>\n",
              "      <td>76.916667</td>\n",
              "      <td>-1.000000</td>\n",
              "      <td>992.222222</td>\n",
              "      <td>0.810475</td>\n",
              "      <td>0.826453</td>\n",
              "      <td>0.818667</td>\n",
              "      <td>2017-02-05</td>\n",
              "    </tr>\n",
              "    <tr>\n",
              "      <th>3</th>\n",
              "      <td>2017</td>\n",
              "      <td>2</td>\n",
              "      <td>6</td>\n",
              "      <td>77.666667</td>\n",
              "      <td>927</td>\n",
              "      <td>4</td>\n",
              "      <td>649.222222</td>\n",
              "      <td>336.444444</td>\n",
              "      <td>72.222222</td>\n",
              "      <td>752.111111</td>\n",
              "      <td>373.000000</td>\n",
              "      <td>0.0</td>\n",
              "      <td>-5.0</td>\n",
              "      <td>0.611111</td>\n",
              "      <td>0.731889</td>\n",
              "      <td>61.147778</td>\n",
              "      <td>-1.777778</td>\n",
              "      <td>1000.000000</td>\n",
              "      <td>1.234228</td>\n",
              "      <td>1.570186</td>\n",
              "      <td>1.250591</td>\n",
              "      <td>2017-02-06</td>\n",
              "    </tr>\n",
              "    <tr>\n",
              "      <th>4</th>\n",
              "      <td>2017</td>\n",
              "      <td>2</td>\n",
              "      <td>8</td>\n",
              "      <td>109.800000</td>\n",
              "      <td>850</td>\n",
              "      <td>33</td>\n",
              "      <td>466.400000</td>\n",
              "      <td>295.700000</td>\n",
              "      <td>96.600000</td>\n",
              "      <td>657.000000</td>\n",
              "      <td>360.400000</td>\n",
              "      <td>5.0</td>\n",
              "      <td>1.0</td>\n",
              "      <td>0.500000</td>\n",
              "      <td>1.026600</td>\n",
              "      <td>98.111000</td>\n",
              "      <td>2.800000</td>\n",
              "      <td>985.000000</td>\n",
              "      <td>0.657363</td>\n",
              "      <td>1.043031</td>\n",
              "      <td>0.712076</td>\n",
              "      <td>2017-02-08</td>\n",
              "    </tr>\n",
              "  </tbody>\n",
              "</table>\n",
              "</div>"
            ],
            "text/plain": [
              "   Year  Month  ...  UMASS Amherst - Recreation Center null        Date\n",
              "0  2017      2  ...                                1.095000  2017-02-03\n",
              "1  2017      2  ...                                1.453818  2017-02-04\n",
              "2  2017      2  ...                                0.818667  2017-02-05\n",
              "3  2017      2  ...                                1.250591  2017-02-06\n",
              "4  2017      2  ...                                0.712076  2017-02-08\n",
              "\n",
              "[5 rows x 22 columns]"
            ]
          },
          "metadata": {
            "tags": []
          },
          "execution_count": 40
        }
      ]
    },
    {
      "cell_type": "code",
      "metadata": {
        "id": "UEnzyrtvbKke"
      },
      "source": [
        "final_df.to_csv('Umass_total_data.csv')"
      ],
      "execution_count": 38,
      "outputs": []
    }
  ]
}