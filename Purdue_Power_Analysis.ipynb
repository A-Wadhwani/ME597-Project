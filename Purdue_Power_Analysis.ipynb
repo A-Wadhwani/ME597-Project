{
  "nbformat": 4,
  "nbformat_minor": 0,
  "metadata": {
    "colab": {
      "name": "Purdue Power Analysis.ipynb",
      "provenance": [],
      "collapsed_sections": [],
      "authorship_tag": "ABX9TyM7oMoT1RE7XRD+MT7SaCwd",
      "include_colab_link": true
    },
    "kernelspec": {
      "name": "python3",
      "display_name": "Python 3"
    }
  },
  "cells": [
    {
      "cell_type": "markdown",
      "metadata": {
        "id": "view-in-github",
        "colab_type": "text"
      },
      "source": [
        "<a href=\"https://colab.research.google.com/github/A-Wadhwani/ME597-Project/blob/main/Purdue_Power_Analysis.ipynb\" target=\"_parent\"><img src=\"https://colab.research.google.com/assets/colab-badge.svg\" alt=\"Open In Colab\"/></a>"
      ]
    },
    {
      "cell_type": "markdown",
      "metadata": {
        "id": "R_HI8H-kokJx"
      },
      "source": [
        "# Analysis of Models on Purdue Buildings"
      ]
    },
    {
      "cell_type": "code",
      "metadata": {
        "colab": {
          "base_uri": "https://localhost:8080/"
        },
        "id": "_vej8bu8jPOS",
        "outputId": "b5bbc1cd-f059-48cd-be26-33e46ddb1d36"
      },
      "source": [
        "# import the libraries\n",
        "import numpy as np\n",
        "import matplotlib.pyplot as plt\n",
        "import datetime\n",
        "import seaborn as sns\n",
        "import tensorflow as tf\n",
        "import pandas as pd\n",
        "from datetime import datetime\n",
        "from sklearn.metrics import r2_score\n",
        "print(\"TensorFlow version: \",tf.__version__)  #print the version of tensorflow"
      ],
      "execution_count": null,
      "outputs": [
        {
          "output_type": "stream",
          "text": [
            "TensorFlow version:  2.3.0\n"
          ],
          "name": "stdout"
        }
      ]
    },
    {
      "cell_type": "code",
      "metadata": {
        "id": "yhUCH8R3jQx6"
      },
      "source": [
        "from tensorflow.python.keras.layers import Dense\n",
        "from tensorflow.keras.layers import Dropout\n",
        "from tensorflow.python.keras.models import Sequential\n",
        "from tensorflow.python.keras.wrappers.scikit_learn import KerasRegressor\n",
        "from tensorflow import keras\n",
        "from tensorflow.keras import layers\n",
        "from tensorflow.keras import Sequential \n",
        "from tensorflow.keras.layers import Dense, Activation, Dropout\n",
        "from tensorflow.keras.callbacks import EarlyStopping\n",
        "from tensorflow.keras import regularizers\n",
        "\n",
        "from tensorflow.keras.callbacks import EarlyStopping, ReduceLROnPlateau\n",
        "from tensorflow.keras import regularizers"
      ],
      "execution_count": null,
      "outputs": []
    },
    {
      "cell_type": "code",
      "metadata": {
        "id": "Crv5-uyApazd"
      },
      "source": [
        "#Helper Functions\n",
        "def get_weekday2(year, month, day):\n",
        "    dates = pd.DataFrame()\n",
        "    dates['y'] = year\n",
        "    dates['m'] = month\n",
        "    dates['d'] = day\n",
        "    dates['dates'] = dates['y'].astype('str') + '-' + dates['m'].astype('str') + '-' + dates['d'].astype('str')\n",
        "    return get_weekday(dates['dates'])\n",
        "\n",
        "#Get day of week based on date\n",
        "def get_weekday(dates):\n",
        "    return [1 if (datetime.strptime(d,\"%Y-%m-%d\").weekday() >= 5) else 0 for d in dates]"
      ],
      "execution_count": null,
      "outputs": []
    },
    {
      "cell_type": "code",
      "metadata": {
        "id": "17yPc2djjTXl"
      },
      "source": [
        "from joblib import dump, load\n",
        "\n",
        "#Load university model scalers\n",
        "uni_x_scaler = load('uni_x_scaler.bin')\n",
        "uni_y_scaler = load('uni_y_scaler.bin')\n",
        "\n",
        "#Load solar model scalers\n",
        "sol_x_scaler = load('sol_x_scaler.bin')\n",
        "sol_y_scaler = load('sol_y_scaler.bin')"
      ],
      "execution_count": null,
      "outputs": []
    },
    {
      "cell_type": "code",
      "metadata": {
        "id": "jQ3lSyZ8lozY"
      },
      "source": [
        "#Load university model\n",
        "uni_model= tf.keras.models.load_model('uni_model.h5')\n",
        "\n",
        "#Load solar model\n",
        "sol_model= tf.keras.models.load_model('sol_model.h5')"
      ],
      "execution_count": null,
      "outputs": []
    },
    {
      "cell_type": "code",
      "metadata": {
        "colab": {
          "base_uri": "https://localhost:8080/",
          "height": 195
        },
        "id": "WikA6ZI8mjTM",
        "outputId": "c609216a-478d-414c-8e84-09a418728b97"
      },
      "source": [
        "#Load Purdue weather data\n",
        "df_weather = pd.read_csv('https://raw.githubusercontent.com/A-Wadhwani/ME597-Project/main/Datasets/Purdue_Weather.csv')\n",
        "df_weather.head()"
      ],
      "execution_count": null,
      "outputs": [
        {
          "output_type": "execute_result",
          "data": {
            "text/html": [
              "<div>\n",
              "<style scoped>\n",
              "    .dataframe tbody tr th:only-of-type {\n",
              "        vertical-align: middle;\n",
              "    }\n",
              "\n",
              "    .dataframe tbody tr th {\n",
              "        vertical-align: top;\n",
              "    }\n",
              "\n",
              "    .dataframe thead th {\n",
              "        text-align: right;\n",
              "    }\n",
              "</style>\n",
              "<table border=\"1\" class=\"dataframe\">\n",
              "  <thead>\n",
              "    <tr style=\"text-align: right;\">\n",
              "      <th></th>\n",
              "      <th>Year</th>\n",
              "      <th>Month</th>\n",
              "      <th>Day</th>\n",
              "      <th>Hour</th>\n",
              "      <th>Minute</th>\n",
              "      <th>DHI</th>\n",
              "      <th>DNI</th>\n",
              "      <th>GHI</th>\n",
              "      <th>Clearsky DHI</th>\n",
              "      <th>Clearsky DNI</th>\n",
              "      <th>Clearsky GHI</th>\n",
              "      <th>Wind Speed</th>\n",
              "      <th>Precipitable Water</th>\n",
              "      <th>Wind Direction</th>\n",
              "      <th>Relative Humidity</th>\n",
              "      <th>Temperature</th>\n",
              "      <th>Pressure</th>\n",
              "    </tr>\n",
              "  </thead>\n",
              "  <tbody>\n",
              "    <tr>\n",
              "      <th>0</th>\n",
              "      <td>2019</td>\n",
              "      <td>1</td>\n",
              "      <td>1</td>\n",
              "      <td>0</td>\n",
              "      <td>30</td>\n",
              "      <td>0</td>\n",
              "      <td>0</td>\n",
              "      <td>0</td>\n",
              "      <td>0</td>\n",
              "      <td>0</td>\n",
              "      <td>0</td>\n",
              "      <td>8.7</td>\n",
              "      <td>1.5</td>\n",
              "      <td>245</td>\n",
              "      <td>100.00</td>\n",
              "      <td>7.2</td>\n",
              "      <td>981</td>\n",
              "    </tr>\n",
              "    <tr>\n",
              "      <th>1</th>\n",
              "      <td>2019</td>\n",
              "      <td>1</td>\n",
              "      <td>1</td>\n",
              "      <td>1</td>\n",
              "      <td>30</td>\n",
              "      <td>0</td>\n",
              "      <td>0</td>\n",
              "      <td>0</td>\n",
              "      <td>0</td>\n",
              "      <td>0</td>\n",
              "      <td>0</td>\n",
              "      <td>8.2</td>\n",
              "      <td>1.4</td>\n",
              "      <td>254</td>\n",
              "      <td>99.64</td>\n",
              "      <td>5.4</td>\n",
              "      <td>982</td>\n",
              "    </tr>\n",
              "    <tr>\n",
              "      <th>2</th>\n",
              "      <td>2019</td>\n",
              "      <td>1</td>\n",
              "      <td>1</td>\n",
              "      <td>2</td>\n",
              "      <td>30</td>\n",
              "      <td>0</td>\n",
              "      <td>0</td>\n",
              "      <td>0</td>\n",
              "      <td>0</td>\n",
              "      <td>0</td>\n",
              "      <td>0</td>\n",
              "      <td>7.3</td>\n",
              "      <td>1.3</td>\n",
              "      <td>265</td>\n",
              "      <td>99.24</td>\n",
              "      <td>3.8</td>\n",
              "      <td>984</td>\n",
              "    </tr>\n",
              "    <tr>\n",
              "      <th>3</th>\n",
              "      <td>2019</td>\n",
              "      <td>1</td>\n",
              "      <td>1</td>\n",
              "      <td>3</td>\n",
              "      <td>30</td>\n",
              "      <td>0</td>\n",
              "      <td>0</td>\n",
              "      <td>0</td>\n",
              "      <td>0</td>\n",
              "      <td>0</td>\n",
              "      <td>0</td>\n",
              "      <td>6.2</td>\n",
              "      <td>1.2</td>\n",
              "      <td>276</td>\n",
              "      <td>98.59</td>\n",
              "      <td>2.5</td>\n",
              "      <td>987</td>\n",
              "    </tr>\n",
              "    <tr>\n",
              "      <th>4</th>\n",
              "      <td>2019</td>\n",
              "      <td>1</td>\n",
              "      <td>1</td>\n",
              "      <td>4</td>\n",
              "      <td>30</td>\n",
              "      <td>0</td>\n",
              "      <td>0</td>\n",
              "      <td>0</td>\n",
              "      <td>0</td>\n",
              "      <td>0</td>\n",
              "      <td>0</td>\n",
              "      <td>5.2</td>\n",
              "      <td>1.2</td>\n",
              "      <td>280</td>\n",
              "      <td>97.39</td>\n",
              "      <td>1.6</td>\n",
              "      <td>989</td>\n",
              "    </tr>\n",
              "  </tbody>\n",
              "</table>\n",
              "</div>"
            ],
            "text/plain": [
              "   Year  Month  Day  ...  Relative Humidity  Temperature  Pressure\n",
              "0  2019      1    1  ...             100.00          7.2       981\n",
              "1  2019      1    1  ...              99.64          5.4       982\n",
              "2  2019      1    1  ...              99.24          3.8       984\n",
              "3  2019      1    1  ...              98.59          2.5       987\n",
              "4  2019      1    1  ...              97.39          1.6       989\n",
              "\n",
              "[5 rows x 17 columns]"
            ]
          },
          "metadata": {
            "tags": []
          },
          "execution_count": 235
        }
      ]
    },
    {
      "cell_type": "markdown",
      "metadata": {
        "id": "b_l658x5ojLg"
      },
      "source": [
        "## Power Consumption prediction"
      ]
    },
    {
      "cell_type": "code",
      "metadata": {
        "id": "VQUwrugDoh3v"
      },
      "source": [
        "def clean_data(df, skiprows = 0):\n",
        "    df_weather = df\n",
        "    df_weather = df_weather.drop(columns=['Hour', 'Minute'])\n",
        "    df_weather = df_weather[df_weather.DNI != 0]\n",
        "\n",
        "    #Take mean, max and min for each DNI in DataFrame and mean for everything else\n",
        "    \n",
        "    #Take mean, max and min for each DNI and Temperature in DataFrame and mean for everything else\n",
        "    max_temp = df_weather.groupby(['Year', 'Month', 'Day']).max().reset_index()['Temperature']\n",
        "    min_temp = df_weather.groupby(['Year', 'Month', 'Day']).min().reset_index()['Temperature']\n",
        "    \n",
        "    max_dni = df_weather.groupby(['Year', 'Month', 'Day']).max().reset_index()['DNI']\n",
        "    min_dni = df_weather.groupby(['Year', 'Month', 'Day']).min().reset_index()['DNI']\n",
        "    \n",
        "    df_weather = pd.DataFrame(df_weather.groupby(['Year', 'Month', 'Day']).mean().reset_index())\n",
        "    \n",
        "    df_weather.insert(4, 'DNI Max', max_dni)\n",
        "    df_weather.insert(5, 'DNI Min', min_dni)\n",
        "    df_weather.insert(11, 'Temp Max', max_temp)\n",
        "    df_weather.insert(12, 'Temp Min', min_temp)\n",
        "\n",
        "    return df_weather"
      ],
      "execution_count": null,
      "outputs": []
    },
    {
      "cell_type": "code",
      "metadata": {
        "id": "1V-av6UyotkL"
      },
      "source": [
        "def training_prep(data, square_feet, building_type):\n",
        "    data = data.loc[:, ['Year', 'Month', 'Day', 'DNI', 'DNI Max', 'DNI Min', 'Wind Speed', 'Precipitable Water', 'Wind Direction', 'Relative Humidity', 'Temperature', 'Temp Max', 'Temp Min', 'Pressure']]\n",
        "    data.loc[:, 'Weekday'] = get_weekday2(data['Year'], data['Month'], data['Day'])\n",
        "    data = data.drop(['Wind Direction'], axis=1)\n",
        "    data.loc[:, 'Square Feet'] = square_feet\n",
        "    data.loc[:, 'Type'] = building_type\n",
        "    return data"
      ],
      "execution_count": null,
      "outputs": []
    },
    {
      "cell_type": "code",
      "metadata": {
        "colab": {
          "base_uri": "https://localhost:8080/",
          "height": 195
        },
        "id": "sEhYu2Syouqe",
        "outputId": "c4e1b2f2-5881-4cb5-986a-0f662304a021"
      },
      "source": [
        "#Taking Lawson Building: 10700 square feet and classroom (0)\n",
        "uni_df = training_prep(clean_data(df_weather), 10700, 0)\n",
        "uni_df.head()"
      ],
      "execution_count": null,
      "outputs": [
        {
          "output_type": "execute_result",
          "data": {
            "text/html": [
              "<div>\n",
              "<style scoped>\n",
              "    .dataframe tbody tr th:only-of-type {\n",
              "        vertical-align: middle;\n",
              "    }\n",
              "\n",
              "    .dataframe tbody tr th {\n",
              "        vertical-align: top;\n",
              "    }\n",
              "\n",
              "    .dataframe thead th {\n",
              "        text-align: right;\n",
              "    }\n",
              "</style>\n",
              "<table border=\"1\" class=\"dataframe\">\n",
              "  <thead>\n",
              "    <tr style=\"text-align: right;\">\n",
              "      <th></th>\n",
              "      <th>Year</th>\n",
              "      <th>Month</th>\n",
              "      <th>Day</th>\n",
              "      <th>DNI</th>\n",
              "      <th>DNI Max</th>\n",
              "      <th>DNI Min</th>\n",
              "      <th>Wind Speed</th>\n",
              "      <th>Precipitable Water</th>\n",
              "      <th>Relative Humidity</th>\n",
              "      <th>Temperature</th>\n",
              "      <th>Temp Max</th>\n",
              "      <th>Temp Min</th>\n",
              "      <th>Pressure</th>\n",
              "      <th>Weekday</th>\n",
              "      <th>Square Feet</th>\n",
              "      <th>Type</th>\n",
              "    </tr>\n",
              "  </thead>\n",
              "  <tbody>\n",
              "    <tr>\n",
              "      <th>0</th>\n",
              "      <td>2019</td>\n",
              "      <td>1</td>\n",
              "      <td>1</td>\n",
              "      <td>8.0</td>\n",
              "      <td>8</td>\n",
              "      <td>8</td>\n",
              "      <td>2.500</td>\n",
              "      <td>0.900</td>\n",
              "      <td>88.7200</td>\n",
              "      <td>-0.500</td>\n",
              "      <td>-0.5</td>\n",
              "      <td>-0.5</td>\n",
              "      <td>1001.00</td>\n",
              "      <td>0</td>\n",
              "      <td>10700</td>\n",
              "      <td>0</td>\n",
              "    </tr>\n",
              "    <tr>\n",
              "      <th>1</th>\n",
              "      <td>2019</td>\n",
              "      <td>1</td>\n",
              "      <td>2</td>\n",
              "      <td>9.5</td>\n",
              "      <td>20</td>\n",
              "      <td>4</td>\n",
              "      <td>3.775</td>\n",
              "      <td>0.975</td>\n",
              "      <td>78.8375</td>\n",
              "      <td>1.325</td>\n",
              "      <td>2.1</td>\n",
              "      <td>-0.1</td>\n",
              "      <td>999.25</td>\n",
              "      <td>0</td>\n",
              "      <td>10700</td>\n",
              "      <td>0</td>\n",
              "    </tr>\n",
              "    <tr>\n",
              "      <th>2</th>\n",
              "      <td>2019</td>\n",
              "      <td>1</td>\n",
              "      <td>3</td>\n",
              "      <td>702.1</td>\n",
              "      <td>934</td>\n",
              "      <td>83</td>\n",
              "      <td>3.760</td>\n",
              "      <td>0.600</td>\n",
              "      <td>68.0630</td>\n",
              "      <td>1.170</td>\n",
              "      <td>3.9</td>\n",
              "      <td>-3.0</td>\n",
              "      <td>995.40</td>\n",
              "      <td>0</td>\n",
              "      <td>10700</td>\n",
              "      <td>0</td>\n",
              "    </tr>\n",
              "    <tr>\n",
              "      <th>3</th>\n",
              "      <td>2019</td>\n",
              "      <td>1</td>\n",
              "      <td>4</td>\n",
              "      <td>423.4</td>\n",
              "      <td>823</td>\n",
              "      <td>106</td>\n",
              "      <td>1.000</td>\n",
              "      <td>0.860</td>\n",
              "      <td>70.5130</td>\n",
              "      <td>3.740</td>\n",
              "      <td>6.3</td>\n",
              "      <td>-0.4</td>\n",
              "      <td>986.20</td>\n",
              "      <td>0</td>\n",
              "      <td>10700</td>\n",
              "      <td>0</td>\n",
              "    </tr>\n",
              "    <tr>\n",
              "      <th>4</th>\n",
              "      <td>2019</td>\n",
              "      <td>1</td>\n",
              "      <td>5</td>\n",
              "      <td>632.7</td>\n",
              "      <td>902</td>\n",
              "      <td>101</td>\n",
              "      <td>3.320</td>\n",
              "      <td>1.100</td>\n",
              "      <td>82.5930</td>\n",
              "      <td>5.850</td>\n",
              "      <td>10.1</td>\n",
              "      <td>-0.3</td>\n",
              "      <td>990.50</td>\n",
              "      <td>1</td>\n",
              "      <td>10700</td>\n",
              "      <td>0</td>\n",
              "    </tr>\n",
              "  </tbody>\n",
              "</table>\n",
              "</div>"
            ],
            "text/plain": [
              "   Year  Month  Day    DNI  ...  Pressure  Weekday  Square Feet  Type\n",
              "0  2019      1    1    8.0  ...   1001.00        0        10700     0\n",
              "1  2019      1    2    9.5  ...    999.25        0        10700     0\n",
              "2  2019      1    3  702.1  ...    995.40        0        10700     0\n",
              "3  2019      1    4  423.4  ...    986.20        0        10700     0\n",
              "4  2019      1    5  632.7  ...    990.50        1        10700     0\n",
              "\n",
              "[5 rows x 16 columns]"
            ]
          },
          "metadata": {
            "tags": []
          },
          "execution_count": 238
        }
      ]
    },
    {
      "cell_type": "code",
      "metadata": {
        "colab": {
          "base_uri": "https://localhost:8080/",
          "height": 284
        },
        "id": "6V3g6dcSpS-g",
        "outputId": "e6de3033-a4a1-47cb-a16c-a4b3eeeb95c0"
      },
      "source": [
        "#Running model on data\n",
        "x_scaled = uni_x_scaler.transform(uni_df)\n",
        "y_scaled = uni_model.predict(x_scaled)\n",
        "y_result = uni_y_scaler.inverse_transform(y_scaled)\n",
        "pd.DataFrame(y_result).describe()"
      ],
      "execution_count": null,
      "outputs": [
        {
          "output_type": "execute_result",
          "data": {
            "text/html": [
              "<div>\n",
              "<style scoped>\n",
              "    .dataframe tbody tr th:only-of-type {\n",
              "        vertical-align: middle;\n",
              "    }\n",
              "\n",
              "    .dataframe tbody tr th {\n",
              "        vertical-align: top;\n",
              "    }\n",
              "\n",
              "    .dataframe thead th {\n",
              "        text-align: right;\n",
              "    }\n",
              "</style>\n",
              "<table border=\"1\" class=\"dataframe\">\n",
              "  <thead>\n",
              "    <tr style=\"text-align: right;\">\n",
              "      <th></th>\n",
              "      <th>0</th>\n",
              "    </tr>\n",
              "  </thead>\n",
              "  <tbody>\n",
              "    <tr>\n",
              "      <th>count</th>\n",
              "      <td>364.000000</td>\n",
              "    </tr>\n",
              "    <tr>\n",
              "      <th>mean</th>\n",
              "      <td>830.789246</td>\n",
              "    </tr>\n",
              "    <tr>\n",
              "      <th>std</th>\n",
              "      <td>107.085663</td>\n",
              "    </tr>\n",
              "    <tr>\n",
              "      <th>min</th>\n",
              "      <td>633.321167</td>\n",
              "    </tr>\n",
              "    <tr>\n",
              "      <th>25%</th>\n",
              "      <td>765.372864</td>\n",
              "    </tr>\n",
              "    <tr>\n",
              "      <th>50%</th>\n",
              "      <td>814.083862</td>\n",
              "    </tr>\n",
              "    <tr>\n",
              "      <th>75%</th>\n",
              "      <td>882.194519</td>\n",
              "    </tr>\n",
              "    <tr>\n",
              "      <th>max</th>\n",
              "      <td>1404.280884</td>\n",
              "    </tr>\n",
              "  </tbody>\n",
              "</table>\n",
              "</div>"
            ],
            "text/plain": [
              "                 0\n",
              "count   364.000000\n",
              "mean    830.789246\n",
              "std     107.085663\n",
              "min     633.321167\n",
              "25%     765.372864\n",
              "50%     814.083862\n",
              "75%     882.194519\n",
              "max    1404.280884"
            ]
          },
          "metadata": {
            "tags": []
          },
          "execution_count": 239
        }
      ]
    },
    {
      "cell_type": "code",
      "metadata": {
        "id": "K_mBJbYqrQcw"
      },
      "source": [
        "#Storing power production value in new variableb \n",
        "uni_power_lawson =  y_result"
      ],
      "execution_count": null,
      "outputs": []
    },
    {
      "cell_type": "code",
      "metadata": {
        "id": "yQfvAqB6rZxD"
      },
      "source": [
        "def clean_data(df, skiprows = 0):\n",
        "    df_weather = df\n",
        "    df_weather = df_weather.drop(columns=['Hour', 'Minute'])\n",
        "    df_weather = df_weather[df_weather.DNI != 0]\n",
        "\n",
        "    #Take mean, max and min for each DNI in DataFrame and mean for everything else\n",
        "    \n",
        "    #Take mean, max and min for each DNI and Temperature in DataFrame and mean for everything else\n",
        "    max_temp = df_weather.groupby(['Year', 'Month', 'Day']).max().reset_index()['Temperature']\n",
        "    min_temp = df_weather.groupby(['Year', 'Month', 'Day']).min().reset_index()['Temperature']\n",
        "    \n",
        "    max_dni = df_weather.groupby(['Year', 'Month', 'Day']).max().reset_index()['DNI']\n",
        "    min_dni = df_weather.groupby(['Year', 'Month', 'Day']).min().reset_index()['DNI']\n",
        "    \n",
        "    df_weather = pd.DataFrame(df_weather.groupby(['Year', 'Month', 'Day']).mean().reset_index())\n",
        "    \n",
        "    df_weather.insert(4, 'DNI Max', max_dni)\n",
        "    df_weather.insert(5, 'DNI Min', min_dni)\n",
        "    df_weather.insert(11, 'Temp Max', max_temp)\n",
        "    df_weather.insert(12, 'Temp Min', min_temp)\n",
        "\n",
        "    return df_weather"
      ],
      "execution_count": null,
      "outputs": []
    },
    {
      "cell_type": "code",
      "metadata": {
        "id": "8AR_fPz2rZxD"
      },
      "source": [
        "def training_prep(data, square_feet, building_type):\n",
        "    data = data.loc[:, ['Year', 'Month', 'Day', 'DNI', 'DNI Max', 'DNI Min', 'Wind Speed', 'Precipitable Water', 'Wind Direction', 'Relative Humidity', 'Temperature', 'Temp Max', 'Temp Min', 'Pressure']]\n",
        "    data.loc[:, 'Weekday'] = get_weekday2(data['Year'], data['Month'], data['Day'])\n",
        "    data = data.drop(['Wind Direction'], axis=1)\n",
        "    data.loc[:, 'Square Feet'] = square_feet\n",
        "    data.loc[:, 'Type'] = building_type\n",
        "    return data"
      ],
      "execution_count": null,
      "outputs": []
    },
    {
      "cell_type": "code",
      "metadata": {
        "colab": {
          "base_uri": "https://localhost:8080/",
          "height": 195
        },
        "id": "HqXf7OTZrZxD",
        "outputId": "7373a1ef-0d73-4159-cf2c-83d1e3b98c6c"
      },
      "source": [
        "#Taking Lawson Building: 10700 square feet and classroom (0)\n",
        "uni_df = training_prep(clean_data(df_weather), 10700, 0)\n",
        "uni_df.head()"
      ],
      "execution_count": null,
      "outputs": [
        {
          "output_type": "execute_result",
          "data": {
            "text/html": [
              "<div>\n",
              "<style scoped>\n",
              "    .dataframe tbody tr th:only-of-type {\n",
              "        vertical-align: middle;\n",
              "    }\n",
              "\n",
              "    .dataframe tbody tr th {\n",
              "        vertical-align: top;\n",
              "    }\n",
              "\n",
              "    .dataframe thead th {\n",
              "        text-align: right;\n",
              "    }\n",
              "</style>\n",
              "<table border=\"1\" class=\"dataframe\">\n",
              "  <thead>\n",
              "    <tr style=\"text-align: right;\">\n",
              "      <th></th>\n",
              "      <th>Year</th>\n",
              "      <th>Month</th>\n",
              "      <th>Day</th>\n",
              "      <th>DNI</th>\n",
              "      <th>DNI Max</th>\n",
              "      <th>DNI Min</th>\n",
              "      <th>Wind Speed</th>\n",
              "      <th>Precipitable Water</th>\n",
              "      <th>Relative Humidity</th>\n",
              "      <th>Temperature</th>\n",
              "      <th>Temp Max</th>\n",
              "      <th>Temp Min</th>\n",
              "      <th>Pressure</th>\n",
              "      <th>Weekday</th>\n",
              "      <th>Square Feet</th>\n",
              "      <th>Type</th>\n",
              "    </tr>\n",
              "  </thead>\n",
              "  <tbody>\n",
              "    <tr>\n",
              "      <th>0</th>\n",
              "      <td>2019</td>\n",
              "      <td>1</td>\n",
              "      <td>1</td>\n",
              "      <td>8.0</td>\n",
              "      <td>8</td>\n",
              "      <td>8</td>\n",
              "      <td>2.500</td>\n",
              "      <td>0.900</td>\n",
              "      <td>88.7200</td>\n",
              "      <td>-0.500</td>\n",
              "      <td>-0.5</td>\n",
              "      <td>-0.5</td>\n",
              "      <td>1001.00</td>\n",
              "      <td>0</td>\n",
              "      <td>10700</td>\n",
              "      <td>0</td>\n",
              "    </tr>\n",
              "    <tr>\n",
              "      <th>1</th>\n",
              "      <td>2019</td>\n",
              "      <td>1</td>\n",
              "      <td>2</td>\n",
              "      <td>9.5</td>\n",
              "      <td>20</td>\n",
              "      <td>4</td>\n",
              "      <td>3.775</td>\n",
              "      <td>0.975</td>\n",
              "      <td>78.8375</td>\n",
              "      <td>1.325</td>\n",
              "      <td>2.1</td>\n",
              "      <td>-0.1</td>\n",
              "      <td>999.25</td>\n",
              "      <td>0</td>\n",
              "      <td>10700</td>\n",
              "      <td>0</td>\n",
              "    </tr>\n",
              "    <tr>\n",
              "      <th>2</th>\n",
              "      <td>2019</td>\n",
              "      <td>1</td>\n",
              "      <td>3</td>\n",
              "      <td>702.1</td>\n",
              "      <td>934</td>\n",
              "      <td>83</td>\n",
              "      <td>3.760</td>\n",
              "      <td>0.600</td>\n",
              "      <td>68.0630</td>\n",
              "      <td>1.170</td>\n",
              "      <td>3.9</td>\n",
              "      <td>-3.0</td>\n",
              "      <td>995.40</td>\n",
              "      <td>0</td>\n",
              "      <td>10700</td>\n",
              "      <td>0</td>\n",
              "    </tr>\n",
              "    <tr>\n",
              "      <th>3</th>\n",
              "      <td>2019</td>\n",
              "      <td>1</td>\n",
              "      <td>4</td>\n",
              "      <td>423.4</td>\n",
              "      <td>823</td>\n",
              "      <td>106</td>\n",
              "      <td>1.000</td>\n",
              "      <td>0.860</td>\n",
              "      <td>70.5130</td>\n",
              "      <td>3.740</td>\n",
              "      <td>6.3</td>\n",
              "      <td>-0.4</td>\n",
              "      <td>986.20</td>\n",
              "      <td>0</td>\n",
              "      <td>10700</td>\n",
              "      <td>0</td>\n",
              "    </tr>\n",
              "    <tr>\n",
              "      <th>4</th>\n",
              "      <td>2019</td>\n",
              "      <td>1</td>\n",
              "      <td>5</td>\n",
              "      <td>632.7</td>\n",
              "      <td>902</td>\n",
              "      <td>101</td>\n",
              "      <td>3.320</td>\n",
              "      <td>1.100</td>\n",
              "      <td>82.5930</td>\n",
              "      <td>5.850</td>\n",
              "      <td>10.1</td>\n",
              "      <td>-0.3</td>\n",
              "      <td>990.50</td>\n",
              "      <td>1</td>\n",
              "      <td>10700</td>\n",
              "      <td>0</td>\n",
              "    </tr>\n",
              "  </tbody>\n",
              "</table>\n",
              "</div>"
            ],
            "text/plain": [
              "   Year  Month  Day    DNI  ...  Pressure  Weekday  Square Feet  Type\n",
              "0  2019      1    1    8.0  ...   1001.00        0        10700     0\n",
              "1  2019      1    2    9.5  ...    999.25        0        10700     0\n",
              "2  2019      1    3  702.1  ...    995.40        0        10700     0\n",
              "3  2019      1    4  423.4  ...    986.20        0        10700     0\n",
              "4  2019      1    5  632.7  ...    990.50        1        10700     0\n",
              "\n",
              "[5 rows x 16 columns]"
            ]
          },
          "metadata": {
            "tags": []
          },
          "execution_count": 243
        }
      ]
    },
    {
      "cell_type": "code",
      "metadata": {
        "colab": {
          "base_uri": "https://localhost:8080/",
          "height": 284
        },
        "id": "eSffVgKVrZxD",
        "outputId": "995d8840-41b7-4504-ca4f-50aac440d9eb"
      },
      "source": [
        "#Running model on data\n",
        "x_scaled = uni_x_scaler.transform(uni_df)\n",
        "y_scaled = uni_model.predict(x_scaled)\n",
        "y_result = uni_y_scaler.inverse_transform(y_scaled)\n",
        "pd.DataFrame(y_result).describe()"
      ],
      "execution_count": null,
      "outputs": [
        {
          "output_type": "execute_result",
          "data": {
            "text/html": [
              "<div>\n",
              "<style scoped>\n",
              "    .dataframe tbody tr th:only-of-type {\n",
              "        vertical-align: middle;\n",
              "    }\n",
              "\n",
              "    .dataframe tbody tr th {\n",
              "        vertical-align: top;\n",
              "    }\n",
              "\n",
              "    .dataframe thead th {\n",
              "        text-align: right;\n",
              "    }\n",
              "</style>\n",
              "<table border=\"1\" class=\"dataframe\">\n",
              "  <thead>\n",
              "    <tr style=\"text-align: right;\">\n",
              "      <th></th>\n",
              "      <th>0</th>\n",
              "    </tr>\n",
              "  </thead>\n",
              "  <tbody>\n",
              "    <tr>\n",
              "      <th>count</th>\n",
              "      <td>364.000000</td>\n",
              "    </tr>\n",
              "    <tr>\n",
              "      <th>mean</th>\n",
              "      <td>830.789246</td>\n",
              "    </tr>\n",
              "    <tr>\n",
              "      <th>std</th>\n",
              "      <td>107.085663</td>\n",
              "    </tr>\n",
              "    <tr>\n",
              "      <th>min</th>\n",
              "      <td>633.321167</td>\n",
              "    </tr>\n",
              "    <tr>\n",
              "      <th>25%</th>\n",
              "      <td>765.372864</td>\n",
              "    </tr>\n",
              "    <tr>\n",
              "      <th>50%</th>\n",
              "      <td>814.083862</td>\n",
              "    </tr>\n",
              "    <tr>\n",
              "      <th>75%</th>\n",
              "      <td>882.194519</td>\n",
              "    </tr>\n",
              "    <tr>\n",
              "      <th>max</th>\n",
              "      <td>1404.280884</td>\n",
              "    </tr>\n",
              "  </tbody>\n",
              "</table>\n",
              "</div>"
            ],
            "text/plain": [
              "                 0\n",
              "count   364.000000\n",
              "mean    830.789246\n",
              "std     107.085663\n",
              "min     633.321167\n",
              "25%     765.372864\n",
              "50%     814.083862\n",
              "75%     882.194519\n",
              "max    1404.280884"
            ]
          },
          "metadata": {
            "tags": []
          },
          "execution_count": 244
        }
      ]
    },
    {
      "cell_type": "code",
      "metadata": {
        "id": "nrJ10320rZxE"
      },
      "source": [
        "#Storing power consumption for lawson value in new variable \n",
        "uni_power_lawson =  y_result"
      ],
      "execution_count": null,
      "outputs": []
    },
    {
      "cell_type": "markdown",
      "metadata": {
        "id": "PSugsVOqrwnr"
      },
      "source": [
        "## Solar Power Prediction data"
      ]
    },
    {
      "cell_type": "code",
      "metadata": {
        "id": "7IU2IqDIrzpL"
      },
      "source": [
        "def clean_data(df, skiprows = 0):\n",
        "    df_weather = df\n",
        "    df_weather = df_weather.drop(columns=['Hour', 'Minute'])\n",
        "    df_weather = df_weather[df_weather.DNI != 0]\n",
        "\n",
        "    #Take mean, max and min for each DNI in DataFrame and mean for everything else\n",
        "    \n",
        "    #Take mean, max and min for each DNI and Temperature in DataFrame and mean for everything else\n",
        "    max_temp = df_weather.groupby(['Year', 'Month', 'Day']).max().reset_index()['Temperature']\n",
        "    min_temp = df_weather.groupby(['Year', 'Month', 'Day']).min().reset_index()['Temperature']\n",
        "    \n",
        "    max_dni = df_weather.groupby(['Year', 'Month', 'Day']).max().reset_index()['DNI']\n",
        "    min_dni = df_weather.groupby(['Year', 'Month', 'Day']).min().reset_index()['DNI']\n",
        "    \n",
        "    df_weather = pd.DataFrame(df_weather.groupby(['Year', 'Month', 'Day']).mean().reset_index())\n",
        "    \n",
        "    df_weather.insert(4, 'DNI Max', max_dni)\n",
        "    df_weather.insert(5, 'DNI Min', min_dni)\n",
        "    df_weather.insert(11, 'Temp Max', max_temp)\n",
        "    df_weather.insert(12, 'Temp Min', min_temp)\n",
        "\n",
        "    return df_weather"
      ],
      "execution_count": null,
      "outputs": []
    },
    {
      "cell_type": "code",
      "metadata": {
        "id": "wK8vQDpfrzpM"
      },
      "source": [
        "def training_prep(data, square_feet, building_type):\n",
        "    data = data.loc[:, ['Year', 'Month', 'Day', 'DNI', 'DNI Max', 'DNI Min', 'Wind Speed', 'Precipitable Water', 'Wind Direction', 'Relative Humidity', 'Temperature', 'Temp Max', 'Temp Min', 'Pressure']]\n",
        "    data.loc[:, 'Weekday'] = get_weekday2(data['Year'], data['Month'], data['Day'])\n",
        "    data = data.drop(['Wind Direction'], axis=1)\n",
        "    data.loc[:, 'Square Feet'] = square_feet\n",
        "    data.loc[:, 'Type'] = building_type\n",
        "    return data"
      ],
      "execution_count": null,
      "outputs": []
    },
    {
      "cell_type": "code",
      "metadata": {
        "colab": {
          "base_uri": "https://localhost:8080/",
          "height": 195
        },
        "id": "WQ1Rf5z4rzpM",
        "outputId": "4049c299-cba4-4726-a8fc-6adebf7a9fd9"
      },
      "source": [
        "#Taking Lawson Building: 10700 square feet and classroom (0)\n",
        "uni_df = training_prep(clean_data(df_weather), 10700, 0)\n",
        "uni_df.head()"
      ],
      "execution_count": null,
      "outputs": [
        {
          "output_type": "execute_result",
          "data": {
            "text/html": [
              "<div>\n",
              "<style scoped>\n",
              "    .dataframe tbody tr th:only-of-type {\n",
              "        vertical-align: middle;\n",
              "    }\n",
              "\n",
              "    .dataframe tbody tr th {\n",
              "        vertical-align: top;\n",
              "    }\n",
              "\n",
              "    .dataframe thead th {\n",
              "        text-align: right;\n",
              "    }\n",
              "</style>\n",
              "<table border=\"1\" class=\"dataframe\">\n",
              "  <thead>\n",
              "    <tr style=\"text-align: right;\">\n",
              "      <th></th>\n",
              "      <th>Year</th>\n",
              "      <th>Month</th>\n",
              "      <th>Day</th>\n",
              "      <th>DNI</th>\n",
              "      <th>DNI Max</th>\n",
              "      <th>DNI Min</th>\n",
              "      <th>Wind Speed</th>\n",
              "      <th>Precipitable Water</th>\n",
              "      <th>Relative Humidity</th>\n",
              "      <th>Temperature</th>\n",
              "      <th>Temp Max</th>\n",
              "      <th>Temp Min</th>\n",
              "      <th>Pressure</th>\n",
              "      <th>Weekday</th>\n",
              "      <th>Square Feet</th>\n",
              "      <th>Type</th>\n",
              "    </tr>\n",
              "  </thead>\n",
              "  <tbody>\n",
              "    <tr>\n",
              "      <th>0</th>\n",
              "      <td>2019</td>\n",
              "      <td>1</td>\n",
              "      <td>1</td>\n",
              "      <td>8.0</td>\n",
              "      <td>8</td>\n",
              "      <td>8</td>\n",
              "      <td>2.500</td>\n",
              "      <td>0.900</td>\n",
              "      <td>88.7200</td>\n",
              "      <td>-0.500</td>\n",
              "      <td>-0.5</td>\n",
              "      <td>-0.5</td>\n",
              "      <td>1001.00</td>\n",
              "      <td>0</td>\n",
              "      <td>10700</td>\n",
              "      <td>0</td>\n",
              "    </tr>\n",
              "    <tr>\n",
              "      <th>1</th>\n",
              "      <td>2019</td>\n",
              "      <td>1</td>\n",
              "      <td>2</td>\n",
              "      <td>9.5</td>\n",
              "      <td>20</td>\n",
              "      <td>4</td>\n",
              "      <td>3.775</td>\n",
              "      <td>0.975</td>\n",
              "      <td>78.8375</td>\n",
              "      <td>1.325</td>\n",
              "      <td>2.1</td>\n",
              "      <td>-0.1</td>\n",
              "      <td>999.25</td>\n",
              "      <td>0</td>\n",
              "      <td>10700</td>\n",
              "      <td>0</td>\n",
              "    </tr>\n",
              "    <tr>\n",
              "      <th>2</th>\n",
              "      <td>2019</td>\n",
              "      <td>1</td>\n",
              "      <td>3</td>\n",
              "      <td>702.1</td>\n",
              "      <td>934</td>\n",
              "      <td>83</td>\n",
              "      <td>3.760</td>\n",
              "      <td>0.600</td>\n",
              "      <td>68.0630</td>\n",
              "      <td>1.170</td>\n",
              "      <td>3.9</td>\n",
              "      <td>-3.0</td>\n",
              "      <td>995.40</td>\n",
              "      <td>0</td>\n",
              "      <td>10700</td>\n",
              "      <td>0</td>\n",
              "    </tr>\n",
              "    <tr>\n",
              "      <th>3</th>\n",
              "      <td>2019</td>\n",
              "      <td>1</td>\n",
              "      <td>4</td>\n",
              "      <td>423.4</td>\n",
              "      <td>823</td>\n",
              "      <td>106</td>\n",
              "      <td>1.000</td>\n",
              "      <td>0.860</td>\n",
              "      <td>70.5130</td>\n",
              "      <td>3.740</td>\n",
              "      <td>6.3</td>\n",
              "      <td>-0.4</td>\n",
              "      <td>986.20</td>\n",
              "      <td>0</td>\n",
              "      <td>10700</td>\n",
              "      <td>0</td>\n",
              "    </tr>\n",
              "    <tr>\n",
              "      <th>4</th>\n",
              "      <td>2019</td>\n",
              "      <td>1</td>\n",
              "      <td>5</td>\n",
              "      <td>632.7</td>\n",
              "      <td>902</td>\n",
              "      <td>101</td>\n",
              "      <td>3.320</td>\n",
              "      <td>1.100</td>\n",
              "      <td>82.5930</td>\n",
              "      <td>5.850</td>\n",
              "      <td>10.1</td>\n",
              "      <td>-0.3</td>\n",
              "      <td>990.50</td>\n",
              "      <td>1</td>\n",
              "      <td>10700</td>\n",
              "      <td>0</td>\n",
              "    </tr>\n",
              "  </tbody>\n",
              "</table>\n",
              "</div>"
            ],
            "text/plain": [
              "   Year  Month  Day    DNI  ...  Pressure  Weekday  Square Feet  Type\n",
              "0  2019      1    1    8.0  ...   1001.00        0        10700     0\n",
              "1  2019      1    2    9.5  ...    999.25        0        10700     0\n",
              "2  2019      1    3  702.1  ...    995.40        0        10700     0\n",
              "3  2019      1    4  423.4  ...    986.20        0        10700     0\n",
              "4  2019      1    5  632.7  ...    990.50        1        10700     0\n",
              "\n",
              "[5 rows x 16 columns]"
            ]
          },
          "metadata": {
            "tags": []
          },
          "execution_count": 248
        }
      ]
    },
    {
      "cell_type": "code",
      "metadata": {
        "colab": {
          "base_uri": "https://localhost:8080/",
          "height": 284
        },
        "id": "n47LM4OvrzpM",
        "outputId": "d380e9cd-cf66-40ca-d2e0-01c2f5564b07"
      },
      "source": [
        "#Running model on data\n",
        "x_scaled = uni_x_scaler.transform(uni_df)\n",
        "y_scaled = uni_model.predict(x_scaled)\n",
        "y_result = uni_y_scaler.inverse_transform(y_scaled)\n",
        "pd.DataFrame(y_result).describe()"
      ],
      "execution_count": null,
      "outputs": [
        {
          "output_type": "execute_result",
          "data": {
            "text/html": [
              "<div>\n",
              "<style scoped>\n",
              "    .dataframe tbody tr th:only-of-type {\n",
              "        vertical-align: middle;\n",
              "    }\n",
              "\n",
              "    .dataframe tbody tr th {\n",
              "        vertical-align: top;\n",
              "    }\n",
              "\n",
              "    .dataframe thead th {\n",
              "        text-align: right;\n",
              "    }\n",
              "</style>\n",
              "<table border=\"1\" class=\"dataframe\">\n",
              "  <thead>\n",
              "    <tr style=\"text-align: right;\">\n",
              "      <th></th>\n",
              "      <th>0</th>\n",
              "    </tr>\n",
              "  </thead>\n",
              "  <tbody>\n",
              "    <tr>\n",
              "      <th>count</th>\n",
              "      <td>364.000000</td>\n",
              "    </tr>\n",
              "    <tr>\n",
              "      <th>mean</th>\n",
              "      <td>830.789246</td>\n",
              "    </tr>\n",
              "    <tr>\n",
              "      <th>std</th>\n",
              "      <td>107.085663</td>\n",
              "    </tr>\n",
              "    <tr>\n",
              "      <th>min</th>\n",
              "      <td>633.321167</td>\n",
              "    </tr>\n",
              "    <tr>\n",
              "      <th>25%</th>\n",
              "      <td>765.372864</td>\n",
              "    </tr>\n",
              "    <tr>\n",
              "      <th>50%</th>\n",
              "      <td>814.083862</td>\n",
              "    </tr>\n",
              "    <tr>\n",
              "      <th>75%</th>\n",
              "      <td>882.194519</td>\n",
              "    </tr>\n",
              "    <tr>\n",
              "      <th>max</th>\n",
              "      <td>1404.280884</td>\n",
              "    </tr>\n",
              "  </tbody>\n",
              "</table>\n",
              "</div>"
            ],
            "text/plain": [
              "                 0\n",
              "count   364.000000\n",
              "mean    830.789246\n",
              "std     107.085663\n",
              "min     633.321167\n",
              "25%     765.372864\n",
              "50%     814.083862\n",
              "75%     882.194519\n",
              "max    1404.280884"
            ]
          },
          "metadata": {
            "tags": []
          },
          "execution_count": 249
        }
      ]
    },
    {
      "cell_type": "code",
      "metadata": {
        "id": "h9cV_cXCrzpM"
      },
      "source": [
        "#Storing power production value in new variableb \n",
        "uni_power_lawson =  y_result"
      ],
      "execution_count": null,
      "outputs": []
    },
    {
      "cell_type": "code",
      "metadata": {
        "id": "xGUPEhRZrzpN"
      },
      "source": [
        "def sol_clean_data(df, skiprows = 0):\n",
        "    df_weather = df\n",
        "    df_weather = df_weather.drop(columns=['Hour', 'Minute'])\n",
        "    df_weather = df_weather[df_weather.DNI != 0]\n",
        "\n",
        "    #Take mean, max and min for each DNI in DataFrame and mean for everything else\n",
        "    \n",
        "    #Take mean, max and min for each DNI and Temperature in DataFrame and mean for everything else\n",
        "    max_temp = df_weather.groupby(['Year', 'Month', 'Day']).max().reset_index()['Temperature']\n",
        "    min_temp = df_weather.groupby(['Year', 'Month', 'Day']).min().reset_index()['Temperature']\n",
        "    \n",
        "    max_dni = df_weather.groupby(['Year', 'Month', 'Day']).max().reset_index()['DNI']\n",
        "    min_dni = df_weather.groupby(['Year', 'Month', 'Day']).min().reset_index()['DNI']\n",
        "    \n",
        "    df_weather = pd.DataFrame(df_weather.groupby(['Year', 'Month', 'Day']).mean().reset_index())\n",
        "    \n",
        "    df_weather.insert(4, 'DNI Max', max_dni)\n",
        "    df_weather.insert(5, 'DNI Min', min_dni)\n",
        "    df_weather.insert(11, 'Temp Max', max_temp)\n",
        "    df_weather.insert(12, 'Temp Min', min_temp)\n",
        "\n",
        "    return df_weather"
      ],
      "execution_count": null,
      "outputs": []
    },
    {
      "cell_type": "code",
      "metadata": {
        "id": "X_Ckp2CDrzpN"
      },
      "source": [
        "def sol_training_prep(data):\n",
        "    data = data.loc[:, ['DHI','DNI Max', 'DNI Min', 'DNI', 'GHI', 'Clearsky DNI', 'Clearsky DHI', 'Clearsky GHI', 'Wind Speed', 'Precipitable Water', 'Relative Humidity', 'Temperature','Temp Max','Temp Min' ,'Pressure']]\n",
        "    return data"
      ],
      "execution_count": null,
      "outputs": []
    },
    {
      "cell_type": "code",
      "metadata": {
        "colab": {
          "base_uri": "https://localhost:8080/",
          "height": 195
        },
        "id": "OCRLajNArzpN",
        "outputId": "7ddd553d-902a-4313-8970-2bcdfa78ab71"
      },
      "source": [
        "#Taking Lawson Building: 10700 square feet and classroom (0)\n",
        "sol_df = sol_training_prep(sol_clean_data(df_weather))\n",
        "sol_df.head()"
      ],
      "execution_count": null,
      "outputs": [
        {
          "output_type": "execute_result",
          "data": {
            "text/html": [
              "<div>\n",
              "<style scoped>\n",
              "    .dataframe tbody tr th:only-of-type {\n",
              "        vertical-align: middle;\n",
              "    }\n",
              "\n",
              "    .dataframe tbody tr th {\n",
              "        vertical-align: top;\n",
              "    }\n",
              "\n",
              "    .dataframe thead th {\n",
              "        text-align: right;\n",
              "    }\n",
              "</style>\n",
              "<table border=\"1\" class=\"dataframe\">\n",
              "  <thead>\n",
              "    <tr style=\"text-align: right;\">\n",
              "      <th></th>\n",
              "      <th>DHI</th>\n",
              "      <th>DNI Max</th>\n",
              "      <th>DNI Min</th>\n",
              "      <th>DNI</th>\n",
              "      <th>GHI</th>\n",
              "      <th>Clearsky DNI</th>\n",
              "      <th>Clearsky DHI</th>\n",
              "      <th>Clearsky GHI</th>\n",
              "      <th>Wind Speed</th>\n",
              "      <th>Precipitable Water</th>\n",
              "      <th>Relative Humidity</th>\n",
              "      <th>Temperature</th>\n",
              "      <th>Temp Max</th>\n",
              "      <th>Temp Min</th>\n",
              "      <th>Pressure</th>\n",
              "    </tr>\n",
              "  </thead>\n",
              "  <tbody>\n",
              "    <tr>\n",
              "      <th>0</th>\n",
              "      <td>8.00</td>\n",
              "      <td>8</td>\n",
              "      <td>8</td>\n",
              "      <td>8.0</td>\n",
              "      <td>8.00</td>\n",
              "      <td>125.00</td>\n",
              "      <td>22.0</td>\n",
              "      <td>28.00</td>\n",
              "      <td>2.500</td>\n",
              "      <td>0.900</td>\n",
              "      <td>88.7200</td>\n",
              "      <td>-0.500</td>\n",
              "      <td>-0.5</td>\n",
              "      <td>-0.5</td>\n",
              "      <td>1001.00</td>\n",
              "    </tr>\n",
              "    <tr>\n",
              "      <th>1</th>\n",
              "      <td>75.25</td>\n",
              "      <td>20</td>\n",
              "      <td>4</td>\n",
              "      <td>9.5</td>\n",
              "      <td>77.75</td>\n",
              "      <td>586.25</td>\n",
              "      <td>72.5</td>\n",
              "      <td>289.75</td>\n",
              "      <td>3.775</td>\n",
              "      <td>0.975</td>\n",
              "      <td>78.8375</td>\n",
              "      <td>1.325</td>\n",
              "      <td>2.1</td>\n",
              "      <td>-0.1</td>\n",
              "      <td>999.25</td>\n",
              "    </tr>\n",
              "    <tr>\n",
              "      <th>2</th>\n",
              "      <td>43.30</td>\n",
              "      <td>934</td>\n",
              "      <td>83</td>\n",
              "      <td>702.1</td>\n",
              "      <td>273.10</td>\n",
              "      <td>702.10</td>\n",
              "      <td>43.3</td>\n",
              "      <td>273.10</td>\n",
              "      <td>3.760</td>\n",
              "      <td>0.600</td>\n",
              "      <td>68.0630</td>\n",
              "      <td>1.170</td>\n",
              "      <td>3.9</td>\n",
              "      <td>-3.0</td>\n",
              "      <td>995.40</td>\n",
              "    </tr>\n",
              "    <tr>\n",
              "      <th>3</th>\n",
              "      <td>73.60</td>\n",
              "      <td>823</td>\n",
              "      <td>106</td>\n",
              "      <td>423.4</td>\n",
              "      <td>211.10</td>\n",
              "      <td>689.00</td>\n",
              "      <td>44.6</td>\n",
              "      <td>270.70</td>\n",
              "      <td>1.000</td>\n",
              "      <td>0.860</td>\n",
              "      <td>70.5130</td>\n",
              "      <td>3.740</td>\n",
              "      <td>6.3</td>\n",
              "      <td>-0.4</td>\n",
              "      <td>986.20</td>\n",
              "    </tr>\n",
              "    <tr>\n",
              "      <th>4</th>\n",
              "      <td>46.60</td>\n",
              "      <td>902</td>\n",
              "      <td>101</td>\n",
              "      <td>632.7</td>\n",
              "      <td>264.30</td>\n",
              "      <td>676.50</td>\n",
              "      <td>44.9</td>\n",
              "      <td>268.80</td>\n",
              "      <td>3.320</td>\n",
              "      <td>1.100</td>\n",
              "      <td>82.5930</td>\n",
              "      <td>5.850</td>\n",
              "      <td>10.1</td>\n",
              "      <td>-0.3</td>\n",
              "      <td>990.50</td>\n",
              "    </tr>\n",
              "  </tbody>\n",
              "</table>\n",
              "</div>"
            ],
            "text/plain": [
              "     DHI  DNI Max  DNI Min    DNI  ...  Temperature  Temp Max  Temp Min  Pressure\n",
              "0   8.00        8        8    8.0  ...       -0.500      -0.5      -0.5   1001.00\n",
              "1  75.25       20        4    9.5  ...        1.325       2.1      -0.1    999.25\n",
              "2  43.30      934       83  702.1  ...        1.170       3.9      -3.0    995.40\n",
              "3  73.60      823      106  423.4  ...        3.740       6.3      -0.4    986.20\n",
              "4  46.60      902      101  632.7  ...        5.850      10.1      -0.3    990.50\n",
              "\n",
              "[5 rows x 15 columns]"
            ]
          },
          "metadata": {
            "tags": []
          },
          "execution_count": 253
        }
      ]
    },
    {
      "cell_type": "code",
      "metadata": {
        "colab": {
          "base_uri": "https://localhost:8080/",
          "height": 284
        },
        "id": "dAcO4KbwrzpO",
        "outputId": "d844b25e-cdfa-4eb4-cf0b-ee38c428e258"
      },
      "source": [
        "#Running model on data\n",
        "x_scaled = sol_x_scaler.transform(sol_df)\n",
        "y_scaled = sol_model.predict(x_scaled)\n",
        "y_result = sol_y_scaler.inverse_transform(y_scaled)\n",
        "pd.DataFrame(y_result).describe()"
      ],
      "execution_count": null,
      "outputs": [
        {
          "output_type": "execute_result",
          "data": {
            "text/html": [
              "<div>\n",
              "<style scoped>\n",
              "    .dataframe tbody tr th:only-of-type {\n",
              "        vertical-align: middle;\n",
              "    }\n",
              "\n",
              "    .dataframe tbody tr th {\n",
              "        vertical-align: top;\n",
              "    }\n",
              "\n",
              "    .dataframe thead th {\n",
              "        text-align: right;\n",
              "    }\n",
              "</style>\n",
              "<table border=\"1\" class=\"dataframe\">\n",
              "  <thead>\n",
              "    <tr style=\"text-align: right;\">\n",
              "      <th></th>\n",
              "      <th>0</th>\n",
              "    </tr>\n",
              "  </thead>\n",
              "  <tbody>\n",
              "    <tr>\n",
              "      <th>count</th>\n",
              "      <td>364.000000</td>\n",
              "    </tr>\n",
              "    <tr>\n",
              "      <th>mean</th>\n",
              "      <td>1.503357</td>\n",
              "    </tr>\n",
              "    <tr>\n",
              "      <th>std</th>\n",
              "      <td>0.470166</td>\n",
              "    </tr>\n",
              "    <tr>\n",
              "      <th>min</th>\n",
              "      <td>0.369194</td>\n",
              "    </tr>\n",
              "    <tr>\n",
              "      <th>25%</th>\n",
              "      <td>1.205906</td>\n",
              "    </tr>\n",
              "    <tr>\n",
              "      <th>50%</th>\n",
              "      <td>1.675509</td>\n",
              "    </tr>\n",
              "    <tr>\n",
              "      <th>75%</th>\n",
              "      <td>1.837819</td>\n",
              "    </tr>\n",
              "    <tr>\n",
              "      <th>max</th>\n",
              "      <td>2.289015</td>\n",
              "    </tr>\n",
              "  </tbody>\n",
              "</table>\n",
              "</div>"
            ],
            "text/plain": [
              "                0\n",
              "count  364.000000\n",
              "mean     1.503357\n",
              "std      0.470166\n",
              "min      0.369194\n",
              "25%      1.205906\n",
              "50%      1.675509\n",
              "75%      1.837819\n",
              "max      2.289015"
            ]
          },
          "metadata": {
            "tags": []
          },
          "execution_count": 254
        }
      ]
    },
    {
      "cell_type": "code",
      "metadata": {
        "id": "-UdkkDlqrzpO"
      },
      "source": [
        "#Storing Solar Production for Lawson value in new variable \n",
        "sol_power_lawson =  y_result"
      ],
      "execution_count": null,
      "outputs": []
    },
    {
      "cell_type": "markdown",
      "metadata": {
        "id": "uTc1iVAEtIhp"
      },
      "source": [
        "## Calculating necessary solar panels needed for Lawson Building"
      ]
    },
    {
      "cell_type": "code",
      "metadata": {
        "id": "3qC-eXwMtHYh"
      },
      "source": [
        "num_panels = uni_power_lawson / (sol_power_lawson * 24)"
      ],
      "execution_count": null,
      "outputs": []
    },
    {
      "cell_type": "code",
      "metadata": {
        "colab": {
          "base_uri": "https://localhost:8080/",
          "height": 265
        },
        "id": "Gn0VXqFnteyL",
        "outputId": "be10a438-5978-48ff-91dc-c862b2e94046"
      },
      "source": [
        "plt.hist(num_panels)\n",
        "plt.show()"
      ],
      "execution_count": null,
      "outputs": [
        {
          "output_type": "display_data",
          "data": {
            "image/png": "[encoded data removed]",
            "text/plain": [
              "<Figure size 432x288 with 1 Axes>"
            ]
          },
          "metadata": {
            "tags": [],
            "needs_background": "light"
          }
        }
      ]
    },
    {
      "cell_type": "code",
      "metadata": {
        "colab": {
          "base_uri": "https://localhost:8080/",
          "height": 254
        },
        "id": "cRF5-UqWtkoA",
        "outputId": "7476f983-4ba2-47b3-9128-a3b3f1f6dc8d"
      },
      "source": [
        "pd.DataFrame(num_panels).describe(percentiles = [0.9])"
      ],
      "execution_count": null,
      "outputs": [
        {
          "output_type": "execute_result",
          "data": {
            "text/html": [
              "<div>\n",
              "<style scoped>\n",
              "    .dataframe tbody tr th:only-of-type {\n",
              "        vertical-align: middle;\n",
              "    }\n",
              "\n",
              "    .dataframe tbody tr th {\n",
              "        vertical-align: top;\n",
              "    }\n",
              "\n",
              "    .dataframe thead th {\n",
              "        text-align: right;\n",
              "    }\n",
              "</style>\n",
              "<table border=\"1\" class=\"dataframe\">\n",
              "  <thead>\n",
              "    <tr style=\"text-align: right;\">\n",
              "      <th></th>\n",
              "      <th>0</th>\n",
              "    </tr>\n",
              "  </thead>\n",
              "  <tbody>\n",
              "    <tr>\n",
              "      <th>count</th>\n",
              "      <td>364.000000</td>\n",
              "    </tr>\n",
              "    <tr>\n",
              "      <th>mean</th>\n",
              "      <td>27.417871</td>\n",
              "    </tr>\n",
              "    <tr>\n",
              "      <th>std</th>\n",
              "      <td>15.615220</td>\n",
              "    </tr>\n",
              "    <tr>\n",
              "      <th>min</th>\n",
              "      <td>13.979444</td>\n",
              "    </tr>\n",
              "    <tr>\n",
              "      <th>50%</th>\n",
              "      <td>20.924948</td>\n",
              "    </tr>\n",
              "    <tr>\n",
              "      <th>90%</th>\n",
              "      <td>50.519134</td>\n",
              "    </tr>\n",
              "    <tr>\n",
              "      <th>max</th>\n",
              "      <td>94.551430</td>\n",
              "    </tr>\n",
              "  </tbody>\n",
              "</table>\n",
              "</div>"
            ],
            "text/plain": [
              "                0\n",
              "count  364.000000\n",
              "mean    27.417871\n",
              "std     15.615220\n",
              "min     13.979444\n",
              "50%     20.924948\n",
              "90%     50.519134\n",
              "max     94.551430"
            ]
          },
          "metadata": {
            "tags": []
          },
          "execution_count": 297
        }
      ]
    },
    {
      "cell_type": "code",
      "metadata": {
        "id": "Km3rIychvwSg"
      },
      "source": [
        "# Assuming cost of a single 310 Watt solar panel is 189.00$ and cost of normal electricity is 13.19 cents per kWh.\n",
        "power_consumption_per_year = np.sum(uni_power_lawson)\n",
        "sol_production_per_year = np.sum(sol_power_lawson) * 24\n",
        "max_lim = 500 # np.max(num_panels)\n",
        "sol_cost = 189\n",
        "electricity_cost = 0.131"
      ],
      "execution_count": null,
      "outputs": []
    },
    {
      "cell_type": "code",
      "metadata": {
        "colab": {
          "base_uri": "https://localhost:8080/"
        },
        "id": "7gQnDieAxCyQ",
        "outputId": "507fe6b0-b342-469a-b1b5-3fb977fc893c"
      },
      "source": [
        "#Calculating electricity cost \n",
        "excess_power = np.sum(uni_power_lawson) - (sol_production_per_year * max_lim)\n",
        "excess_cost = excess_power * electricity_cost\n",
        "\n",
        "#Calculating solar production cost\n",
        "solar_fixed_cost = sol_cost * max_lim\n",
        "\n",
        "#Total cost\n",
        "cost_of_buying = electricity_cost * power_consumption_per_year\n",
        "\n",
        "print(cost_of_buying)\n",
        "print(excess_cost + solar_fixed_cost)"
      ],
      "execution_count": null,
      "outputs": [
        {
          "output_type": "stream",
          "text": [
            "39615.357937500004\n",
            "-726117.9860566406\n"
          ],
          "name": "stdout"
        }
      ]
    },
    {
      "cell_type": "code",
      "metadata": {
        "id": "qb3FKcg-46d1"
      },
      "source": [
        "def years_till_breakeven(numps):\n",
        "  for i in range(0,11):\n",
        "    excess_power = (i * np.sum(uni_power_lawson)) - (sol_production_per_year * numps)\n",
        "    if (excess_power < 0):\n",
        "      excess_power = 0\n",
        "    excess_cost = excess_power * electricity_cost\n",
        "    cost_till_current_buying = i * cost_of_buying\n",
        "    cost_till_current_solar = (i * excess_cost) + (numps * sol_cost) \n",
        "    if cost_till_current_buying > cost_till_current_solar:\n",
        "      return i\n",
        "  return -1"
      ],
      "execution_count": null,
      "outputs": []
    },
    {
      "cell_type": "code",
      "metadata": {
        "colab": {
          "base_uri": "https://localhost:8080/",
          "height": 195
        },
        "id": "zpToiWGrySfk",
        "outputId": "49cd86f9-7fe8-4cd7-862f-49990b275ea1"
      },
      "source": [
        "costs = pd.DataFrame(columns=('Num Panels', 'Years Till Breakeven'))\n",
        "for i in range(0,2269):\n",
        "  j = years_till_breakeven(i)\n",
        "  costs.loc[i] = [i, j]\n",
        "costs.head()"
      ],
      "execution_count": null,
      "outputs": [
        {
          "output_type": "execute_result",
          "data": {
            "text/html": [
              "<div>\n",
              "<style scoped>\n",
              "    .dataframe tbody tr th:only-of-type {\n",
              "        vertical-align: middle;\n",
              "    }\n",
              "\n",
              "    .dataframe tbody tr th {\n",
              "        vertical-align: top;\n",
              "    }\n",
              "\n",
              "    .dataframe thead th {\n",
              "        text-align: right;\n",
              "    }\n",
              "</style>\n",
              "<table border=\"1\" class=\"dataframe\">\n",
              "  <thead>\n",
              "    <tr style=\"text-align: right;\">\n",
              "      <th></th>\n",
              "      <th>Num Panels</th>\n",
              "      <th>Years Till Breakeven</th>\n",
              "    </tr>\n",
              "  </thead>\n",
              "  <tbody>\n",
              "    <tr>\n",
              "      <th>0</th>\n",
              "      <td>0</td>\n",
              "      <td>-1</td>\n",
              "    </tr>\n",
              "    <tr>\n",
              "      <th>1</th>\n",
              "      <td>1</td>\n",
              "      <td>1</td>\n",
              "    </tr>\n",
              "    <tr>\n",
              "      <th>2</th>\n",
              "      <td>2</td>\n",
              "      <td>1</td>\n",
              "    </tr>\n",
              "    <tr>\n",
              "      <th>3</th>\n",
              "      <td>3</td>\n",
              "      <td>1</td>\n",
              "    </tr>\n",
              "    <tr>\n",
              "      <th>4</th>\n",
              "      <td>4</td>\n",
              "      <td>1</td>\n",
              "    </tr>\n",
              "  </tbody>\n",
              "</table>\n",
              "</div>"
            ],
            "text/plain": [
              "  Num Panels Years Till Breakeven\n",
              "0          0                   -1\n",
              "1          1                    1\n",
              "2          2                    1\n",
              "3          3                    1\n",
              "4          4                    1"
            ]
          },
          "metadata": {
            "tags": []
          },
          "execution_count": 286
        }
      ]
    },
    {
      "cell_type": "code",
      "metadata": {
        "colab": {
          "base_uri": "https://localhost:8080/",
          "height": 282
        },
        "id": "NnWBBpney8Wg",
        "outputId": "4959b28b-c60f-4a6b-ce12-4103cb144912"
      },
      "source": [
        "plt.plot(costs['Num Panels'], costs['Years Till Breakeven'])\n",
        "plt.plot()"
      ],
      "execution_count": null,
      "outputs": [
        {
          "output_type": "execute_result",
          "data": {
            "text/plain": [
              "[]"
            ]
          },
          "metadata": {
            "tags": []
          },
          "execution_count": 287
        },
        {
          "output_type": "display_data",
          "data": {
            "image/png": "[encoded data removed]",
            "text/plain": [
              "<Figure size 432x288 with 1 Axes>"
            ]
          },
          "metadata": {
            "tags": [],
            "needs_background": "light"
          }
        }
      ]
    },
    {
      "cell_type": "code",
      "metadata": {
        "id": "W51PoXhO944O"
      },
      "source": [
        "excess_power = uni_power_lawson - (sol_power_lawson * 24 * 500)\n",
        "excess_power[excess_power < 0] = 0\n",
        "excess_power"
      ],
      "execution_count": null,
      "outputs": []
    },
    {
      "cell_type": "code",
      "metadata": {
        "colab": {
          "base_uri": "https://localhost:8080/",
          "height": 282
        },
        "id": "7tIvhmmt_JoR",
        "outputId": "0db523a9-ec96-4d05-be90-04b848b8b814"
      },
      "source": [
        "plt.plot(range(1,365), excess_power)"
      ],
      "execution_count": null,
      "outputs": [
        {
          "output_type": "execute_result",
          "data": {
            "text/plain": [
              "[<matplotlib.lines.Line2D at 0x7f4ba62edf28>]"
            ]
          },
          "metadata": {
            "tags": []
          },
          "execution_count": 294
        },
        {
          "output_type": "display_data",
          "data": {
            "image/png": "[encoded data removed]",
            "text/plain": [
              "<Figure size 432x288 with 1 Axes>"
            ]
          },
          "metadata": {
            "tags": [],
            "needs_background": "light"
          }
        }
      ]
    },
    {
      "cell_type": "markdown",
      "metadata": {
        "id": "m--tsEf_9ayR"
      },
      "source": [
        ""
      ]
    },
    {
      "cell_type": "code",
      "metadata": {
        "id": "Ado15nsex8Qf"
      },
      "source": [
        ""
      ],
      "execution_count": null,
      "outputs": []
    },
    {
      "cell_type": "code",
      "metadata": {
        "id": "TsrOY-0L9Z51"
      },
      "source": [
        ""
      ],
      "execution_count": null,
      "outputs": []
    }
  ]
}