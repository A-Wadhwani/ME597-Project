{
  "nbformat": 4,
  "nbformat_minor": 0,
  "metadata": {
    "colab": {
      "name": "Purdue Power Analysis.ipynb",
      "provenance": [],
      "collapsed_sections": [],
      "toc_visible": true,
      "authorship_tag": "ABX9TyO1u1HC33+kqrdZzk7eR/fC",
      "include_colab_link": true
    },
    "kernelspec": {
      "name": "python3",
      "display_name": "Python 3"
    },
    "accelerator": "GPU"
  },
  "cells": [
    {
      "cell_type": "markdown",
      "metadata": {
        "id": "view-in-github",
        "colab_type": "text"
      },
      "source": [
        "<a href=\"https://colab.research.google.com/github/A-Wadhwani/ME597-Project/blob/main/Purdue_Power_Analysis.ipynb\" target=\"_parent\"><img src=\"https://colab.research.google.com/assets/colab-badge.svg\" alt=\"Open In Colab\"/></a>"
      ]
    },
    {
      "cell_type": "markdown",
      "metadata": {
        "id": "R_HI8H-kokJx"
      },
      "source": [
        "# Analysis of Models on Purdue Buildings"
      ]
    },
    {
      "cell_type": "code",
      "metadata": {
        "colab": {
          "base_uri": "https://localhost:8080/"
        },
        "id": "_vej8bu8jPOS",
        "outputId": "622ad08e-2761-4937-f9fe-c01b1a0c379c"
      },
      "source": [
        "# import the libraries\n",
        "import numpy as np\n",
        "import matplotlib.pyplot as plt\n",
        "import matplotlib.patches as mpatches\n",
        "import datetime\n",
        "import seaborn as sns \n",
        "import tensorflow as tf\n",
        "import math\n",
        "import pandas as pd\n",
        "from datetime import datetime\n",
        "from sklearn.metrics import r2_score\n",
        "print(\"TensorFlow version: \",tf.__version__)  #print the version of tensorflow"
      ],
      "execution_count": 260,
      "outputs": [
        {
          "output_type": "stream",
          "text": [
            "TensorFlow version:  2.3.0\n"
          ],
          "name": "stdout"
        }
      ]
    },
    {
      "cell_type": "code",
      "metadata": {
        "id": "yhUCH8R3jQx6"
      },
      "source": [
        "from tensorflow.python.keras.layers import Dense\n",
        "from tensorflow.keras.layers import Dropout\n",
        "from tensorflow.python.keras.models import Sequential\n",
        "from tensorflow.python.keras.wrappers.scikit_learn import KerasRegressor\n",
        "from tensorflow import keras\n",
        "from tensorflow.keras import layers\n",
        "from tensorflow.keras import Sequential \n",
        "from tensorflow.keras.layers import Dense, Activation, Dropout\n",
        "from tensorflow.keras.callbacks import EarlyStopping\n",
        "from tensorflow.keras import regularizers\n",
        "\n",
        "from tensorflow.keras.callbacks import EarlyStopping, ReduceLROnPlateau\n",
        "from tensorflow.keras import regularizers"
      ],
      "execution_count": 56,
      "outputs": []
    },
    {
      "cell_type": "code",
      "metadata": {
        "id": "Crv5-uyApazd"
      },
      "source": [
        "#Helper Functions\n",
        "def get_weekday2(year, month, day):\n",
        "    dates = pd.DataFrame()\n",
        "    dates['y'] = year\n",
        "    dates['m'] = month\n",
        "    dates['d'] = day\n",
        "    dates['dates'] = dates['y'].astype('str') + '-' + dates['m'].astype('str') + '-' + dates['d'].astype('str')\n",
        "    return get_weekday(dates['dates'])\n",
        "\n",
        "#Get day of week based on date\n",
        "def get_weekday(dates):\n",
        "    return [1 if (datetime.strptime(d,\"%Y-%m-%d\").weekday() >= 5) else 0 for d in dates]"
      ],
      "execution_count": 57,
      "outputs": []
    },
    {
      "cell_type": "code",
      "metadata": {
        "id": "17yPc2djjTXl"
      },
      "source": [
        "from joblib import dump, load\n",
        "\n",
        "#Load university model scalers\n",
        "uni_x_scaler = load('uni_x_scaler.bin')\n",
        "uni_y_scaler = load('uni_y_scaler.bin')\n",
        "\n",
        "#Load solar model scalers\n",
        "sol_x_scaler = load('sol_x_scaler.bin')\n",
        "sol_y_scaler = load('sol_y_scaler.bin')"
      ],
      "execution_count": 58,
      "outputs": []
    },
    {
      "cell_type": "code",
      "metadata": {
        "id": "jQ3lSyZ8lozY"
      },
      "source": [
        "#Load university model\n",
        "uni_model= tf.keras.models.load_model('uni_model.h5')\n",
        "\n",
        "#Load solar model\n",
        "sol_model= tf.keras.models.load_model('sol_model.h5')"
      ],
      "execution_count": 59,
      "outputs": []
    },
    {
      "cell_type": "code",
      "metadata": {
        "colab": {
          "base_uri": "https://localhost:8080/",
          "height": 212
        },
        "id": "WikA6ZI8mjTM",
        "outputId": "472c78d5-0f6a-4c5d-c6f9-64dd69871900"
      },
      "source": [
        "#Load Purdue weather data\n",
        "df_weather = pd.read_csv('https://raw.githubusercontent.com/A-Wadhwani/ME597-Project/main/Datasets/Purdue_Weather.csv')\n",
        "df_weather.head()"
      ],
      "execution_count": 60,
      "outputs": [
        {
          "output_type": "execute_result",
          "data": {
            "text/html": [
              "<div>\n",
              "<style scoped>\n",
              "    .dataframe tbody tr th:only-of-type {\n",
              "        vertical-align: middle;\n",
              "    }\n",
              "\n",
              "    .dataframe tbody tr th {\n",
              "        vertical-align: top;\n",
              "    }\n",
              "\n",
              "    .dataframe thead th {\n",
              "        text-align: right;\n",
              "    }\n",
              "</style>\n",
              "<table border=\"1\" class=\"dataframe\">\n",
              "  <thead>\n",
              "    <tr style=\"text-align: right;\">\n",
              "      <th></th>\n",
              "      <th>Year</th>\n",
              "      <th>Month</th>\n",
              "      <th>Day</th>\n",
              "      <th>Hour</th>\n",
              "      <th>Minute</th>\n",
              "      <th>DHI</th>\n",
              "      <th>DNI</th>\n",
              "      <th>GHI</th>\n",
              "      <th>Clearsky DHI</th>\n",
              "      <th>Clearsky DNI</th>\n",
              "      <th>Clearsky GHI</th>\n",
              "      <th>Wind Speed</th>\n",
              "      <th>Precipitable Water</th>\n",
              "      <th>Wind Direction</th>\n",
              "      <th>Relative Humidity</th>\n",
              "      <th>Temperature</th>\n",
              "      <th>Pressure</th>\n",
              "    </tr>\n",
              "  </thead>\n",
              "  <tbody>\n",
              "    <tr>\n",
              "      <th>0</th>\n",
              "      <td>2019</td>\n",
              "      <td>1</td>\n",
              "      <td>1</td>\n",
              "      <td>0</td>\n",
              "      <td>30</td>\n",
              "      <td>0</td>\n",
              "      <td>0</td>\n",
              "      <td>0</td>\n",
              "      <td>0</td>\n",
              "      <td>0</td>\n",
              "      <td>0</td>\n",
              "      <td>8.7</td>\n",
              "      <td>1.5</td>\n",
              "      <td>245</td>\n",
              "      <td>100.00</td>\n",
              "      <td>7.2</td>\n",
              "      <td>981</td>\n",
              "    </tr>\n",
              "    <tr>\n",
              "      <th>1</th>\n",
              "      <td>2019</td>\n",
              "      <td>1</td>\n",
              "      <td>1</td>\n",
              "      <td>1</td>\n",
              "      <td>30</td>\n",
              "      <td>0</td>\n",
              "      <td>0</td>\n",
              "      <td>0</td>\n",
              "      <td>0</td>\n",
              "      <td>0</td>\n",
              "      <td>0</td>\n",
              "      <td>8.2</td>\n",
              "      <td>1.4</td>\n",
              "      <td>254</td>\n",
              "      <td>99.64</td>\n",
              "      <td>5.4</td>\n",
              "      <td>982</td>\n",
              "    </tr>\n",
              "    <tr>\n",
              "      <th>2</th>\n",
              "      <td>2019</td>\n",
              "      <td>1</td>\n",
              "      <td>1</td>\n",
              "      <td>2</td>\n",
              "      <td>30</td>\n",
              "      <td>0</td>\n",
              "      <td>0</td>\n",
              "      <td>0</td>\n",
              "      <td>0</td>\n",
              "      <td>0</td>\n",
              "      <td>0</td>\n",
              "      <td>7.3</td>\n",
              "      <td>1.3</td>\n",
              "      <td>265</td>\n",
              "      <td>99.24</td>\n",
              "      <td>3.8</td>\n",
              "      <td>984</td>\n",
              "    </tr>\n",
              "    <tr>\n",
              "      <th>3</th>\n",
              "      <td>2019</td>\n",
              "      <td>1</td>\n",
              "      <td>1</td>\n",
              "      <td>3</td>\n",
              "      <td>30</td>\n",
              "      <td>0</td>\n",
              "      <td>0</td>\n",
              "      <td>0</td>\n",
              "      <td>0</td>\n",
              "      <td>0</td>\n",
              "      <td>0</td>\n",
              "      <td>6.2</td>\n",
              "      <td>1.2</td>\n",
              "      <td>276</td>\n",
              "      <td>98.59</td>\n",
              "      <td>2.5</td>\n",
              "      <td>987</td>\n",
              "    </tr>\n",
              "    <tr>\n",
              "      <th>4</th>\n",
              "      <td>2019</td>\n",
              "      <td>1</td>\n",
              "      <td>1</td>\n",
              "      <td>4</td>\n",
              "      <td>30</td>\n",
              "      <td>0</td>\n",
              "      <td>0</td>\n",
              "      <td>0</td>\n",
              "      <td>0</td>\n",
              "      <td>0</td>\n",
              "      <td>0</td>\n",
              "      <td>5.2</td>\n",
              "      <td>1.2</td>\n",
              "      <td>280</td>\n",
              "      <td>97.39</td>\n",
              "      <td>1.6</td>\n",
              "      <td>989</td>\n",
              "    </tr>\n",
              "  </tbody>\n",
              "</table>\n",
              "</div>"
            ],
            "text/plain": [
              "   Year  Month  Day  ...  Relative Humidity  Temperature  Pressure\n",
              "0  2019      1    1  ...             100.00          7.2       981\n",
              "1  2019      1    1  ...              99.64          5.4       982\n",
              "2  2019      1    1  ...              99.24          3.8       984\n",
              "3  2019      1    1  ...              98.59          2.5       987\n",
              "4  2019      1    1  ...              97.39          1.6       989\n",
              "\n",
              "[5 rows x 17 columns]"
            ]
          },
          "metadata": {
            "tags": []
          },
          "execution_count": 60
        }
      ]
    },
    {
      "cell_type": "markdown",
      "metadata": {
        "id": "b_l658x5ojLg"
      },
      "source": [
        "## Power Consumption prediction"
      ]
    },
    {
      "cell_type": "code",
      "metadata": {
        "id": "VQUwrugDoh3v"
      },
      "source": [
        "def uni_clean_data(df, skiprows = 0):\n",
        "    df_weather = df\n",
        "    df_weather = df_weather.drop(columns=['Hour', 'Minute'])\n",
        "    df_weather = df_weather[df_weather.DNI != 0]\n",
        "\n",
        "    #Take mean, max and min for each DNI in DataFrame and mean for everything else\n",
        "    \n",
        "    #Take mean, max and min for each DNI and Temperature in DataFrame and mean for everything else\n",
        "    max_temp = df_weather.groupby(['Year', 'Month', 'Day']).max().reset_index()['Temperature']\n",
        "    min_temp = df_weather.groupby(['Year', 'Month', 'Day']).min().reset_index()['Temperature']\n",
        "    \n",
        "    max_dni = df_weather.groupby(['Year', 'Month', 'Day']).max().reset_index()['DNI']\n",
        "    min_dni = df_weather.groupby(['Year', 'Month', 'Day']).min().reset_index()['DNI']\n",
        "    \n",
        "    df_weather = pd.DataFrame(df_weather.groupby(['Year', 'Month', 'Day']).mean().reset_index())\n",
        "    \n",
        "    df_weather.insert(4, 'DNI Max', max_dni)\n",
        "    df_weather.insert(5, 'DNI Min', min_dni)\n",
        "    df_weather.insert(11, 'Temp Max', max_temp)\n",
        "    df_weather.insert(12, 'Temp Min', min_temp)\n",
        "\n",
        "    return df_weather"
      ],
      "execution_count": 61,
      "outputs": []
    },
    {
      "cell_type": "code",
      "metadata": {
        "id": "1V-av6UyotkL"
      },
      "source": [
        "def uni_training_prep(data, square_feet, building_type):\n",
        "    data = data.loc[:, ['Year', 'Month', 'Day', 'DNI', 'DNI Max', 'DNI Min', 'Wind Speed', 'Precipitable Water', 'Wind Direction', 'Relative Humidity', 'Temperature', 'Temp Max', 'Temp Min', 'Pressure']]\n",
        "    data.loc[:, 'Weekday'] = get_weekday2(data['Year'], data['Month'], data['Day'])\n",
        "    data = data.drop(['Wind Direction'], axis=1)\n",
        "    data.loc[:, 'Square Feet'] = square_feet\n",
        "    data.loc[:, 'Type'] = building_type\n",
        "    return data"
      ],
      "execution_count": 62,
      "outputs": []
    },
    {
      "cell_type": "code",
      "metadata": {
        "colab": {
          "base_uri": "https://localhost:8080/",
          "height": 212
        },
        "id": "sEhYu2Syouqe",
        "outputId": "48af2aa7-dbbc-4f47-8556-35aa7bfcc057"
      },
      "source": [
        "#Taking Lawson Building: 10700 square feet and classroom (0)\n",
        "uni_df = uni_training_prep(uni_clean_data(df_weather), 10700, 0)\n",
        "uni_df.head()"
      ],
      "execution_count": 63,
      "outputs": [
        {
          "output_type": "execute_result",
          "data": {
            "text/html": [
              "<div>\n",
              "<style scoped>\n",
              "    .dataframe tbody tr th:only-of-type {\n",
              "        vertical-align: middle;\n",
              "    }\n",
              "\n",
              "    .dataframe tbody tr th {\n",
              "        vertical-align: top;\n",
              "    }\n",
              "\n",
              "    .dataframe thead th {\n",
              "        text-align: right;\n",
              "    }\n",
              "</style>\n",
              "<table border=\"1\" class=\"dataframe\">\n",
              "  <thead>\n",
              "    <tr style=\"text-align: right;\">\n",
              "      <th></th>\n",
              "      <th>Year</th>\n",
              "      <th>Month</th>\n",
              "      <th>Day</th>\n",
              "      <th>DNI</th>\n",
              "      <th>DNI Max</th>\n",
              "      <th>DNI Min</th>\n",
              "      <th>Wind Speed</th>\n",
              "      <th>Precipitable Water</th>\n",
              "      <th>Relative Humidity</th>\n",
              "      <th>Temperature</th>\n",
              "      <th>Temp Max</th>\n",
              "      <th>Temp Min</th>\n",
              "      <th>Pressure</th>\n",
              "      <th>Weekday</th>\n",
              "      <th>Square Feet</th>\n",
              "      <th>Type</th>\n",
              "    </tr>\n",
              "  </thead>\n",
              "  <tbody>\n",
              "    <tr>\n",
              "      <th>0</th>\n",
              "      <td>2019</td>\n",
              "      <td>1</td>\n",
              "      <td>1</td>\n",
              "      <td>8.0</td>\n",
              "      <td>8</td>\n",
              "      <td>8</td>\n",
              "      <td>2.500</td>\n",
              "      <td>0.900</td>\n",
              "      <td>88.7200</td>\n",
              "      <td>-0.500</td>\n",
              "      <td>-0.5</td>\n",
              "      <td>-0.5</td>\n",
              "      <td>1001.00</td>\n",
              "      <td>0</td>\n",
              "      <td>10700</td>\n",
              "      <td>0</td>\n",
              "    </tr>\n",
              "    <tr>\n",
              "      <th>1</th>\n",
              "      <td>2019</td>\n",
              "      <td>1</td>\n",
              "      <td>2</td>\n",
              "      <td>9.5</td>\n",
              "      <td>20</td>\n",
              "      <td>4</td>\n",
              "      <td>3.775</td>\n",
              "      <td>0.975</td>\n",
              "      <td>78.8375</td>\n",
              "      <td>1.325</td>\n",
              "      <td>2.1</td>\n",
              "      <td>-0.1</td>\n",
              "      <td>999.25</td>\n",
              "      <td>0</td>\n",
              "      <td>10700</td>\n",
              "      <td>0</td>\n",
              "    </tr>\n",
              "    <tr>\n",
              "      <th>2</th>\n",
              "      <td>2019</td>\n",
              "      <td>1</td>\n",
              "      <td>3</td>\n",
              "      <td>702.1</td>\n",
              "      <td>934</td>\n",
              "      <td>83</td>\n",
              "      <td>3.760</td>\n",
              "      <td>0.600</td>\n",
              "      <td>68.0630</td>\n",
              "      <td>1.170</td>\n",
              "      <td>3.9</td>\n",
              "      <td>-3.0</td>\n",
              "      <td>995.40</td>\n",
              "      <td>0</td>\n",
              "      <td>10700</td>\n",
              "      <td>0</td>\n",
              "    </tr>\n",
              "    <tr>\n",
              "      <th>3</th>\n",
              "      <td>2019</td>\n",
              "      <td>1</td>\n",
              "      <td>4</td>\n",
              "      <td>423.4</td>\n",
              "      <td>823</td>\n",
              "      <td>106</td>\n",
              "      <td>1.000</td>\n",
              "      <td>0.860</td>\n",
              "      <td>70.5130</td>\n",
              "      <td>3.740</td>\n",
              "      <td>6.3</td>\n",
              "      <td>-0.4</td>\n",
              "      <td>986.20</td>\n",
              "      <td>0</td>\n",
              "      <td>10700</td>\n",
              "      <td>0</td>\n",
              "    </tr>\n",
              "    <tr>\n",
              "      <th>4</th>\n",
              "      <td>2019</td>\n",
              "      <td>1</td>\n",
              "      <td>5</td>\n",
              "      <td>632.7</td>\n",
              "      <td>902</td>\n",
              "      <td>101</td>\n",
              "      <td>3.320</td>\n",
              "      <td>1.100</td>\n",
              "      <td>82.5930</td>\n",
              "      <td>5.850</td>\n",
              "      <td>10.1</td>\n",
              "      <td>-0.3</td>\n",
              "      <td>990.50</td>\n",
              "      <td>1</td>\n",
              "      <td>10700</td>\n",
              "      <td>0</td>\n",
              "    </tr>\n",
              "  </tbody>\n",
              "</table>\n",
              "</div>"
            ],
            "text/plain": [
              "   Year  Month  Day    DNI  ...  Pressure  Weekday  Square Feet  Type\n",
              "0  2019      1    1    8.0  ...   1001.00        0        10700     0\n",
              "1  2019      1    2    9.5  ...    999.25        0        10700     0\n",
              "2  2019      1    3  702.1  ...    995.40        0        10700     0\n",
              "3  2019      1    4  423.4  ...    986.20        0        10700     0\n",
              "4  2019      1    5  632.7  ...    990.50        1        10700     0\n",
              "\n",
              "[5 rows x 16 columns]"
            ]
          },
          "metadata": {
            "tags": []
          },
          "execution_count": 63
        }
      ]
    },
    {
      "cell_type": "code",
      "metadata": {
        "colab": {
          "base_uri": "https://localhost:8080/",
          "height": 284
        },
        "id": "6V3g6dcSpS-g",
        "outputId": "db132bc2-62ad-4f1e-9954-702ddf5f72f0"
      },
      "source": [
        "#Running model on data\n",
        "x_scaled = uni_x_scaler.transform(uni_df)\n",
        "y_scaled = uni_model.predict(x_scaled)\n",
        "y_result = uni_y_scaler.inverse_transform(y_scaled)\n",
        "pd.DataFrame(y_result).describe()"
      ],
      "execution_count": 64,
      "outputs": [
        {
          "output_type": "execute_result",
          "data": {
            "text/html": [
              "<div>\n",
              "<style scoped>\n",
              "    .dataframe tbody tr th:only-of-type {\n",
              "        vertical-align: middle;\n",
              "    }\n",
              "\n",
              "    .dataframe tbody tr th {\n",
              "        vertical-align: top;\n",
              "    }\n",
              "\n",
              "    .dataframe thead th {\n",
              "        text-align: right;\n",
              "    }\n",
              "</style>\n",
              "<table border=\"1\" class=\"dataframe\">\n",
              "  <thead>\n",
              "    <tr style=\"text-align: right;\">\n",
              "      <th></th>\n",
              "      <th>0</th>\n",
              "    </tr>\n",
              "  </thead>\n",
              "  <tbody>\n",
              "    <tr>\n",
              "      <th>count</th>\n",
              "      <td>364.000000</td>\n",
              "    </tr>\n",
              "    <tr>\n",
              "      <th>mean</th>\n",
              "      <td>830.789246</td>\n",
              "    </tr>\n",
              "    <tr>\n",
              "      <th>std</th>\n",
              "      <td>107.085663</td>\n",
              "    </tr>\n",
              "    <tr>\n",
              "      <th>min</th>\n",
              "      <td>633.321167</td>\n",
              "    </tr>\n",
              "    <tr>\n",
              "      <th>25%</th>\n",
              "      <td>765.372864</td>\n",
              "    </tr>\n",
              "    <tr>\n",
              "      <th>50%</th>\n",
              "      <td>814.083862</td>\n",
              "    </tr>\n",
              "    <tr>\n",
              "      <th>75%</th>\n",
              "      <td>882.194519</td>\n",
              "    </tr>\n",
              "    <tr>\n",
              "      <th>max</th>\n",
              "      <td>1404.280884</td>\n",
              "    </tr>\n",
              "  </tbody>\n",
              "</table>\n",
              "</div>"
            ],
            "text/plain": [
              "                 0\n",
              "count   364.000000\n",
              "mean    830.789246\n",
              "std     107.085663\n",
              "min     633.321167\n",
              "25%     765.372864\n",
              "50%     814.083862\n",
              "75%     882.194519\n",
              "max    1404.280884"
            ]
          },
          "metadata": {
            "tags": []
          },
          "execution_count": 64
        }
      ]
    },
    {
      "cell_type": "code",
      "metadata": {
        "id": "K_mBJbYqrQcw"
      },
      "source": [
        "#Storing power production value in new variableb \n",
        "uni_power_lawson =  y_result"
      ],
      "execution_count": 65,
      "outputs": []
    },
    {
      "cell_type": "markdown",
      "metadata": {
        "id": "PSugsVOqrwnr"
      },
      "source": [
        "## Solar Power Prediction data"
      ]
    },
    {
      "cell_type": "code",
      "metadata": {
        "id": "xGUPEhRZrzpN"
      },
      "source": [
        "def sol_clean_data(df, skiprows = 0):\n",
        "    df_weather = df\n",
        "    df_weather = df_weather.drop(columns=['Hour', 'Minute'])\n",
        "    df_weather = df_weather[df_weather.DNI != 0]\n",
        "\n",
        "    #Take mean, max and min for each DNI in DataFrame and mean for everything else\n",
        "    \n",
        "    #Take mean, max and min for each DNI and Temperature in DataFrame and mean for everything else\n",
        "    max_temp = df_weather.groupby(['Year', 'Month', 'Day']).max().reset_index()['Temperature']\n",
        "    min_temp = df_weather.groupby(['Year', 'Month', 'Day']).min().reset_index()['Temperature']\n",
        "    \n",
        "    max_dni = df_weather.groupby(['Year', 'Month', 'Day']).max().reset_index()['DNI']\n",
        "    min_dni = df_weather.groupby(['Year', 'Month', 'Day']).min().reset_index()['DNI']\n",
        "    \n",
        "    df_weather = pd.DataFrame(df_weather.groupby(['Year', 'Month', 'Day']).mean().reset_index())\n",
        "    \n",
        "    df_weather.insert(4, 'DNI Max', max_dni)\n",
        "    df_weather.insert(5, 'DNI Min', min_dni)\n",
        "    df_weather.insert(11, 'Temp Max', max_temp)\n",
        "    df_weather.insert(12, 'Temp Min', min_temp)\n",
        "\n",
        "    return df_weather"
      ],
      "execution_count": 66,
      "outputs": []
    },
    {
      "cell_type": "code",
      "metadata": {
        "id": "X_Ckp2CDrzpN"
      },
      "source": [
        "def sol_training_prep(data):\n",
        "    data = data.loc[:, ['DHI','DNI Max', 'DNI Min', 'DNI', 'GHI', 'Clearsky DNI', 'Clearsky DHI', 'Clearsky GHI', 'Wind Speed', 'Precipitable Water', 'Relative Humidity', 'Temperature','Temp Max','Temp Min' ,'Pressure']]\n",
        "    return data"
      ],
      "execution_count": 67,
      "outputs": []
    },
    {
      "cell_type": "code",
      "metadata": {
        "colab": {
          "base_uri": "https://localhost:8080/",
          "height": 212
        },
        "id": "OCRLajNArzpN",
        "outputId": "6858385a-4d4f-4c7e-814b-0098760985a7"
      },
      "source": [
        "#Taking Lawson Building: 10700 square feet and classroom (0)\n",
        "sol_df = sol_training_prep(sol_clean_data(df_weather))\n",
        "sol_df.head()"
      ],
      "execution_count": 68,
      "outputs": [
        {
          "output_type": "execute_result",
          "data": {
            "text/html": [
              "<div>\n",
              "<style scoped>\n",
              "    .dataframe tbody tr th:only-of-type {\n",
              "        vertical-align: middle;\n",
              "    }\n",
              "\n",
              "    .dataframe tbody tr th {\n",
              "        vertical-align: top;\n",
              "    }\n",
              "\n",
              "    .dataframe thead th {\n",
              "        text-align: right;\n",
              "    }\n",
              "</style>\n",
              "<table border=\"1\" class=\"dataframe\">\n",
              "  <thead>\n",
              "    <tr style=\"text-align: right;\">\n",
              "      <th></th>\n",
              "      <th>DHI</th>\n",
              "      <th>DNI Max</th>\n",
              "      <th>DNI Min</th>\n",
              "      <th>DNI</th>\n",
              "      <th>GHI</th>\n",
              "      <th>Clearsky DNI</th>\n",
              "      <th>Clearsky DHI</th>\n",
              "      <th>Clearsky GHI</th>\n",
              "      <th>Wind Speed</th>\n",
              "      <th>Precipitable Water</th>\n",
              "      <th>Relative Humidity</th>\n",
              "      <th>Temperature</th>\n",
              "      <th>Temp Max</th>\n",
              "      <th>Temp Min</th>\n",
              "      <th>Pressure</th>\n",
              "    </tr>\n",
              "  </thead>\n",
              "  <tbody>\n",
              "    <tr>\n",
              "      <th>0</th>\n",
              "      <td>8.00</td>\n",
              "      <td>8</td>\n",
              "      <td>8</td>\n",
              "      <td>8.0</td>\n",
              "      <td>8.00</td>\n",
              "      <td>125.00</td>\n",
              "      <td>22.0</td>\n",
              "      <td>28.00</td>\n",
              "      <td>2.500</td>\n",
              "      <td>0.900</td>\n",
              "      <td>88.7200</td>\n",
              "      <td>-0.500</td>\n",
              "      <td>-0.5</td>\n",
              "      <td>-0.5</td>\n",
              "      <td>1001.00</td>\n",
              "    </tr>\n",
              "    <tr>\n",
              "      <th>1</th>\n",
              "      <td>75.25</td>\n",
              "      <td>20</td>\n",
              "      <td>4</td>\n",
              "      <td>9.5</td>\n",
              "      <td>77.75</td>\n",
              "      <td>586.25</td>\n",
              "      <td>72.5</td>\n",
              "      <td>289.75</td>\n",
              "      <td>3.775</td>\n",
              "      <td>0.975</td>\n",
              "      <td>78.8375</td>\n",
              "      <td>1.325</td>\n",
              "      <td>2.1</td>\n",
              "      <td>-0.1</td>\n",
              "      <td>999.25</td>\n",
              "    </tr>\n",
              "    <tr>\n",
              "      <th>2</th>\n",
              "      <td>43.30</td>\n",
              "      <td>934</td>\n",
              "      <td>83</td>\n",
              "      <td>702.1</td>\n",
              "      <td>273.10</td>\n",
              "      <td>702.10</td>\n",
              "      <td>43.3</td>\n",
              "      <td>273.10</td>\n",
              "      <td>3.760</td>\n",
              "      <td>0.600</td>\n",
              "      <td>68.0630</td>\n",
              "      <td>1.170</td>\n",
              "      <td>3.9</td>\n",
              "      <td>-3.0</td>\n",
              "      <td>995.40</td>\n",
              "    </tr>\n",
              "    <tr>\n",
              "      <th>3</th>\n",
              "      <td>73.60</td>\n",
              "      <td>823</td>\n",
              "      <td>106</td>\n",
              "      <td>423.4</td>\n",
              "      <td>211.10</td>\n",
              "      <td>689.00</td>\n",
              "      <td>44.6</td>\n",
              "      <td>270.70</td>\n",
              "      <td>1.000</td>\n",
              "      <td>0.860</td>\n",
              "      <td>70.5130</td>\n",
              "      <td>3.740</td>\n",
              "      <td>6.3</td>\n",
              "      <td>-0.4</td>\n",
              "      <td>986.20</td>\n",
              "    </tr>\n",
              "    <tr>\n",
              "      <th>4</th>\n",
              "      <td>46.60</td>\n",
              "      <td>902</td>\n",
              "      <td>101</td>\n",
              "      <td>632.7</td>\n",
              "      <td>264.30</td>\n",
              "      <td>676.50</td>\n",
              "      <td>44.9</td>\n",
              "      <td>268.80</td>\n",
              "      <td>3.320</td>\n",
              "      <td>1.100</td>\n",
              "      <td>82.5930</td>\n",
              "      <td>5.850</td>\n",
              "      <td>10.1</td>\n",
              "      <td>-0.3</td>\n",
              "      <td>990.50</td>\n",
              "    </tr>\n",
              "  </tbody>\n",
              "</table>\n",
              "</div>"
            ],
            "text/plain": [
              "     DHI  DNI Max  DNI Min    DNI  ...  Temperature  Temp Max  Temp Min  Pressure\n",
              "0   8.00        8        8    8.0  ...       -0.500      -0.5      -0.5   1001.00\n",
              "1  75.25       20        4    9.5  ...        1.325       2.1      -0.1    999.25\n",
              "2  43.30      934       83  702.1  ...        1.170       3.9      -3.0    995.40\n",
              "3  73.60      823      106  423.4  ...        3.740       6.3      -0.4    986.20\n",
              "4  46.60      902      101  632.7  ...        5.850      10.1      -0.3    990.50\n",
              "\n",
              "[5 rows x 15 columns]"
            ]
          },
          "metadata": {
            "tags": []
          },
          "execution_count": 68
        }
      ]
    },
    {
      "cell_type": "code",
      "metadata": {
        "colab": {
          "base_uri": "https://localhost:8080/",
          "height": 284
        },
        "id": "dAcO4KbwrzpO",
        "outputId": "0eeb30ca-c5a6-4f1c-8c2d-e5bf000bd4f0"
      },
      "source": [
        "#Running model on data\n",
        "x_scaled = sol_x_scaler.transform(sol_df)\n",
        "y_scaled = sol_model.predict(x_scaled)\n",
        "y_result = sol_y_scaler.inverse_transform(y_scaled)\n",
        "pd.DataFrame(y_result).describe()"
      ],
      "execution_count": 69,
      "outputs": [
        {
          "output_type": "execute_result",
          "data": {
            "text/html": [
              "<div>\n",
              "<style scoped>\n",
              "    .dataframe tbody tr th:only-of-type {\n",
              "        vertical-align: middle;\n",
              "    }\n",
              "\n",
              "    .dataframe tbody tr th {\n",
              "        vertical-align: top;\n",
              "    }\n",
              "\n",
              "    .dataframe thead th {\n",
              "        text-align: right;\n",
              "    }\n",
              "</style>\n",
              "<table border=\"1\" class=\"dataframe\">\n",
              "  <thead>\n",
              "    <tr style=\"text-align: right;\">\n",
              "      <th></th>\n",
              "      <th>0</th>\n",
              "    </tr>\n",
              "  </thead>\n",
              "  <tbody>\n",
              "    <tr>\n",
              "      <th>count</th>\n",
              "      <td>364.000000</td>\n",
              "    </tr>\n",
              "    <tr>\n",
              "      <th>mean</th>\n",
              "      <td>1.503357</td>\n",
              "    </tr>\n",
              "    <tr>\n",
              "      <th>std</th>\n",
              "      <td>0.470166</td>\n",
              "    </tr>\n",
              "    <tr>\n",
              "      <th>min</th>\n",
              "      <td>0.369194</td>\n",
              "    </tr>\n",
              "    <tr>\n",
              "      <th>25%</th>\n",
              "      <td>1.205906</td>\n",
              "    </tr>\n",
              "    <tr>\n",
              "      <th>50%</th>\n",
              "      <td>1.675509</td>\n",
              "    </tr>\n",
              "    <tr>\n",
              "      <th>75%</th>\n",
              "      <td>1.837819</td>\n",
              "    </tr>\n",
              "    <tr>\n",
              "      <th>max</th>\n",
              "      <td>2.289015</td>\n",
              "    </tr>\n",
              "  </tbody>\n",
              "</table>\n",
              "</div>"
            ],
            "text/plain": [
              "                0\n",
              "count  364.000000\n",
              "mean     1.503357\n",
              "std      0.470166\n",
              "min      0.369194\n",
              "25%      1.205906\n",
              "50%      1.675509\n",
              "75%      1.837819\n",
              "max      2.289015"
            ]
          },
          "metadata": {
            "tags": []
          },
          "execution_count": 69
        }
      ]
    },
    {
      "cell_type": "code",
      "metadata": {
        "id": "-UdkkDlqrzpO"
      },
      "source": [
        "#Storing Solar Production for Lawson value in new variable \n",
        "sol_power_lawson =  y_result"
      ],
      "execution_count": 70,
      "outputs": []
    },
    {
      "cell_type": "markdown",
      "metadata": {
        "id": "uTc1iVAEtIhp"
      },
      "source": [
        "## Calculating necessary solar panels needed for Lawson Building"
      ]
    },
    {
      "cell_type": "code",
      "metadata": {
        "id": "3qC-eXwMtHYh"
      },
      "source": [
        "num_panels = uni_power_lawson / (sol_power_lawson)"
      ],
      "execution_count": 71,
      "outputs": []
    },
    {
      "cell_type": "code",
      "metadata": {
        "colab": {
          "base_uri": "https://localhost:8080/",
          "height": 265
        },
        "id": "Gn0VXqFnteyL",
        "outputId": "1967be80-c7b3-483a-8913-d2e5fa838e13"
      },
      "source": [
        "plt.hist(num_panels)\n",
        "plt.show()"
      ],
      "execution_count": 72,
      "outputs": [
        {
          "output_type": "display_data",
          "data": {
            "image/png": "[encoded data removed]",
            "text/plain": [
              "<Figure size 432x288 with 1 Axes>"
            ]
          },
          "metadata": {
            "tags": [],
            "needs_background": "light"
          }
        }
      ]
    },
    {
      "cell_type": "code",
      "metadata": {
        "colab": {
          "base_uri": "https://localhost:8080/",
          "height": 314
        },
        "id": "cRF5-UqWtkoA",
        "outputId": "c80ee810-1b14-4821-fd73-8a054260ca59"
      },
      "source": [
        "pd.DataFrame(num_panels).describe(percentiles=[0.25, 0.75, 0.9])"
      ],
      "execution_count": 83,
      "outputs": [
        {
          "output_type": "execute_result",
          "data": {
            "text/html": [
              "<div>\n",
              "<style scoped>\n",
              "    .dataframe tbody tr th:only-of-type {\n",
              "        vertical-align: middle;\n",
              "    }\n",
              "\n",
              "    .dataframe tbody tr th {\n",
              "        vertical-align: top;\n",
              "    }\n",
              "\n",
              "    .dataframe thead th {\n",
              "        text-align: right;\n",
              "    }\n",
              "</style>\n",
              "<table border=\"1\" class=\"dataframe\">\n",
              "  <thead>\n",
              "    <tr style=\"text-align: right;\">\n",
              "      <th></th>\n",
              "      <th>0</th>\n",
              "    </tr>\n",
              "  </thead>\n",
              "  <tbody>\n",
              "    <tr>\n",
              "      <th>count</th>\n",
              "      <td>364.000000</td>\n",
              "    </tr>\n",
              "    <tr>\n",
              "      <th>mean</th>\n",
              "      <td>658.028931</td>\n",
              "    </tr>\n",
              "    <tr>\n",
              "      <th>std</th>\n",
              "      <td>374.765350</td>\n",
              "    </tr>\n",
              "    <tr>\n",
              "      <th>min</th>\n",
              "      <td>335.506622</td>\n",
              "    </tr>\n",
              "    <tr>\n",
              "      <th>25%</th>\n",
              "      <td>436.721001</td>\n",
              "    </tr>\n",
              "    <tr>\n",
              "      <th>50%</th>\n",
              "      <td>502.198730</td>\n",
              "    </tr>\n",
              "    <tr>\n",
              "      <th>75%</th>\n",
              "      <td>703.211487</td>\n",
              "    </tr>\n",
              "    <tr>\n",
              "      <th>90%</th>\n",
              "      <td>1212.459216</td>\n",
              "    </tr>\n",
              "    <tr>\n",
              "      <th>max</th>\n",
              "      <td>2269.234375</td>\n",
              "    </tr>\n",
              "  </tbody>\n",
              "</table>\n",
              "</div>"
            ],
            "text/plain": [
              "                 0\n",
              "count   364.000000\n",
              "mean    658.028931\n",
              "std     374.765350\n",
              "min     335.506622\n",
              "25%     436.721001\n",
              "50%     502.198730\n",
              "75%     703.211487\n",
              "90%    1212.459216\n",
              "max    2269.234375"
            ]
          },
          "metadata": {
            "tags": []
          },
          "execution_count": 83
        }
      ]
    },
    {
      "cell_type": "code",
      "metadata": {
        "id": "7OcLSGhGmruB"
      },
      "source": [
        "# Taking three values: minimum, 50% and maximum\n",
        "min = np.min(num_panels)\n",
        "median = np.median(num_panels)\n",
        "percentile_75th = np.percentile(num_panels, 75)"
      ],
      "execution_count": 183,
      "outputs": []
    },
    {
      "cell_type": "code",
      "metadata": {
        "colab": {
          "base_uri": "https://localhost:8080/",
          "height": 1000
        },
        "id": "52y2NShMnZ8w",
        "outputId": "b82a16b3-521e-4e6f-f501-8a7380d3b7f1"
      },
      "source": [
        "#Calcualte power production for all three datas\n",
        "power_produced1 = sol_power_lawson * min\n",
        "power_produced2 = sol_power_lawson * median\n",
        "power_produced3 = sol_power_lawson * percentile_75th\n",
        "\n",
        "#Power consumed is uni_power_lawson\n",
        "power_consumed = uni_power_lawson\n",
        "\n",
        "# Power Combined Dataframe\n",
        "power_combined = pd.DataFrame()\n",
        "power_combined['Range'] = list(range(1,365))\n",
        "power_combined['Power Consumed'] = power_consumed.ravel()\n",
        "power_combined['Power Produced 1'] = power_produced1.ravel()\n",
        "power_combined['Power Produced 2'] = power_produced2.ravel()\n",
        "power_combined['Power Produced 3'] = power_produced3.ravel()\n",
        "\n",
        "fig, ax = plt.subplots(3,1)\n",
        "\n",
        "fig.set_figheight(15)\n",
        "fig.set_figwidth(15)\n",
        "plt.figure(figsize=(20,7.5))\n",
        "\n",
        "ax[0].set_title('Projected Power Consumption vs Power Production for 336 Solar Panels')\n",
        "ax[0].set_facecolor('LightGrey')\n",
        "ax[0].stackplot(power_combined['Range'].values, power_combined['Power Consumed'].values, colors=['Black'], labels = ['Power Consumed'])\n",
        "ax[0].stackplot(power_combined['Range'].values, power_combined['Power Produced 1'].values, colors=['#CFB991'], \n",
        "                labels = ['Power Produced by ' + str(math.ceil(min)) + ' Solar Panels'])\n",
        "ax[0].set_xlabel('Current Day')\n",
        "ax[0].set_ylabel('Daily Power Produced/Consumed in kWh')\n",
        "ax[0].set_xticks([0, 32, 60, 91, 121, 152, 182, 213, 244, 274, 305, 335, 364])\n",
        "ax[0].set_xticklabels(['J', 'F', 'M', 'A', 'M', 'J', 'J', 'A', 'S', 'O', 'N', 'D', 'J'])\n",
        "ax[0].legend()\n",
        "\n",
        "ax[1].set_title('Projected Power Consumption vs Power Production for 503 Solar Panels')\n",
        "ax[1].set_facecolor('LightGrey')\n",
        "ax[1].stackplot(power_combined['Range'].values, power_combined['Power Consumed'].values, colors=['Black'], labels = ['Power Consumed'])\n",
        "ax[1].stackplot(power_combined['Range'].values, power_combined['Power Produced 2'].values, colors=['#CFB991'], \n",
        "                labels = ['Power Produced by ' + str(math.ceil(median)) + ' Solar Panels'])\n",
        "ax[1].set_xlabel('Current Day')\n",
        "ax[1].set_ylabel('Daily Power Produced/Consumed in kWh')\n",
        "ax[1].set_xticks([0, 32, 60, 91, 121, 152, 182, 213, 244, 274, 305, 335, 364])\n",
        "ax[1].set_xticklabels(['J', 'F', 'M', 'A', 'M', 'J', 'J', 'A', 'S', 'O', 'N', 'D', 'J'])\n",
        "ax[1].legend()\n",
        "\n",
        "ax[2].set_title('Projected Power Consumption vs Power Production for 704 Solar Panels')\n",
        "ax[2].set_facecolor('LightGrey')\n",
        "ax[2].stackplot(power_combined['Range'].values, power_combined['Power Consumed'].values, colors=['Black'], labels = ['Power Consumed'])\n",
        "ax[2].stackplot(power_combined['Range'].values, power_combined['Power Produced 3'].values, colors=['#CFB991'], \n",
        "                labels = ['Power Produced by ' + str(math.ceil(percentile_75th)) + ' Solar Panels'])\n",
        "ax[2].set_xlabel('Current Day')\n",
        "ax[2].set_ylabel('Daily Power Produced/Consumed in kWh')\n",
        "ax[2].set_xticks([0, 32, 60, 91, 121, 152, 182, 213, 244, 274, 305, 335, 364])\n",
        "ax[2].set_xticklabels(['J', 'F', 'M', 'A', 'M', 'J', 'J', 'A', 'S', 'O', 'N', 'D', 'J'])\n",
        "ax[2].legend()\n",
        "\n",
        "#Displaying daily power production in three levels vs power consumption\n",
        "fig.suptitle('Projected Daily Power Consumption vs Daily Power Production for Year of 2019', fontsize=20)\n",
        "fig.show()"
      ],
      "execution_count": 287,
      "outputs": [
        {
          "output_type": "display_data",
          "data": {
            "image/png": "[encoded data removed]",
            "text/plain": [
              "<Figure size 1080x1080 with 3 Axes>"
            ]
          },
          "metadata": {
            "tags": [],
            "needs_background": "light"
          }
        },
        {
          "output_type": "display_data",
          "data": {
            "text/plain": [
              "<Figure size 1440x540 with 0 Axes>"
            ]
          },
          "metadata": {
            "tags": []
          }
        }
      ]
    },
    {
      "cell_type": "code",
      "metadata": {
        "colab": {
          "base_uri": "https://localhost:8080/",
          "height": 456
        },
        "id": "OE-Leua4uSQn",
        "outputId": "e1b26c9f-0538-498a-bd5b-9ed18f71d9c7"
      },
      "source": [
        "# Power Combined Dataframe\n",
        "power_combined = pd.DataFrame()\n",
        "power_combined['Range'] = list(range(1,365))\n",
        "power_combined['Power Consumed'] = power_consumed.ravel()\n",
        "power_combined['Power Produced 1'] = power_produced1.ravel()\n",
        "power_combined['Power Produced 2'] = power_produced2.ravel()\n",
        "power_combined['Power Produced 3'] = power_produced3.ravel()\n",
        "\n",
        "#Calculating 5-day averages\n",
        "power_combined['consumed 5DA'] = power_combined['Power Consumed'].rolling(window=30).mean()\n",
        "power_combined['produced 1 5DA'] = power_combined['Power Produced 1'].rolling(window=30).mean()\n",
        "power_combined['produced 2 5DA'] = power_combined['Power Produced 2'].rolling(window=30).mean()\n",
        "power_combined['produced 3 5DA'] = power_combined['Power Produced 3'].rolling(window=30).mean()\n",
        "\n",
        "#plotting 5 day averages\n",
        "plt.figure(figsize=(10,7.5))\n",
        "plt.plot(range(1,365), power_combined['consumed 5DA'], c='Red')\n",
        "plt.plot(range(1,365), power_combined['produced 2 5DA'], c='Green')\n",
        "plt.plot(range(1,365), power_combined['produced 3 5DA'], c='Blue')\n",
        "plt.show()"
      ],
      "execution_count": 232,
      "outputs": [
        {
          "output_type": "display_data",
          "data": {
            "image/png": "[encoded data removed]",
            "text/plain": [
              "<Figure size 720x540 with 1 Axes>"
            ]
          },
          "metadata": {
            "tags": [],
            "needs_background": "light"
          }
        }
      ]
    },
    {
      "cell_type": "markdown",
      "metadata": {
        "id": "YovE1UvfjDPz"
      },
      "source": [
        "This indicates how many panels would be needed to completely power the building on each day. "
      ]
    },
    {
      "cell_type": "code",
      "metadata": {
        "id": "Km3rIychvwSg"
      },
      "source": [
        "# Assuming cost of a single 310 Watt solar panel is 189.00$ and cost of normal electricity is 13.19 cents per kWh.\n",
        "power_consumption_per_year = np.sum(uni_power_lawson)\n",
        "sol_production_per_year = np.sum(sol_power_lawson)\n",
        "max_lim = 500 # np.max(num_panels)\n",
        "sol_cost = 189\n",
        "electricity_cost = 0.131"
      ],
      "execution_count": 74,
      "outputs": []
    },
    {
      "cell_type": "code",
      "metadata": {
        "colab": {
          "base_uri": "https://localhost:8080/"
        },
        "id": "7gQnDieAxCyQ",
        "outputId": "b8da057b-ae54-4d77-c52c-9e2e75d0449d"
      },
      "source": [
        "#Calculating electricity cost for a sample number of panels, 500\n",
        "excess_power = power_consumption_per_year - (sol_production_per_year * max_lim)\n",
        "excess_cost = excess_power * electricity_cost\n",
        "\n",
        "#Calculating solar production cost\n",
        "solar_fixed_cost = sol_cost * max_lim\n",
        "\n",
        "#Total cost\n",
        "cost_of_buying = electricity_cost * power_consumption_per_year\n",
        "\n",
        "print(cost_of_buying)\n",
        "print(excess_cost + solar_fixed_cost)"
      ],
      "execution_count": 75,
      "outputs": [
        {
          "output_type": "stream",
          "text": [
            "39615.357937500004\n",
            "98272.30193774414\n"
          ],
          "name": "stdout"
        }
      ]
    },
    {
      "cell_type": "code",
      "metadata": {
        "id": "qb3FKcg-46d1"
      },
      "source": [
        "def years_till_breakeven(numps):\n",
        "  for i in range(0,25):\n",
        "    excess_power = (i * power_consumption_per_year) - (i * sol_production_per_year * numps)\n",
        "    if (excess_power < 0):\n",
        "      excess_power = 0\n",
        "    excess_cost = excess_power * electricity_cost\n",
        "    cost_till_current_buying = i * cost_of_buying\n",
        "    cost_till_current_solar = (i * excess_cost) + (numps * sol_cost) \n",
        "    if cost_till_current_buying > cost_till_current_solar:\n",
        "      return i\n",
        "  return -1"
      ],
      "execution_count": 76,
      "outputs": []
    },
    {
      "cell_type": "code",
      "metadata": {
        "colab": {
          "base_uri": "https://localhost:8080/",
          "height": 195
        },
        "id": "zpToiWGrySfk",
        "outputId": "f0867b6a-6d07-4872-f802-dcf09974f944"
      },
      "source": [
        "costs = pd.DataFrame(columns=('Num Panels', 'Years Till Breakeven'))\n",
        "for i in range(0,2269):\n",
        "  j = years_till_breakeven(i)\n",
        "  costs.loc[i] = [i, j]\n",
        "costs.head()"
      ],
      "execution_count": 77,
      "outputs": [
        {
          "output_type": "execute_result",
          "data": {
            "text/html": [
              "<div>\n",
              "<style scoped>\n",
              "    .dataframe tbody tr th:only-of-type {\n",
              "        vertical-align: middle;\n",
              "    }\n",
              "\n",
              "    .dataframe tbody tr th {\n",
              "        vertical-align: top;\n",
              "    }\n",
              "\n",
              "    .dataframe thead th {\n",
              "        text-align: right;\n",
              "    }\n",
              "</style>\n",
              "<table border=\"1\" class=\"dataframe\">\n",
              "  <thead>\n",
              "    <tr style=\"text-align: right;\">\n",
              "      <th></th>\n",
              "      <th>Num Panels</th>\n",
              "      <th>Years Till Breakeven</th>\n",
              "    </tr>\n",
              "  </thead>\n",
              "  <tbody>\n",
              "    <tr>\n",
              "      <th>0</th>\n",
              "      <td>0</td>\n",
              "      <td>-1</td>\n",
              "    </tr>\n",
              "    <tr>\n",
              "      <th>1</th>\n",
              "      <td>1</td>\n",
              "      <td>-1</td>\n",
              "    </tr>\n",
              "    <tr>\n",
              "      <th>2</th>\n",
              "      <td>2</td>\n",
              "      <td>-1</td>\n",
              "    </tr>\n",
              "    <tr>\n",
              "      <th>3</th>\n",
              "      <td>3</td>\n",
              "      <td>-1</td>\n",
              "    </tr>\n",
              "    <tr>\n",
              "      <th>4</th>\n",
              "      <td>4</td>\n",
              "      <td>-1</td>\n",
              "    </tr>\n",
              "  </tbody>\n",
              "</table>\n",
              "</div>"
            ],
            "text/plain": [
              "  Num Panels Years Till Breakeven\n",
              "0          0                   -1\n",
              "1          1                   -1\n",
              "2          2                   -1\n",
              "3          3                   -1\n",
              "4          4                   -1"
            ]
          },
          "metadata": {
            "tags": []
          },
          "execution_count": 77
        }
      ]
    },
    {
      "cell_type": "code",
      "metadata": {
        "colab": {
          "base_uri": "https://localhost:8080/",
          "height": 282
        },
        "id": "NnWBBpney8Wg",
        "outputId": "5f3aabdb-8703-4872-ef2a-bb5caa628914"
      },
      "source": [
        "plt.plot(costs['Num Panels'], costs['Years Till Breakeven'])\n",
        "plt.plot()"
      ],
      "execution_count": 78,
      "outputs": [
        {
          "output_type": "execute_result",
          "data": {
            "text/plain": [
              "[]"
            ]
          },
          "metadata": {
            "tags": []
          },
          "execution_count": 78
        },
        {
          "output_type": "display_data",
          "data": {
            "image/png": "[encoded data removed]",
            "text/plain": [
              "<Figure size 432x288 with 1 Axes>"
            ]
          },
          "metadata": {
            "tags": [],
            "needs_background": "light"
          }
        }
      ]
    },
    {
      "cell_type": "code",
      "metadata": {
        "id": "W51PoXhO944O"
      },
      "source": [
        "excess_power = uni_power_lawson - (sol_power_lawson * 24 * 500)\n",
        "excess_power[excess_power < 0] = 0"
      ],
      "execution_count": 79,
      "outputs": []
    },
    {
      "cell_type": "code",
      "metadata": {
        "colab": {
          "base_uri": "https://localhost:8080/",
          "height": 282
        },
        "id": "7tIvhmmt_JoR",
        "outputId": "6955f8fb-5ab8-4921-ef4e-f5a459db2037"
      },
      "source": [
        "plt.plot(range(1,365), excess_power)"
      ],
      "execution_count": 80,
      "outputs": [
        {
          "output_type": "execute_result",
          "data": {
            "text/plain": [
              "[<matplotlib.lines.Line2D at 0x7fe1750779b0>]"
            ]
          },
          "metadata": {
            "tags": []
          },
          "execution_count": 80
        },
        {
          "output_type": "display_data",
          "data": {
            "image/png": "[encoded data removed]",
            "text/plain": [
              "<Figure size 432x288 with 1 Axes>"
            ]
          },
          "metadata": {
            "tags": [],
            "needs_background": "light"
          }
        }
      ]
    },
    {
      "cell_type": "markdown",
      "metadata": {
        "id": "m--tsEf_9ayR"
      },
      "source": [
        ""
      ]
    },
    {
      "cell_type": "code",
      "metadata": {
        "id": "Ado15nsex8Qf"
      },
      "source": [
        ""
      ],
      "execution_count": 80,
      "outputs": []
    },
    {
      "cell_type": "code",
      "metadata": {
        "id": "TsrOY-0L9Z51"
      },
      "source": [
        ""
      ],
      "execution_count": 80,
      "outputs": []
    }
  ]
}