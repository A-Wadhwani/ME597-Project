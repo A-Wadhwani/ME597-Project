{
  "nbformat": 4,
  "nbformat_minor": 0,
  "metadata": {
    "kernelspec": {
      "display_name": "Python 3",
      "language": "python",
      "name": "python3"
    },
    "language_info": {
      "codemirror_mode": {
        "name": "ipython",
        "version": 3
      },
      "file_extension": ".py",
      "mimetype": "text/x-python",
      "name": "python",
      "nbconvert_exporter": "python",
      "pygments_lexer": "ipython3",
      "version": "3.7.6"
    },
    "colab": {
      "name": "ANN_Model_UMass_power.ipynb",
      "provenance": [],
      "include_colab_link": true
    },
    "accelerator": "GPU"
  },
  "cells": [
    {
      "cell_type": "markdown",
      "metadata": {
        "id": "view-in-github",
        "colab_type": "text"
      },
      "source": [
        "<a href=\"https://colab.research.google.com/github/A-Wadhwani/ME597-Project/blob/prelim_results/ANN_Model_UMass_power.ipynb\" target=\"_parent\"><img src=\"https://colab.research.google.com/assets/colab-badge.svg\" alt=\"Open In Colab\"/></a>"
      ]
    },
    {
      "cell_type": "markdown",
      "metadata": {
        "id": "nVptR3ybE4QL"
      },
      "source": [
        "# Setup"
      ]
    },
    {
      "cell_type": "code",
      "metadata": {
        "colab": {
          "base_uri": "https://localhost:8080/"
        },
        "id": "Xac5n8PnAWi6",
        "outputId": "64126739-1955-4216-ec9f-9c6033a8865b"
      },
      "source": [
        "#importing required libraries\n",
        "%load_ext tensorboard\n",
        "import tensorflow as tf\n",
        "import keras as kr\n",
        "import numpy as np\n",
        "import pandas as pd\n",
        "import datetime\n",
        "import statistics as st\n",
        "from sklearn import metrics\n",
        "import matplotlib.pyplot as plt\n",
        "import seaborn as sns\n",
        "\n",
        "from sklearn.preprocessing import StandardScaler\n",
        "from sklearn.preprocessing import RobustScaler\n",
        "\n",
        "from sklearn.model_selection import train_test_split\n",
        "\n",
        "from tensorflow import keras\n",
        "from tensorflow.keras import layers\n",
        "from tensorflow.keras import Sequential \n",
        "from tensorflow.keras.layers import Dense, Activation, Dropout\n",
        "from tensorflow.keras.callbacks import EarlyStopping\n",
        "from tensorflow.keras.callbacks import ReduceLROnPlateau\n",
        "from tensorflow.keras import regularizers\n",
        "from keras.wrappers.scikit_learn import KerasClassifier, KerasRegressor\n",
        "from tensorflow.keras import regularizers\n"
      ],
      "execution_count": 219,
      "outputs": [
        {
          "output_type": "stream",
          "text": [
            "The tensorboard extension is already loaded. To reload it, use:\n",
            "  %reload_ext tensorboard\n"
          ],
          "name": "stdout"
        }
      ]
    },
    {
      "cell_type": "code",
      "metadata": {
        "colab": {
          "base_uri": "https://localhost:8080/",
          "height": 0
        },
        "id": "rEfzx8CLAWi7",
        "outputId": "ee810754-17fa-4584-9bf4-33937fb2cac3"
      },
      "source": [
        "#Importing the dataset\n",
        "\n",
        "data_df = pd.read_csv(\"https://raw.githubusercontent.com/A-Wadhwani/ME597-Project/prelim_results/Datasets/Solar%20Power%20Data/Umass_total_data.csv\")\n",
        "data_df.head(10)\n"
      ],
      "execution_count": 220,
      "outputs": [
        {
          "output_type": "execute_result",
          "data": {
            "text/html": [
              "<div>\n",
              "<style scoped>\n",
              "    .dataframe tbody tr th:only-of-type {\n",
              "        vertical-align: middle;\n",
              "    }\n",
              "\n",
              "    .dataframe tbody tr th {\n",
              "        vertical-align: top;\n",
              "    }\n",
              "\n",
              "    .dataframe thead th {\n",
              "        text-align: right;\n",
              "    }\n",
              "</style>\n",
              "<table border=\"1\" class=\"dataframe\">\n",
              "  <thead>\n",
              "    <tr style=\"text-align: right;\">\n",
              "      <th></th>\n",
              "      <th>Unnamed: 0</th>\n",
              "      <th>Year</th>\n",
              "      <th>Month</th>\n",
              "      <th>Day</th>\n",
              "      <th>DHI</th>\n",
              "      <th>DNI Max</th>\n",
              "      <th>DNI Min</th>\n",
              "      <th>DNI Mean</th>\n",
              "      <th>GHI</th>\n",
              "      <th>Clearsky DHI</th>\n",
              "      <th>Clearsky DNI</th>\n",
              "      <th>Clearsky GHI</th>\n",
              "      <th>Temp Max</th>\n",
              "      <th>Temp Min</th>\n",
              "      <th>Wind Speed</th>\n",
              "      <th>Precipitable Water</th>\n",
              "      <th>Wind Direction</th>\n",
              "      <th>Relative Humidity</th>\n",
              "      <th>Temperature</th>\n",
              "      <th>Pressure</th>\n",
              "      <th>UMASS Amherst - Computer Science null</th>\n",
              "      <th>UMASS Amherst - Fine Arts Center null</th>\n",
              "      <th>UMASS Amherst - Recreation Center null</th>\n",
              "      <th>Date</th>\n",
              "    </tr>\n",
              "  </thead>\n",
              "  <tbody>\n",
              "    <tr>\n",
              "      <th>0</th>\n",
              "      <td>0</td>\n",
              "      <td>2017</td>\n",
              "      <td>2</td>\n",
              "      <td>3</td>\n",
              "      <td>76.100000</td>\n",
              "      <td>808</td>\n",
              "      <td>194</td>\n",
              "      <td>606.200000</td>\n",
              "      <td>305.800000</td>\n",
              "      <td>86.300000</td>\n",
              "      <td>697.200000</td>\n",
              "      <td>350.800000</td>\n",
              "      <td>-2.0</td>\n",
              "      <td>-8.0</td>\n",
              "      <td>0.480000</td>\n",
              "      <td>0.383400</td>\n",
              "      <td>277.570000</td>\n",
              "      <td>67.023000</td>\n",
              "      <td>-3.500000</td>\n",
              "      <td>1000.000000</td>\n",
              "      <td>1.061948</td>\n",
              "      <td>1.411040</td>\n",
              "      <td>1.095000</td>\n",
              "      <td>2017-02-03</td>\n",
              "    </tr>\n",
              "    <tr>\n",
              "      <th>1</th>\n",
              "      <td>1</td>\n",
              "      <td>2017</td>\n",
              "      <td>2</td>\n",
              "      <td>4</td>\n",
              "      <td>88.100000</td>\n",
              "      <td>874</td>\n",
              "      <td>286</td>\n",
              "      <td>676.200000</td>\n",
              "      <td>345.400000</td>\n",
              "      <td>88.200000</td>\n",
              "      <td>694.800000</td>\n",
              "      <td>355.100000</td>\n",
              "      <td>-3.0</td>\n",
              "      <td>-7.0</td>\n",
              "      <td>0.600000</td>\n",
              "      <td>0.363900</td>\n",
              "      <td>284.940000</td>\n",
              "      <td>67.680000</td>\n",
              "      <td>-3.900000</td>\n",
              "      <td>1000.000000</td>\n",
              "      <td>1.409026</td>\n",
              "      <td>1.852061</td>\n",
              "      <td>1.453818</td>\n",
              "      <td>2017-02-04</td>\n",
              "    </tr>\n",
              "    <tr>\n",
              "      <th>2</th>\n",
              "      <td>2</td>\n",
              "      <td>2017</td>\n",
              "      <td>2</td>\n",
              "      <td>5</td>\n",
              "      <td>122.888889</td>\n",
              "      <td>693</td>\n",
              "      <td>31</td>\n",
              "      <td>356.222222</td>\n",
              "      <td>278.333333</td>\n",
              "      <td>117.666667</td>\n",
              "      <td>615.888889</td>\n",
              "      <td>370.555556</td>\n",
              "      <td>1.0</td>\n",
              "      <td>-5.0</td>\n",
              "      <td>0.566667</td>\n",
              "      <td>0.886000</td>\n",
              "      <td>209.822222</td>\n",
              "      <td>76.916667</td>\n",
              "      <td>-1.000000</td>\n",
              "      <td>992.222222</td>\n",
              "      <td>0.810475</td>\n",
              "      <td>0.826453</td>\n",
              "      <td>0.818667</td>\n",
              "      <td>2017-02-05</td>\n",
              "    </tr>\n",
              "    <tr>\n",
              "      <th>3</th>\n",
              "      <td>3</td>\n",
              "      <td>2017</td>\n",
              "      <td>2</td>\n",
              "      <td>6</td>\n",
              "      <td>77.666667</td>\n",
              "      <td>927</td>\n",
              "      <td>4</td>\n",
              "      <td>649.222222</td>\n",
              "      <td>336.444444</td>\n",
              "      <td>72.222222</td>\n",
              "      <td>752.111111</td>\n",
              "      <td>373.000000</td>\n",
              "      <td>0.0</td>\n",
              "      <td>-5.0</td>\n",
              "      <td>0.611111</td>\n",
              "      <td>0.731889</td>\n",
              "      <td>294.100000</td>\n",
              "      <td>61.147778</td>\n",
              "      <td>-1.777778</td>\n",
              "      <td>1000.000000</td>\n",
              "      <td>1.234228</td>\n",
              "      <td>1.570186</td>\n",
              "      <td>1.250591</td>\n",
              "      <td>2017-02-06</td>\n",
              "    </tr>\n",
              "    <tr>\n",
              "      <th>4</th>\n",
              "      <td>4</td>\n",
              "      <td>2017</td>\n",
              "      <td>2</td>\n",
              "      <td>8</td>\n",
              "      <td>109.800000</td>\n",
              "      <td>850</td>\n",
              "      <td>33</td>\n",
              "      <td>466.400000</td>\n",
              "      <td>295.700000</td>\n",
              "      <td>96.600000</td>\n",
              "      <td>657.000000</td>\n",
              "      <td>360.400000</td>\n",
              "      <td>5.0</td>\n",
              "      <td>1.0</td>\n",
              "      <td>0.500000</td>\n",
              "      <td>1.026600</td>\n",
              "      <td>284.440000</td>\n",
              "      <td>98.111000</td>\n",
              "      <td>2.800000</td>\n",
              "      <td>985.000000</td>\n",
              "      <td>0.657363</td>\n",
              "      <td>1.043031</td>\n",
              "      <td>0.712076</td>\n",
              "      <td>2017-02-08</td>\n",
              "    </tr>\n",
              "    <tr>\n",
              "      <th>5</th>\n",
              "      <td>5</td>\n",
              "      <td>2017</td>\n",
              "      <td>2</td>\n",
              "      <td>10</td>\n",
              "      <td>97.700000</td>\n",
              "      <td>969</td>\n",
              "      <td>213</td>\n",
              "      <td>648.100000</td>\n",
              "      <td>347.400000</td>\n",
              "      <td>75.300000</td>\n",
              "      <td>799.600000</td>\n",
              "      <td>395.800000</td>\n",
              "      <td>-8.0</td>\n",
              "      <td>-12.0</td>\n",
              "      <td>0.800000</td>\n",
              "      <td>0.313100</td>\n",
              "      <td>303.320000</td>\n",
              "      <td>79.364000</td>\n",
              "      <td>-9.400000</td>\n",
              "      <td>1000.000000</td>\n",
              "      <td>0.630855</td>\n",
              "      <td>0.915967</td>\n",
              "      <td>0.251333</td>\n",
              "      <td>2017-02-10</td>\n",
              "    </tr>\n",
              "    <tr>\n",
              "      <th>6</th>\n",
              "      <td>6</td>\n",
              "      <td>2017</td>\n",
              "      <td>2</td>\n",
              "      <td>11</td>\n",
              "      <td>231.333333</td>\n",
              "      <td>71</td>\n",
              "      <td>44</td>\n",
              "      <td>60.000000</td>\n",
              "      <td>263.666667</td>\n",
              "      <td>174.333333</td>\n",
              "      <td>717.000000</td>\n",
              "      <td>559.333333</td>\n",
              "      <td>-2.0</td>\n",
              "      <td>-2.0</td>\n",
              "      <td>0.100000</td>\n",
              "      <td>1.254333</td>\n",
              "      <td>93.700000</td>\n",
              "      <td>93.980000</td>\n",
              "      <td>-2.000000</td>\n",
              "      <td>990.000000</td>\n",
              "      <td>0.013872</td>\n",
              "      <td>0.314078</td>\n",
              "      <td>0.006076</td>\n",
              "      <td>2017-02-11</td>\n",
              "    </tr>\n",
              "    <tr>\n",
              "      <th>7</th>\n",
              "      <td>7</td>\n",
              "      <td>2017</td>\n",
              "      <td>2</td>\n",
              "      <td>13</td>\n",
              "      <td>151.100000</td>\n",
              "      <td>634</td>\n",
              "      <td>54</td>\n",
              "      <td>364.500000</td>\n",
              "      <td>288.500000</td>\n",
              "      <td>134.700000</td>\n",
              "      <td>593.500000</td>\n",
              "      <td>384.800000</td>\n",
              "      <td>-4.0</td>\n",
              "      <td>-5.0</td>\n",
              "      <td>1.310000</td>\n",
              "      <td>0.568900</td>\n",
              "      <td>313.540000</td>\n",
              "      <td>91.813000</td>\n",
              "      <td>-4.100000</td>\n",
              "      <td>984.000000</td>\n",
              "      <td>0.021354</td>\n",
              "      <td>1.335474</td>\n",
              "      <td>0.008955</td>\n",
              "      <td>2017-02-13</td>\n",
              "    </tr>\n",
              "    <tr>\n",
              "      <th>8</th>\n",
              "      <td>8</td>\n",
              "      <td>2017</td>\n",
              "      <td>2</td>\n",
              "      <td>14</td>\n",
              "      <td>88.300000</td>\n",
              "      <td>907</td>\n",
              "      <td>269</td>\n",
              "      <td>715.200000</td>\n",
              "      <td>395.300000</td>\n",
              "      <td>86.300000</td>\n",
              "      <td>756.600000</td>\n",
              "      <td>402.000000</td>\n",
              "      <td>0.0</td>\n",
              "      <td>-11.0</td>\n",
              "      <td>0.280000</td>\n",
              "      <td>0.607600</td>\n",
              "      <td>262.120000</td>\n",
              "      <td>88.257000</td>\n",
              "      <td>-3.300000</td>\n",
              "      <td>990.000000</td>\n",
              "      <td>0.177933</td>\n",
              "      <td>1.911908</td>\n",
              "      <td>0.117985</td>\n",
              "      <td>2017-02-14</td>\n",
              "    </tr>\n",
              "    <tr>\n",
              "      <th>9</th>\n",
              "      <td>9</td>\n",
              "      <td>2017</td>\n",
              "      <td>2</td>\n",
              "      <td>15</td>\n",
              "      <td>173.875000</td>\n",
              "      <td>457</td>\n",
              "      <td>7</td>\n",
              "      <td>231.000000</td>\n",
              "      <td>281.375000</td>\n",
              "      <td>151.500000</td>\n",
              "      <td>602.375000</td>\n",
              "      <td>438.750000</td>\n",
              "      <td>1.0</td>\n",
              "      <td>0.0</td>\n",
              "      <td>0.237500</td>\n",
              "      <td>1.008250</td>\n",
              "      <td>145.400000</td>\n",
              "      <td>99.466250</td>\n",
              "      <td>0.750000</td>\n",
              "      <td>975.000000</td>\n",
              "      <td>0.253753</td>\n",
              "      <td>0.659790</td>\n",
              "      <td>0.230424</td>\n",
              "      <td>2017-02-15</td>\n",
              "    </tr>\n",
              "  </tbody>\n",
              "</table>\n",
              "</div>"
            ],
            "text/plain": [
              "   Unnamed: 0  Year  ...  UMASS Amherst - Recreation Center null        Date\n",
              "0           0  2017  ...                                1.095000  2017-02-03\n",
              "1           1  2017  ...                                1.453818  2017-02-04\n",
              "2           2  2017  ...                                0.818667  2017-02-05\n",
              "3           3  2017  ...                                1.250591  2017-02-06\n",
              "4           4  2017  ...                                0.712076  2017-02-08\n",
              "5           5  2017  ...                                0.251333  2017-02-10\n",
              "6           6  2017  ...                                0.006076  2017-02-11\n",
              "7           7  2017  ...                                0.008955  2017-02-13\n",
              "8           8  2017  ...                                0.117985  2017-02-14\n",
              "9           9  2017  ...                                0.230424  2017-02-15\n",
              "\n",
              "[10 rows x 24 columns]"
            ]
          },
          "metadata": {
            "tags": []
          },
          "execution_count": 220
        }
      ]
    },
    {
      "cell_type": "code",
      "metadata": {
        "colab": {
          "base_uri": "https://localhost:8080/"
        },
        "id": "DN2UQXnqAWng",
        "outputId": "d2f231fa-c8e4-42d4-e659-c469ad25fa95"
      },
      "source": [
        "data_df.dtypes"
      ],
      "execution_count": 221,
      "outputs": [
        {
          "output_type": "execute_result",
          "data": {
            "text/plain": [
              "Unnamed: 0                                  int64\n",
              "Year                                        int64\n",
              "Month                                       int64\n",
              "Day                                         int64\n",
              "DHI                                       float64\n",
              "DNI Max                                     int64\n",
              "DNI Min                                     int64\n",
              "DNI Mean                                  float64\n",
              "GHI                                       float64\n",
              "Clearsky DHI                              float64\n",
              "Clearsky DNI                              float64\n",
              "Clearsky GHI                              float64\n",
              "Temp Max                                  float64\n",
              "Temp Min                                  float64\n",
              "Wind Speed                                float64\n",
              "Precipitable Water                        float64\n",
              "Wind Direction                            float64\n",
              "Relative Humidity                         float64\n",
              "Temperature                               float64\n",
              "Pressure                                  float64\n",
              "UMASS Amherst - Computer Science null     float64\n",
              "UMASS Amherst - Fine Arts Center null     float64\n",
              "UMASS Amherst - Recreation Center null    float64\n",
              "Date                                       object\n",
              "dtype: object"
            ]
          },
          "metadata": {
            "tags": []
          },
          "execution_count": 221
        }
      ]
    },
    {
      "cell_type": "markdown",
      "metadata": {
        "id": "sg-0P9C1E9R_"
      },
      "source": [
        "# Data Sorting and scaling"
      ]
    },
    {
      "cell_type": "code",
      "metadata": {
        "id": "LvBzH3Q8G8rD"
      },
      "source": [
        "#Splitting dataset into X and Y variables\n",
        "X_data = data_df[['DHI','DNI Max', 'DNI Min', 'DNI Mean', 'GHI', 'Clearsky DNI', 'Clearsky DHI', 'Clearsky GHI', 'Wind Speed', 'Precipitable Water', 'Relative Humidity', 'Temperature','Temp Max','Temp Min' ,'Pressure']]\n",
        "#Y_data = data_df[['UMASS Amherst - Computer Science null']]\n",
        "Y_data = data_df[['UMASS Amherst - Fine Arts Center null']]\n",
        "#Y_data = data_df[['UMASS Amherst - Recreation Center null']]"
      ],
      "execution_count": 222,
      "outputs": []
    },
    {
      "cell_type": "code",
      "metadata": {
        "id": "tYzyZugkAWi7"
      },
      "source": [
        "#Scaling the data\n",
        "scaler1 = RobustScaler()\n",
        "scaler2 = RobustScaler()\n",
        "\n",
        "X_data_scaled = scaler1.fit_transform(X_data)\n",
        "Y_data_scaled = scaler2.fit_transform(Y_data)"
      ],
      "execution_count": 223,
      "outputs": []
    },
    {
      "cell_type": "code",
      "metadata": {
        "id": "7T5gNS28AWi7"
      },
      "source": [
        "#Splitting the X and Y variables into train and test datasets\n",
        "X_train, X_test, Y_train, Y_test = train_test_split(X_data_scaled, Y_data_scaled, test_size=0.4, shuffle = True)"
      ],
      "execution_count": 224,
      "outputs": []
    },
    {
      "cell_type": "markdown",
      "metadata": {
        "id": "6g6rIsahFDDT"
      },
      "source": [
        "# Developing ANN model"
      ]
    },
    {
      "cell_type": "code",
      "metadata": {
        "id": "KCgaNUF4VH9a"
      },
      "source": [
        "#creating optimizer method\n",
        "optimizer1 = tf.keras.optimizers.Adam(learning_rate=0.001, beta_1=0.8, beta_2=0.999, epsilon=1e-8)"
      ],
      "execution_count": 225,
      "outputs": []
    },
    {
      "cell_type": "code",
      "metadata": {
        "id": "GaEskgx6AWi8",
        "colab": {
          "base_uri": "https://localhost:8080/"
        },
        "outputId": "1f0686e2-028b-4bc3-c960-dac63c24975e"
      },
      "source": [
        "# Creating and training the ANN model\n",
        "model = Sequential()\n",
        "model.add(Dense(512, input_dim = X_data.shape[1], activation='relu', kernel_initializer = 'random_normal'))\n",
        "model.add(Dense(256, activation='relu', kernel_initializer = 'random_normal',  activity_regularizer=regularizers.l1(3.5e-4)))\n",
        "model.add(Dropout(0.3))\n",
        "model.add(Dense(128, activation='relu', kernel_initializer = 'random_normal',  activity_regularizer=regularizers.l1(3.5e-4)))\n",
        "model.add(Dropout(0.3))\n",
        "model.add(Dense(64, activation='relu', kernel_initializer = 'random_normal',  activity_regularizer=regularizers.l1(3.5e-4)))\n",
        "model.add(Dropout(0.3))\n",
        "model.add(Dense(32, activation='relu', kernel_initializer = 'random_normal',  activity_regularizer=regularizers.l1(3.5e-4)))\n",
        "model.add(Dropout(0.3))\n",
        "model.add(Dense(16, activation='relu', kernel_initializer = 'random_normal',  activity_regularizer=regularizers.l1(3.5e-4)))\n",
        "model.add(Dropout(0.3))\n",
        "model.add(Dense(1, activation = 'linear'))\n",
        "model.compile(loss='mse', optimizer = optimizer1, metrics = [tf.keras.metrics.RootMeanSquaredError(),'mean_squared_error'])\n",
        "\n",
        "\n",
        "monitor = EarlyStopping(monitor ='val_loss', min_delta= 1e-3, patience = 20, verbose =1, restore_best_weights=True  )\n",
        "reduce_lr = ReduceLROnPlateau(monitor='val_loss', factor=0.2, patience=5, verbose = 1)\n",
        "\n",
        "history = model.fit(X_train, Y_train, validation_data=(X_test, Y_test), epochs = 200, verbose =1, callbacks = [monitor, reduce_lr], batch_size = 25)"
      ],
      "execution_count": 226,
      "outputs": [
        {
          "output_type": "stream",
          "text": [
            "Epoch 1/200\n",
            "23/23 [==============================] - 0s 13ms/step - loss: 0.2529 - root_mean_squared_error: 0.4950 - mean_squared_error: 0.2450 - val_loss: 0.1418 - val_root_mean_squared_error: 0.3613 - val_mean_squared_error: 0.1306\n",
            "Epoch 2/200\n",
            "23/23 [==============================] - 0s 6ms/step - loss: 0.1419 - root_mean_squared_error: 0.3562 - mean_squared_error: 0.1269 - val_loss: 0.0766 - val_root_mean_squared_error: 0.2497 - val_mean_squared_error: 0.0624\n",
            "Epoch 3/200\n",
            "23/23 [==============================] - 0s 6ms/step - loss: 0.0910 - root_mean_squared_error: 0.2763 - mean_squared_error: 0.0763 - val_loss: 0.0606 - val_root_mean_squared_error: 0.2214 - val_mean_squared_error: 0.0490\n",
            "Epoch 4/200\n",
            "23/23 [==============================] - 0s 7ms/step - loss: 0.0905 - root_mean_squared_error: 0.2804 - mean_squared_error: 0.0786 - val_loss: 0.0611 - val_root_mean_squared_error: 0.2260 - val_mean_squared_error: 0.0511\n",
            "Epoch 5/200\n",
            "23/23 [==============================] - 0s 6ms/step - loss: 0.0885 - root_mean_squared_error: 0.2786 - mean_squared_error: 0.0776 - val_loss: 0.0528 - val_root_mean_squared_error: 0.2102 - val_mean_squared_error: 0.0442\n",
            "Epoch 6/200\n",
            "23/23 [==============================] - 0s 6ms/step - loss: 0.0780 - root_mean_squared_error: 0.2617 - mean_squared_error: 0.0685 - val_loss: 0.0490 - val_root_mean_squared_error: 0.2012 - val_mean_squared_error: 0.0405\n",
            "Epoch 7/200\n",
            "23/23 [==============================] - 0s 6ms/step - loss: 0.0745 - root_mean_squared_error: 0.2567 - mean_squared_error: 0.0659 - val_loss: 0.0451 - val_root_mean_squared_error: 0.1930 - val_mean_squared_error: 0.0372\n",
            "Epoch 8/200\n",
            "23/23 [==============================] - 0s 6ms/step - loss: 0.0759 - root_mean_squared_error: 0.2610 - mean_squared_error: 0.0681 - val_loss: 0.0435 - val_root_mean_squared_error: 0.1889 - val_mean_squared_error: 0.0357\n",
            "Epoch 9/200\n",
            "23/23 [==============================] - 0s 7ms/step - loss: 0.0782 - root_mean_squared_error: 0.2659 - mean_squared_error: 0.0707 - val_loss: 0.0461 - val_root_mean_squared_error: 0.1991 - val_mean_squared_error: 0.0396\n",
            "Epoch 10/200\n",
            "23/23 [==============================] - 0s 7ms/step - loss: 0.0676 - root_mean_squared_error: 0.2462 - mean_squared_error: 0.0606 - val_loss: 0.0438 - val_root_mean_squared_error: 0.1942 - val_mean_squared_error: 0.0377\n",
            "Epoch 11/200\n",
            "23/23 [==============================] - 0s 6ms/step - loss: 0.0656 - root_mean_squared_error: 0.2432 - mean_squared_error: 0.0591 - val_loss: 0.0418 - val_root_mean_squared_error: 0.1886 - val_mean_squared_error: 0.0356\n",
            "Epoch 12/200\n",
            "23/23 [==============================] - 0s 6ms/step - loss: 0.0692 - root_mean_squared_error: 0.2509 - mean_squared_error: 0.0629 - val_loss: 0.0510 - val_root_mean_squared_error: 0.2130 - val_mean_squared_error: 0.0454\n",
            "Epoch 13/200\n",
            "23/23 [==============================] - 0s 6ms/step - loss: 0.0699 - root_mean_squared_error: 0.2525 - mean_squared_error: 0.0638 - val_loss: 0.0398 - val_root_mean_squared_error: 0.1852 - val_mean_squared_error: 0.0343\n",
            "Epoch 14/200\n",
            "23/23 [==============================] - 0s 6ms/step - loss: 0.0584 - root_mean_squared_error: 0.2292 - mean_squared_error: 0.0525 - val_loss: 0.0458 - val_root_mean_squared_error: 0.2016 - val_mean_squared_error: 0.0406\n",
            "Epoch 15/200\n",
            "23/23 [==============================] - 0s 7ms/step - loss: 0.0613 - root_mean_squared_error: 0.2357 - mean_squared_error: 0.0556 - val_loss: 0.0431 - val_root_mean_squared_error: 0.1948 - val_mean_squared_error: 0.0380\n",
            "Epoch 16/200\n",
            "23/23 [==============================] - 0s 7ms/step - loss: 0.0653 - root_mean_squared_error: 0.2446 - mean_squared_error: 0.0598 - val_loss: 0.0488 - val_root_mean_squared_error: 0.2093 - val_mean_squared_error: 0.0438\n",
            "Epoch 17/200\n",
            "23/23 [==============================] - 0s 6ms/step - loss: 0.0668 - root_mean_squared_error: 0.2481 - mean_squared_error: 0.0616 - val_loss: 0.0465 - val_root_mean_squared_error: 0.2043 - val_mean_squared_error: 0.0417\n",
            "Epoch 18/200\n",
            "13/23 [===============>..............] - ETA: 0s - loss: 0.0585 - root_mean_squared_error: 0.2298 - mean_squared_error: 0.0528\n",
            "Epoch 00018: ReduceLROnPlateau reducing learning rate to 0.00020000000949949026.\n",
            "23/23 [==============================] - 0s 6ms/step - loss: 0.0564 - root_mean_squared_error: 0.2258 - mean_squared_error: 0.0510 - val_loss: 0.0421 - val_root_mean_squared_error: 0.1924 - val_mean_squared_error: 0.0370\n",
            "Epoch 19/200\n",
            "23/23 [==============================] - 0s 6ms/step - loss: 0.0537 - root_mean_squared_error: 0.2200 - mean_squared_error: 0.0484 - val_loss: 0.0398 - val_root_mean_squared_error: 0.1871 - val_mean_squared_error: 0.0350\n",
            "Epoch 20/200\n",
            "23/23 [==============================] - 0s 6ms/step - loss: 0.0562 - root_mean_squared_error: 0.2258 - mean_squared_error: 0.0510 - val_loss: 0.0417 - val_root_mean_squared_error: 0.1925 - val_mean_squared_error: 0.0371\n",
            "Epoch 21/200\n",
            "23/23 [==============================] - 0s 6ms/step - loss: 0.0496 - root_mean_squared_error: 0.2109 - mean_squared_error: 0.0445 - val_loss: 0.0385 - val_root_mean_squared_error: 0.1835 - val_mean_squared_error: 0.0337\n",
            "Epoch 22/200\n",
            "23/23 [==============================] - 0s 6ms/step - loss: 0.0558 - root_mean_squared_error: 0.2252 - mean_squared_error: 0.0507 - val_loss: 0.0397 - val_root_mean_squared_error: 0.1873 - val_mean_squared_error: 0.0351\n",
            "Epoch 23/200\n",
            "23/23 [==============================] - 0s 7ms/step - loss: 0.0504 - root_mean_squared_error: 0.2129 - mean_squared_error: 0.0453 - val_loss: 0.0387 - val_root_mean_squared_error: 0.1844 - val_mean_squared_error: 0.0340\n",
            "Epoch 24/200\n",
            "23/23 [==============================] - 0s 6ms/step - loss: 0.0564 - root_mean_squared_error: 0.2270 - mean_squared_error: 0.0515 - val_loss: 0.0396 - val_root_mean_squared_error: 0.1872 - val_mean_squared_error: 0.0350\n",
            "Epoch 25/200\n",
            "23/23 [==============================] - 0s 6ms/step - loss: 0.0513 - root_mean_squared_error: 0.2154 - mean_squared_error: 0.0464 - val_loss: 0.0415 - val_root_mean_squared_error: 0.1932 - val_mean_squared_error: 0.0373\n",
            "Epoch 26/200\n",
            "14/23 [=================>............] - ETA: 0s - loss: 0.0590 - root_mean_squared_error: 0.2327 - mean_squared_error: 0.0541\n",
            "Epoch 00026: ReduceLROnPlateau reducing learning rate to 4.0000001899898055e-05.\n",
            "23/23 [==============================] - 0s 6ms/step - loss: 0.0510 - root_mean_squared_error: 0.2149 - mean_squared_error: 0.0462 - val_loss: 0.0398 - val_root_mean_squared_error: 0.1884 - val_mean_squared_error: 0.0355\n",
            "Epoch 27/200\n",
            "23/23 [==============================] - 0s 6ms/step - loss: 0.0485 - root_mean_squared_error: 0.2093 - mean_squared_error: 0.0438 - val_loss: 0.0391 - val_root_mean_squared_error: 0.1864 - val_mean_squared_error: 0.0348\n",
            "Epoch 28/200\n",
            "23/23 [==============================] - 0s 7ms/step - loss: 0.0491 - root_mean_squared_error: 0.2106 - mean_squared_error: 0.0444 - val_loss: 0.0385 - val_root_mean_squared_error: 0.1848 - val_mean_squared_error: 0.0341\n",
            "Epoch 29/200\n",
            "23/23 [==============================] - 0s 7ms/step - loss: 0.0488 - root_mean_squared_error: 0.2099 - mean_squared_error: 0.0441 - val_loss: 0.0388 - val_root_mean_squared_error: 0.1854 - val_mean_squared_error: 0.0344\n",
            "Epoch 30/200\n",
            "23/23 [==============================] - 0s 6ms/step - loss: 0.0497 - root_mean_squared_error: 0.2120 - mean_squared_error: 0.0449 - val_loss: 0.0394 - val_root_mean_squared_error: 0.1872 - val_mean_squared_error: 0.0351\n",
            "Epoch 31/200\n",
            "14/23 [=================>............] - ETA: 0s - loss: 0.0476 - root_mean_squared_error: 0.2073 - mean_squared_error: 0.0430\n",
            "Epoch 00031: ReduceLROnPlateau reducing learning rate to 8.000000525498762e-06.\n",
            "23/23 [==============================] - 0s 6ms/step - loss: 0.0498 - root_mean_squared_error: 0.2124 - mean_squared_error: 0.0451 - val_loss: 0.0384 - val_root_mean_squared_error: 0.1843 - val_mean_squared_error: 0.0340\n",
            "Epoch 32/200\n",
            "23/23 [==============================] - 0s 6ms/step - loss: 0.0482 - root_mean_squared_error: 0.2082 - mean_squared_error: 0.0434 - val_loss: 0.0385 - val_root_mean_squared_error: 0.1847 - val_mean_squared_error: 0.0341\n",
            "Epoch 33/200\n",
            "23/23 [==============================] - 0s 6ms/step - loss: 0.0479 - root_mean_squared_error: 0.2077 - mean_squared_error: 0.0431 - val_loss: 0.0386 - val_root_mean_squared_error: 0.1851 - val_mean_squared_error: 0.0343\n",
            "Epoch 34/200\n",
            "23/23 [==============================] - 0s 6ms/step - loss: 0.0494 - root_mean_squared_error: 0.2115 - mean_squared_error: 0.0447 - val_loss: 0.0387 - val_root_mean_squared_error: 0.1852 - val_mean_squared_error: 0.0343\n",
            "Epoch 35/200\n",
            "23/23 [==============================] - 0s 7ms/step - loss: 0.0440 - root_mean_squared_error: 0.1980 - mean_squared_error: 0.0392 - val_loss: 0.0385 - val_root_mean_squared_error: 0.1847 - val_mean_squared_error: 0.0341\n",
            "Epoch 36/200\n",
            "23/23 [==============================] - ETA: 0s - loss: 0.0477 - root_mean_squared_error: 0.2072 - mean_squared_error: 0.0430\n",
            "Epoch 00036: ReduceLROnPlateau reducing learning rate to 1.6000001778593287e-06.\n",
            "23/23 [==============================] - 0s 7ms/step - loss: 0.0477 - root_mean_squared_error: 0.2072 - mean_squared_error: 0.0430 - val_loss: 0.0386 - val_root_mean_squared_error: 0.1849 - val_mean_squared_error: 0.0342\n",
            "Epoch 37/200\n",
            "23/23 [==============================] - 0s 6ms/step - loss: 0.0515 - root_mean_squared_error: 0.2165 - mean_squared_error: 0.0469 - val_loss: 0.0385 - val_root_mean_squared_error: 0.1848 - val_mean_squared_error: 0.0342\n",
            "Epoch 38/200\n",
            "23/23 [==============================] - 0s 6ms/step - loss: 0.0426 - root_mean_squared_error: 0.1945 - mean_squared_error: 0.0378 - val_loss: 0.0385 - val_root_mean_squared_error: 0.1848 - val_mean_squared_error: 0.0342\n",
            "Epoch 39/200\n",
            "23/23 [==============================] - 0s 6ms/step - loss: 0.0487 - root_mean_squared_error: 0.2097 - mean_squared_error: 0.0440 - val_loss: 0.0385 - val_root_mean_squared_error: 0.1848 - val_mean_squared_error: 0.0342\n",
            "Epoch 40/200\n",
            "23/23 [==============================] - 0s 6ms/step - loss: 0.0456 - root_mean_squared_error: 0.2020 - mean_squared_error: 0.0408 - val_loss: 0.0385 - val_root_mean_squared_error: 0.1848 - val_mean_squared_error: 0.0342\n",
            "Epoch 41/200\n",
            "13/23 [===============>..............] - ETA: 0s - loss: 0.0428 - root_mean_squared_error: 0.1952 - mean_squared_error: 0.0381Restoring model weights from the end of the best epoch.\n",
            "\n",
            "Epoch 00041: ReduceLROnPlateau reducing learning rate to 3.200000264769187e-07.\n",
            "23/23 [==============================] - 0s 7ms/step - loss: 0.0455 - root_mean_squared_error: 0.2020 - mean_squared_error: 0.0408 - val_loss: 0.0385 - val_root_mean_squared_error: 0.1848 - val_mean_squared_error: 0.0341\n",
            "Epoch 00041: early stopping\n"
          ],
          "name": "stdout"
        }
      ]
    },
    {
      "cell_type": "code",
      "metadata": {
        "colab": {
          "base_uri": "https://localhost:8080/",
          "height": 639
        },
        "id": "bmZUzYQOWtBO",
        "outputId": "30eb088c-5dcc-465f-e8d4-02d8c106631b"
      },
      "source": [
        "plt.figure(figsize= (10,10))\n",
        "plt.plot(history.history['root_mean_squared_error'],label='rMSE')\n",
        "plt.plot(history.history['val_root_mean_squared_error'],label='Val_rMSE')\n",
        "plt.plot(history.history['mean_squared_error'],label='MSE')\n",
        "plt.plot(history.history['val_mean_squared_error'],label='Val_MSE')\n",
        "plt.xlabel('Epochs')\n",
        "plt.ylabel('MSE')\n",
        "plt.title(\"Graph depicting Training and Validation MSE against number of epochs\")\n",
        "plt.legend()"
      ],
      "execution_count": 227,
      "outputs": [
        {
          "output_type": "execute_result",
          "data": {
            "text/plain": [
              "<matplotlib.legend.Legend at 0x7f6f6c92ff28>"
            ]
          },
          "metadata": {
            "tags": []
          },
          "execution_count": 227
        },
        {
          "output_type": "display_data",
          "data": {
            "image/png": "[encoded data removed]",
            "text/plain": [
              "<Figure size 720x720 with 1 Axes>"
            ]
          },
          "metadata": {
            "tags": [],
            "needs_background": "light"
          }
        }
      ]
    },
    {
      "cell_type": "markdown",
      "metadata": {
        "id": "NoZaDBD1FHlM"
      },
      "source": [
        "# Analyzing effectiveness of model"
      ]
    },
    {
      "cell_type": "code",
      "metadata": {
        "id": "EvgoKqjeWog3",
        "colab": {
          "base_uri": "https://localhost:8080/"
        },
        "outputId": "04fedb52-404e-4c9e-ebc9-454742a0f078"
      },
      "source": [
        "y_f_result = model.predict(X_test)\n",
        "y_result = scaler2.inverse_transform(y_f_result)\n",
        "y_actual = scaler2.inverse_transform(Y_test)\n",
        "\n",
        "compare = pd.DataFrame()\n",
        "compare['Expected'] = y_actual.reshape(1,-1)[0]\n",
        "compare['Result'] = y_result.reshape(1,-1)[0]\n",
        "compare['Difference'] = compare['Expected'] - compare['Result']\n",
        "compare['Percentage Error'] = 100 * compare['Difference']/compare['Expected']\n",
        "\n",
        "#Print out percentile descriptions of model accuracy\n",
        "compare['Percentage Error'].describe()"
      ],
      "execution_count": 228,
      "outputs": [
        {
          "output_type": "execute_result",
          "data": {
            "text/plain": [
              "count       379.000000\n",
              "mean       -326.032845\n",
              "std        5233.084134\n",
              "min     -100828.606272\n",
              "25%         -15.427291\n",
              "50%           0.619223\n",
              "75%           8.151278\n",
              "max          44.316101\n",
              "Name: Percentage Error, dtype: float64"
            ]
          },
          "metadata": {
            "tags": []
          },
          "execution_count": 228
        }
      ]
    },
    {
      "cell_type": "code",
      "metadata": {
        "colab": {
          "base_uri": "https://localhost:8080/",
          "height": 621
        },
        "id": "WnH-J_afEkUW",
        "outputId": "99fe0903-4ab3-4d4c-ae00-d44e55628c2a"
      },
      "source": [
        "plt.figure(figsize= (10,10))\n",
        "plt.scatter(compare['Expected'], compare['Result'])\n",
        "plt.plot(compare['Expected'],compare['Expected'])\n",
        "plt.xlabel('Expected (kWh)')\n",
        "plt.ylabel('Predicted (kWh)')\n",
        "plt.title('Graph depicting power production predicted by the model against the actual power production')\n",
        "plt.show()"
      ],
      "execution_count": 229,
      "outputs": [
        {
          "output_type": "display_data",
          "data": {
            "image/png": "[encoded data removed]",
            "text/plain": [
              "<Figure size 720x720 with 1 Axes>"
            ]
          },
          "metadata": {
            "tags": [],
            "needs_background": "light"
          }
        }
      ]
    },
    {
      "cell_type": "code",
      "metadata": {
        "id": "O4ba_NDGY9XU"
      },
      "source": [
        "X_data_df = pd.DataFrame(X_data)\n",
        "Y_data_df = pd.DataFrame(Y_data)\n",
        "data2 = pd.concat([X_data_df,Y_data_df])\n",
        "data2.to_csv('/content/data2.csv')"
      ],
      "execution_count": 230,
      "outputs": []
    }
  ]
}