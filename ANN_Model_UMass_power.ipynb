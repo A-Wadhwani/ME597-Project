{
  "nbformat": 4,
  "nbformat_minor": 0,
  "metadata": {
    "kernelspec": {
      "display_name": "Python 3",
      "language": "python",
      "name": "python3"
    },
    "language_info": {
      "codemirror_mode": {
        "name": "ipython",
        "version": 3
      },
      "file_extension": ".py",
      "mimetype": "text/x-python",
      "name": "python",
      "nbconvert_exporter": "python",
      "pygments_lexer": "ipython3",
      "version": "3.7.6"
    },
    "colab": {
      "name": "ANN_Model_UMass_power.ipynb",
      "provenance": [],
      "include_colab_link": true
    },
    "accelerator": "GPU"
  },
  "cells": [
    {
      "cell_type": "markdown",
      "metadata": {
        "id": "view-in-github",
        "colab_type": "text"
      },
      "source": [
        "<a href=\"https://colab.research.google.com/github/A-Wadhwani/ME597-Project/blob/main/ANN_Model_UMass_power.ipynb\" target=\"_parent\"><img src=\"https://colab.research.google.com/assets/colab-badge.svg\" alt=\"Open In Colab\"/></a>"
      ]
    },
    {
      "cell_type": "markdown",
      "metadata": {
        "id": "nVptR3ybE4QL"
      },
      "source": [
        "# Setup"
      ]
    },
    {
      "cell_type": "code",
      "metadata": {
        "colab": {
          "base_uri": "https://localhost:8080/"
        },
        "id": "Xac5n8PnAWi6",
        "outputId": "ba5a5e96-4cb5-4671-a2e6-a7882416eeb4"
      },
      "source": [
        "#importing required libraries\n",
        "%load_ext tensorboard\n",
        "import tensorflow as tf\n",
        "import keras as kr\n",
        "import numpy as np\n",
        "import pandas as pd\n",
        "import datetime\n",
        "import statistics as st\n",
        "from sklearn import metrics\n",
        "import matplotlib.pyplot as plt\n",
        "import seaborn as sns\n",
        "\n",
        "from sklearn.preprocessing import StandardScaler\n",
        "from sklearn.preprocessing import RobustScaler\n",
        "\n",
        "from sklearn.model_selection import train_test_split\n",
        "\n",
        "from tensorflow import keras\n",
        "from tensorflow.keras import layers\n",
        "from tensorflow.keras import Sequential \n",
        "from tensorflow.keras.layers import Dense, Activation, Dropout\n",
        "from tensorflow.keras.callbacks import EarlyStopping\n",
        "from tensorflow.keras.callbacks import ReduceLROnPlateau\n",
        "from tensorflow.keras import regularizers\n",
        "from keras.wrappers.scikit_learn import KerasClassifier, KerasRegressor\n",
        "from tensorflow.keras import regularizers\n"
      ],
      "execution_count": 58,
      "outputs": [
        {
          "output_type": "stream",
          "text": [
            "The tensorboard extension is already loaded. To reload it, use:\n",
            "  %reload_ext tensorboard\n"
          ],
          "name": "stdout"
        }
      ]
    },
    {
      "cell_type": "code",
      "metadata": {
        "colab": {
          "base_uri": "https://localhost:8080/",
          "height": 614
        },
        "id": "rEfzx8CLAWi7",
        "outputId": "005ebd59-d0a4-4e22-f75e-94d3fabdc9d1"
      },
      "source": [
        "#Importing the dataset\n",
        "\n",
        "data_df = pd.read_csv(\"https://raw.githubusercontent.com/A-Wadhwani/ME597-Project/main/Datasets/Umass_total_data2.csv\")\n",
        "data_df.head(10)\n"
      ],
      "execution_count": 59,
      "outputs": [
        {
          "output_type": "execute_result",
          "data": {
            "text/html": [
              "<div>\n",
              "<style scoped>\n",
              "    .dataframe tbody tr th:only-of-type {\n",
              "        vertical-align: middle;\n",
              "    }\n",
              "\n",
              "    .dataframe tbody tr th {\n",
              "        vertical-align: top;\n",
              "    }\n",
              "\n",
              "    .dataframe thead th {\n",
              "        text-align: right;\n",
              "    }\n",
              "</style>\n",
              "<table border=\"1\" class=\"dataframe\">\n",
              "  <thead>\n",
              "    <tr style=\"text-align: right;\">\n",
              "      <th></th>\n",
              "      <th>Unnamed: 0</th>\n",
              "      <th>Year</th>\n",
              "      <th>Month</th>\n",
              "      <th>Day</th>\n",
              "      <th>DHI</th>\n",
              "      <th>DNI Max</th>\n",
              "      <th>DNI Min</th>\n",
              "      <th>DNI</th>\n",
              "      <th>GHI</th>\n",
              "      <th>Clearsky DHI</th>\n",
              "      <th>Clearsky DNI</th>\n",
              "      <th>Clearsky GHI</th>\n",
              "      <th>Wind Speed</th>\n",
              "      <th>Precipitable Water</th>\n",
              "      <th>Wind Direction</th>\n",
              "      <th>Relative Humidity</th>\n",
              "      <th>Temperature</th>\n",
              "      <th>Pressure</th>\n",
              "      <th>UMASS Amherst - Computer Science null</th>\n",
              "      <th>UMASS Amherst - Fine Arts Center null</th>\n",
              "      <th>UMASS Amherst - Recreation Center null</th>\n",
              "      <th>Date</th>\n",
              "    </tr>\n",
              "  </thead>\n",
              "  <tbody>\n",
              "    <tr>\n",
              "      <th>0</th>\n",
              "      <td>0</td>\n",
              "      <td>2017</td>\n",
              "      <td>2</td>\n",
              "      <td>3</td>\n",
              "      <td>76.100000</td>\n",
              "      <td>808</td>\n",
              "      <td>194</td>\n",
              "      <td>606.200000</td>\n",
              "      <td>305.800000</td>\n",
              "      <td>86.300000</td>\n",
              "      <td>697.200000</td>\n",
              "      <td>350.800000</td>\n",
              "      <td>0.480000</td>\n",
              "      <td>0.383400</td>\n",
              "      <td>277.570000</td>\n",
              "      <td>67.023000</td>\n",
              "      <td>-3.500000</td>\n",
              "      <td>1000.000000</td>\n",
              "      <td>1.061948</td>\n",
              "      <td>1.411040</td>\n",
              "      <td>1.095000</td>\n",
              "      <td>2017-02-03</td>\n",
              "    </tr>\n",
              "    <tr>\n",
              "      <th>1</th>\n",
              "      <td>1</td>\n",
              "      <td>2017</td>\n",
              "      <td>2</td>\n",
              "      <td>4</td>\n",
              "      <td>88.100000</td>\n",
              "      <td>874</td>\n",
              "      <td>286</td>\n",
              "      <td>676.200000</td>\n",
              "      <td>345.400000</td>\n",
              "      <td>88.200000</td>\n",
              "      <td>694.800000</td>\n",
              "      <td>355.100000</td>\n",
              "      <td>0.600000</td>\n",
              "      <td>0.363900</td>\n",
              "      <td>284.940000</td>\n",
              "      <td>67.680000</td>\n",
              "      <td>-3.900000</td>\n",
              "      <td>1000.000000</td>\n",
              "      <td>1.409026</td>\n",
              "      <td>1.852061</td>\n",
              "      <td>1.453818</td>\n",
              "      <td>2017-02-04</td>\n",
              "    </tr>\n",
              "    <tr>\n",
              "      <th>2</th>\n",
              "      <td>2</td>\n",
              "      <td>2017</td>\n",
              "      <td>2</td>\n",
              "      <td>5</td>\n",
              "      <td>122.888889</td>\n",
              "      <td>693</td>\n",
              "      <td>31</td>\n",
              "      <td>356.222222</td>\n",
              "      <td>278.333333</td>\n",
              "      <td>117.666667</td>\n",
              "      <td>615.888889</td>\n",
              "      <td>370.555556</td>\n",
              "      <td>0.566667</td>\n",
              "      <td>0.886000</td>\n",
              "      <td>209.822222</td>\n",
              "      <td>76.916667</td>\n",
              "      <td>-1.000000</td>\n",
              "      <td>992.222222</td>\n",
              "      <td>0.810475</td>\n",
              "      <td>0.826453</td>\n",
              "      <td>0.818667</td>\n",
              "      <td>2017-02-05</td>\n",
              "    </tr>\n",
              "    <tr>\n",
              "      <th>3</th>\n",
              "      <td>3</td>\n",
              "      <td>2017</td>\n",
              "      <td>2</td>\n",
              "      <td>6</td>\n",
              "      <td>77.666667</td>\n",
              "      <td>927</td>\n",
              "      <td>4</td>\n",
              "      <td>649.222222</td>\n",
              "      <td>336.444444</td>\n",
              "      <td>72.222222</td>\n",
              "      <td>752.111111</td>\n",
              "      <td>373.000000</td>\n",
              "      <td>0.611111</td>\n",
              "      <td>0.731889</td>\n",
              "      <td>294.100000</td>\n",
              "      <td>61.147778</td>\n",
              "      <td>-1.777778</td>\n",
              "      <td>1000.000000</td>\n",
              "      <td>1.234228</td>\n",
              "      <td>1.570186</td>\n",
              "      <td>1.250591</td>\n",
              "      <td>2017-02-06</td>\n",
              "    </tr>\n",
              "    <tr>\n",
              "      <th>4</th>\n",
              "      <td>4</td>\n",
              "      <td>2017</td>\n",
              "      <td>2</td>\n",
              "      <td>8</td>\n",
              "      <td>109.800000</td>\n",
              "      <td>850</td>\n",
              "      <td>33</td>\n",
              "      <td>466.400000</td>\n",
              "      <td>295.700000</td>\n",
              "      <td>96.600000</td>\n",
              "      <td>657.000000</td>\n",
              "      <td>360.400000</td>\n",
              "      <td>0.500000</td>\n",
              "      <td>1.026600</td>\n",
              "      <td>284.440000</td>\n",
              "      <td>98.111000</td>\n",
              "      <td>2.800000</td>\n",
              "      <td>985.000000</td>\n",
              "      <td>0.657363</td>\n",
              "      <td>1.043031</td>\n",
              "      <td>0.712076</td>\n",
              "      <td>2017-02-08</td>\n",
              "    </tr>\n",
              "    <tr>\n",
              "      <th>5</th>\n",
              "      <td>5</td>\n",
              "      <td>2017</td>\n",
              "      <td>2</td>\n",
              "      <td>10</td>\n",
              "      <td>97.700000</td>\n",
              "      <td>969</td>\n",
              "      <td>213</td>\n",
              "      <td>648.100000</td>\n",
              "      <td>347.400000</td>\n",
              "      <td>75.300000</td>\n",
              "      <td>799.600000</td>\n",
              "      <td>395.800000</td>\n",
              "      <td>0.800000</td>\n",
              "      <td>0.313100</td>\n",
              "      <td>303.320000</td>\n",
              "      <td>79.364000</td>\n",
              "      <td>-9.400000</td>\n",
              "      <td>1000.000000</td>\n",
              "      <td>0.630855</td>\n",
              "      <td>0.915967</td>\n",
              "      <td>0.251333</td>\n",
              "      <td>2017-02-10</td>\n",
              "    </tr>\n",
              "    <tr>\n",
              "      <th>6</th>\n",
              "      <td>6</td>\n",
              "      <td>2017</td>\n",
              "      <td>2</td>\n",
              "      <td>11</td>\n",
              "      <td>231.333333</td>\n",
              "      <td>71</td>\n",
              "      <td>44</td>\n",
              "      <td>60.000000</td>\n",
              "      <td>263.666667</td>\n",
              "      <td>174.333333</td>\n",
              "      <td>717.000000</td>\n",
              "      <td>559.333333</td>\n",
              "      <td>0.100000</td>\n",
              "      <td>1.254333</td>\n",
              "      <td>93.700000</td>\n",
              "      <td>93.980000</td>\n",
              "      <td>-2.000000</td>\n",
              "      <td>990.000000</td>\n",
              "      <td>0.013872</td>\n",
              "      <td>0.314078</td>\n",
              "      <td>0.006076</td>\n",
              "      <td>2017-02-11</td>\n",
              "    </tr>\n",
              "    <tr>\n",
              "      <th>7</th>\n",
              "      <td>7</td>\n",
              "      <td>2017</td>\n",
              "      <td>2</td>\n",
              "      <td>13</td>\n",
              "      <td>151.100000</td>\n",
              "      <td>634</td>\n",
              "      <td>54</td>\n",
              "      <td>364.500000</td>\n",
              "      <td>288.500000</td>\n",
              "      <td>134.700000</td>\n",
              "      <td>593.500000</td>\n",
              "      <td>384.800000</td>\n",
              "      <td>1.310000</td>\n",
              "      <td>0.568900</td>\n",
              "      <td>313.540000</td>\n",
              "      <td>91.813000</td>\n",
              "      <td>-4.100000</td>\n",
              "      <td>984.000000</td>\n",
              "      <td>0.021354</td>\n",
              "      <td>1.335474</td>\n",
              "      <td>0.008955</td>\n",
              "      <td>2017-02-13</td>\n",
              "    </tr>\n",
              "    <tr>\n",
              "      <th>8</th>\n",
              "      <td>8</td>\n",
              "      <td>2017</td>\n",
              "      <td>2</td>\n",
              "      <td>14</td>\n",
              "      <td>88.300000</td>\n",
              "      <td>907</td>\n",
              "      <td>269</td>\n",
              "      <td>715.200000</td>\n",
              "      <td>395.300000</td>\n",
              "      <td>86.300000</td>\n",
              "      <td>756.600000</td>\n",
              "      <td>402.000000</td>\n",
              "      <td>0.280000</td>\n",
              "      <td>0.607600</td>\n",
              "      <td>262.120000</td>\n",
              "      <td>88.257000</td>\n",
              "      <td>-3.300000</td>\n",
              "      <td>990.000000</td>\n",
              "      <td>0.177933</td>\n",
              "      <td>1.911908</td>\n",
              "      <td>0.117985</td>\n",
              "      <td>2017-02-14</td>\n",
              "    </tr>\n",
              "    <tr>\n",
              "      <th>9</th>\n",
              "      <td>9</td>\n",
              "      <td>2017</td>\n",
              "      <td>2</td>\n",
              "      <td>15</td>\n",
              "      <td>173.875000</td>\n",
              "      <td>457</td>\n",
              "      <td>7</td>\n",
              "      <td>231.000000</td>\n",
              "      <td>281.375000</td>\n",
              "      <td>151.500000</td>\n",
              "      <td>602.375000</td>\n",
              "      <td>438.750000</td>\n",
              "      <td>0.237500</td>\n",
              "      <td>1.008250</td>\n",
              "      <td>145.400000</td>\n",
              "      <td>99.466250</td>\n",
              "      <td>0.750000</td>\n",
              "      <td>975.000000</td>\n",
              "      <td>0.253753</td>\n",
              "      <td>0.659790</td>\n",
              "      <td>0.230424</td>\n",
              "      <td>2017-02-15</td>\n",
              "    </tr>\n",
              "  </tbody>\n",
              "</table>\n",
              "</div>"
            ],
            "text/plain": [
              "   Unnamed: 0  Year  ...  UMASS Amherst - Recreation Center null        Date\n",
              "0           0  2017  ...                                1.095000  2017-02-03\n",
              "1           1  2017  ...                                1.453818  2017-02-04\n",
              "2           2  2017  ...                                0.818667  2017-02-05\n",
              "3           3  2017  ...                                1.250591  2017-02-06\n",
              "4           4  2017  ...                                0.712076  2017-02-08\n",
              "5           5  2017  ...                                0.251333  2017-02-10\n",
              "6           6  2017  ...                                0.006076  2017-02-11\n",
              "7           7  2017  ...                                0.008955  2017-02-13\n",
              "8           8  2017  ...                                0.117985  2017-02-14\n",
              "9           9  2017  ...                                0.230424  2017-02-15\n",
              "\n",
              "[10 rows x 22 columns]"
            ]
          },
          "metadata": {
            "tags": []
          },
          "execution_count": 59
        }
      ]
    },
    {
      "cell_type": "code",
      "metadata": {
        "colab": {
          "base_uri": "https://localhost:8080/"
        },
        "id": "DN2UQXnqAWng",
        "outputId": "8b167345-7bca-4cb1-c1fa-dc4844b7f28f"
      },
      "source": [
        "data_df.dtypes"
      ],
      "execution_count": 60,
      "outputs": [
        {
          "output_type": "execute_result",
          "data": {
            "text/plain": [
              "Unnamed: 0                                  int64\n",
              "Year                                        int64\n",
              "Month                                       int64\n",
              "Day                                         int64\n",
              "DHI                                       float64\n",
              "DNI Max                                     int64\n",
              "DNI Min                                     int64\n",
              "DNI                                       float64\n",
              "GHI                                       float64\n",
              "Clearsky DHI                              float64\n",
              "Clearsky DNI                              float64\n",
              "Clearsky GHI                              float64\n",
              "Wind Speed                                float64\n",
              "Precipitable Water                        float64\n",
              "Wind Direction                            float64\n",
              "Relative Humidity                         float64\n",
              "Temperature                               float64\n",
              "Pressure                                  float64\n",
              "UMASS Amherst - Computer Science null     float64\n",
              "UMASS Amherst - Fine Arts Center null     float64\n",
              "UMASS Amherst - Recreation Center null    float64\n",
              "Date                                       object\n",
              "dtype: object"
            ]
          },
          "metadata": {
            "tags": []
          },
          "execution_count": 60
        }
      ]
    },
    {
      "cell_type": "markdown",
      "metadata": {
        "id": "sg-0P9C1E9R_"
      },
      "source": [
        "# Data Sorting and scaling"
      ]
    },
    {
      "cell_type": "code",
      "metadata": {
        "id": "LvBzH3Q8G8rD"
      },
      "source": [
        "#Splitting dataset into X and Y variables\n",
        "X_data = data_df[['DHI','DNI Max', 'DNI Min', 'DHI', 'GHI', 'Clearsky DNI', 'Clearsky DHI', 'Clearsky GHI', 'Wind Speed', 'Precipitable Water', 'Wind Direction', 'Relative Humidity', 'Temperature', 'Pressure']]\n",
        "Y_data = data_df[['UMASS Amherst - Fine Arts Center null']]"
      ],
      "execution_count": 61,
      "outputs": []
    },
    {
      "cell_type": "code",
      "metadata": {
        "id": "tYzyZugkAWi7"
      },
      "source": [
        "#Scaling the data\n",
        "scaler1 = RobustScaler()\n",
        "scaler2 = RobustScaler()\n",
        "\n",
        "X_data_scaled = scaler1.fit_transform(X_data)\n",
        "Y_data_scaled = scaler2.fit_transform(Y_data)"
      ],
      "execution_count": 62,
      "outputs": []
    },
    {
      "cell_type": "code",
      "metadata": {
        "id": "7T5gNS28AWi7"
      },
      "source": [
        "#Splitting the X and Y variables into train and test datasets\n",
        "X_train, X_test, Y_train, Y_test = train_test_split(X_data_scaled, Y_data_scaled, test_size=0.25)"
      ],
      "execution_count": 63,
      "outputs": []
    },
    {
      "cell_type": "markdown",
      "metadata": {
        "id": "6g6rIsahFDDT"
      },
      "source": [
        "# Developing ANN model"
      ]
    },
    {
      "cell_type": "code",
      "metadata": {
        "id": "KCgaNUF4VH9a"
      },
      "source": [
        "#creating optimizer method\n",
        "optimizer1 = tf.keras.optimizers.Adam(learning_rate=0.001, beta_1=0.8, beta_2=0.999, epsilon=1e-8)"
      ],
      "execution_count": 64,
      "outputs": []
    },
    {
      "cell_type": "code",
      "metadata": {
        "colab": {
          "base_uri": "https://localhost:8080/"
        },
        "id": "GaEskgx6AWi8",
        "outputId": "aee33186-c4ed-4d88-a25d-6757cdaf519f"
      },
      "source": [
        "# Creating and training the ANN model\n",
        "model = Sequential()\n",
        "model.add(Dense(512, input_dim = X_data.shape[1], activation='relu', kernel_initializer = 'random_normal'))\n",
        "model.add(Dense(256, activation='relu', kernel_initializer = 'random_normal',  activity_regularizer=regularizers.l1(3.5e-4)))\n",
        "model.add(Dropout(0.3))\n",
        "model.add(Dense(128, activation='relu', kernel_initializer = 'random_normal'))#,  activity_regularizer=regularizers.l1(3.5e-4)))\n",
        "model.add(Dropout(0.3))\n",
        "model.add(Dense(64, activation='relu', kernel_initializer = 'random_normal'))#,  activity_regularizer=regularizers.l1(3.5e-4)))\n",
        "model.add(Dropout(0.3))\n",
        "model.add(Dense(32, activation='relu', kernel_initializer = 'random_normal'))#,  activity_regularizer=regularizers.l1(3.5e-4)))\n",
        "model.add(Dropout(0.3))\n",
        "model.add(Dense(16, activation='relu', kernel_initializer = 'random_normal'))#,  activity_regularizer=regularizers.l1(3.5e-4)))\n",
        "model.add(Dropout(0.3))\n",
        "model.add(Dense(1, activation = 'linear'))\n",
        "model.compile(loss='mae', optimizer = optimizer1, metrics = ['mean_squared_error','mae'])\n",
        "\n",
        "\n",
        "monitor = EarlyStopping(monitor ='val_loss', min_delta= 1e-3, patience = 50, verbose =1, restore_best_weights=True  )\n",
        "reduce_lr = ReduceLROnPlateau(monitor='val_loss', factor=0.2, patience=10, verbose = 1)\n",
        "\n",
        "history = model.fit(X_train, Y_train, validation_data=(X_test, Y_test), epochs = 200, verbose =1, callbacks = [monitor, reduce_lr], batch_size = 15)"
      ],
      "execution_count": 65,
      "outputs": [
        {
          "output_type": "stream",
          "text": [
            "Epoch 1/200\n",
            "48/48 [==============================] - 0s 7ms/step - loss: 0.3975 - mean_squared_error: 0.2382 - mae: 0.3928 - val_loss: 0.3207 - val_mean_squared_error: 0.1562 - val_mae: 0.3136\n",
            "Epoch 2/200\n",
            "48/48 [==============================] - 0s 4ms/step - loss: 0.2701 - mean_squared_error: 0.1169 - mae: 0.2634 - val_loss: 0.1899 - val_mean_squared_error: 0.0679 - val_mae: 0.1834\n",
            "Epoch 3/200\n",
            "48/48 [==============================] - 0s 4ms/step - loss: 0.2377 - mean_squared_error: 0.0960 - mae: 0.2322 - val_loss: 0.1902 - val_mean_squared_error: 0.0639 - val_mae: 0.1850\n",
            "Epoch 4/200\n",
            "48/48 [==============================] - 0s 4ms/step - loss: 0.2196 - mean_squared_error: 0.0828 - mae: 0.2147 - val_loss: 0.1492 - val_mean_squared_error: 0.0496 - val_mae: 0.1442\n",
            "Epoch 5/200\n",
            "48/48 [==============================] - 0s 4ms/step - loss: 0.1990 - mean_squared_error: 0.0687 - mae: 0.1947 - val_loss: 0.1429 - val_mean_squared_error: 0.0488 - val_mae: 0.1382\n",
            "Epoch 6/200\n",
            "48/48 [==============================] - 0s 4ms/step - loss: 0.1950 - mean_squared_error: 0.0675 - mae: 0.1909 - val_loss: 0.1592 - val_mean_squared_error: 0.0575 - val_mae: 0.1548\n",
            "Epoch 7/200\n",
            "48/48 [==============================] - 0s 4ms/step - loss: 0.2085 - mean_squared_error: 0.0787 - mae: 0.2047 - val_loss: 0.1764 - val_mean_squared_error: 0.0579 - val_mae: 0.1727\n",
            "Epoch 8/200\n",
            "48/48 [==============================] - 0s 5ms/step - loss: 0.1964 - mean_squared_error: 0.0709 - mae: 0.1929 - val_loss: 0.1411 - val_mean_squared_error: 0.0502 - val_mae: 0.1371\n",
            "Epoch 9/200\n",
            "48/48 [==============================] - 0s 4ms/step - loss: 0.2008 - mean_squared_error: 0.0721 - mae: 0.1974 - val_loss: 0.1532 - val_mean_squared_error: 0.0498 - val_mae: 0.1496\n",
            "Epoch 10/200\n",
            "48/48 [==============================] - 0s 4ms/step - loss: 0.1906 - mean_squared_error: 0.0678 - mae: 0.1873 - val_loss: 0.1999 - val_mean_squared_error: 0.0822 - val_mae: 0.1966\n",
            "Epoch 11/200\n",
            "48/48 [==============================] - 0s 4ms/step - loss: 0.1854 - mean_squared_error: 0.0651 - mae: 0.1823 - val_loss: 0.1597 - val_mean_squared_error: 0.0525 - val_mae: 0.1564\n",
            "Epoch 12/200\n",
            "48/48 [==============================] - 0s 4ms/step - loss: 0.1916 - mean_squared_error: 0.0698 - mae: 0.1884 - val_loss: 0.1342 - val_mean_squared_error: 0.0451 - val_mae: 0.1307\n",
            "Epoch 13/200\n",
            "48/48 [==============================] - 0s 4ms/step - loss: 0.1836 - mean_squared_error: 0.0608 - mae: 0.1806 - val_loss: 0.1483 - val_mean_squared_error: 0.0501 - val_mae: 0.1450\n",
            "Epoch 14/200\n",
            "48/48 [==============================] - 0s 4ms/step - loss: 0.1844 - mean_squared_error: 0.0636 - mae: 0.1814 - val_loss: 0.1905 - val_mean_squared_error: 0.0637 - val_mae: 0.1876\n",
            "Epoch 15/200\n",
            "48/48 [==============================] - 0s 4ms/step - loss: 0.1773 - mean_squared_error: 0.0598 - mae: 0.1745 - val_loss: 0.1467 - val_mean_squared_error: 0.0464 - val_mae: 0.1436\n",
            "Epoch 16/200\n",
            "48/48 [==============================] - 0s 4ms/step - loss: 0.1799 - mean_squared_error: 0.0588 - mae: 0.1770 - val_loss: 0.1447 - val_mean_squared_error: 0.0486 - val_mae: 0.1414\n",
            "Epoch 17/200\n",
            "48/48 [==============================] - 0s 4ms/step - loss: 0.1780 - mean_squared_error: 0.0587 - mae: 0.1750 - val_loss: 0.1759 - val_mean_squared_error: 0.0586 - val_mae: 0.1730\n",
            "Epoch 18/200\n",
            "48/48 [==============================] - 0s 4ms/step - loss: 0.1837 - mean_squared_error: 0.0619 - mae: 0.1810 - val_loss: 0.1789 - val_mean_squared_error: 0.0580 - val_mae: 0.1762\n",
            "Epoch 19/200\n",
            "48/48 [==============================] - 0s 4ms/step - loss: 0.1804 - mean_squared_error: 0.0621 - mae: 0.1776 - val_loss: 0.1753 - val_mean_squared_error: 0.0555 - val_mae: 0.1723\n",
            "Epoch 20/200\n",
            "48/48 [==============================] - 0s 4ms/step - loss: 0.1794 - mean_squared_error: 0.0578 - mae: 0.1765 - val_loss: 0.1430 - val_mean_squared_error: 0.0485 - val_mae: 0.1398\n",
            "Epoch 21/200\n",
            "48/48 [==============================] - 0s 4ms/step - loss: 0.1765 - mean_squared_error: 0.0577 - mae: 0.1738 - val_loss: 0.1718 - val_mean_squared_error: 0.0566 - val_mae: 0.1689\n",
            "Epoch 22/200\n",
            "34/48 [====================>.........] - ETA: 0s - loss: 0.1643 - mean_squared_error: 0.0507 - mae: 0.1616\n",
            "Epoch 00022: ReduceLROnPlateau reducing learning rate to 0.00020000000949949026.\n",
            "48/48 [==============================] - 0s 4ms/step - loss: 0.1717 - mean_squared_error: 0.0562 - mae: 0.1690 - val_loss: 0.1786 - val_mean_squared_error: 0.0599 - val_mae: 0.1759\n",
            "Epoch 23/200\n",
            "48/48 [==============================] - 0s 4ms/step - loss: 0.1641 - mean_squared_error: 0.0489 - mae: 0.1614 - val_loss: 0.1469 - val_mean_squared_error: 0.0485 - val_mae: 0.1440\n",
            "Epoch 24/200\n",
            "48/48 [==============================] - 0s 4ms/step - loss: 0.1634 - mean_squared_error: 0.0494 - mae: 0.1606 - val_loss: 0.1313 - val_mean_squared_error: 0.0448 - val_mae: 0.1283\n",
            "Epoch 25/200\n",
            "48/48 [==============================] - 0s 4ms/step - loss: 0.1638 - mean_squared_error: 0.0503 - mae: 0.1611 - val_loss: 0.1422 - val_mean_squared_error: 0.0462 - val_mae: 0.1393\n",
            "Epoch 26/200\n",
            "48/48 [==============================] - 0s 4ms/step - loss: 0.1625 - mean_squared_error: 0.0515 - mae: 0.1598 - val_loss: 0.1409 - val_mean_squared_error: 0.0483 - val_mae: 0.1380\n",
            "Epoch 27/200\n",
            "48/48 [==============================] - 0s 4ms/step - loss: 0.1623 - mean_squared_error: 0.0513 - mae: 0.1597 - val_loss: 0.1460 - val_mean_squared_error: 0.0465 - val_mae: 0.1432\n",
            "Epoch 28/200\n",
            "48/48 [==============================] - 0s 4ms/step - loss: 0.1665 - mean_squared_error: 0.0556 - mae: 0.1639 - val_loss: 0.1467 - val_mean_squared_error: 0.0472 - val_mae: 0.1439\n",
            "Epoch 29/200\n",
            "48/48 [==============================] - 0s 4ms/step - loss: 0.1565 - mean_squared_error: 0.0494 - mae: 0.1540 - val_loss: 0.1484 - val_mean_squared_error: 0.0493 - val_mae: 0.1456\n",
            "Epoch 30/200\n",
            "48/48 [==============================] - 0s 4ms/step - loss: 0.1627 - mean_squared_error: 0.0519 - mae: 0.1602 - val_loss: 0.1409 - val_mean_squared_error: 0.0474 - val_mae: 0.1381\n",
            "Epoch 31/200\n",
            "48/48 [==============================] - 0s 4ms/step - loss: 0.1595 - mean_squared_error: 0.0505 - mae: 0.1571 - val_loss: 0.1464 - val_mean_squared_error: 0.0469 - val_mae: 0.1437\n",
            "Epoch 32/200\n",
            "48/48 [==============================] - 0s 4ms/step - loss: 0.1620 - mean_squared_error: 0.0498 - mae: 0.1595 - val_loss: 0.1341 - val_mean_squared_error: 0.0463 - val_mae: 0.1312\n",
            "Epoch 33/200\n",
            "48/48 [==============================] - 0s 4ms/step - loss: 0.1678 - mean_squared_error: 0.0536 - mae: 0.1653 - val_loss: 0.1392 - val_mean_squared_error: 0.0478 - val_mae: 0.1365\n",
            "Epoch 34/200\n",
            "47/48 [============================>.] - ETA: 0s - loss: 0.1613 - mean_squared_error: 0.0514 - mae: 0.1588\n",
            "Epoch 00034: ReduceLROnPlateau reducing learning rate to 4.0000001899898055e-05.\n",
            "48/48 [==============================] - 0s 4ms/step - loss: 0.1611 - mean_squared_error: 0.0512 - mae: 0.1586 - val_loss: 0.1479 - val_mean_squared_error: 0.0501 - val_mae: 0.1452\n",
            "Epoch 35/200\n",
            "48/48 [==============================] - 0s 4ms/step - loss: 0.1510 - mean_squared_error: 0.0462 - mae: 0.1487 - val_loss: 0.1488 - val_mean_squared_error: 0.0495 - val_mae: 0.1461\n",
            "Epoch 36/200\n",
            "48/48 [==============================] - 0s 4ms/step - loss: 0.1554 - mean_squared_error: 0.0465 - mae: 0.1531 - val_loss: 0.1484 - val_mean_squared_error: 0.0493 - val_mae: 0.1458\n",
            "Epoch 37/200\n",
            "48/48 [==============================] - 0s 4ms/step - loss: 0.1546 - mean_squared_error: 0.0459 - mae: 0.1523 - val_loss: 0.1437 - val_mean_squared_error: 0.0483 - val_mae: 0.1410\n",
            "Epoch 38/200\n",
            "48/48 [==============================] - 0s 4ms/step - loss: 0.1551 - mean_squared_error: 0.0469 - mae: 0.1527 - val_loss: 0.1454 - val_mean_squared_error: 0.0488 - val_mae: 0.1428\n",
            "Epoch 39/200\n",
            "48/48 [==============================] - 0s 4ms/step - loss: 0.1641 - mean_squared_error: 0.0524 - mae: 0.1618 - val_loss: 0.1430 - val_mean_squared_error: 0.0480 - val_mae: 0.1404\n",
            "Epoch 40/200\n",
            "48/48 [==============================] - 0s 4ms/step - loss: 0.1540 - mean_squared_error: 0.0460 - mae: 0.1516 - val_loss: 0.1416 - val_mean_squared_error: 0.0468 - val_mae: 0.1389\n",
            "Epoch 41/200\n",
            "48/48 [==============================] - 0s 4ms/step - loss: 0.1474 - mean_squared_error: 0.0428 - mae: 0.1450 - val_loss: 0.1426 - val_mean_squared_error: 0.0470 - val_mae: 0.1400\n",
            "Epoch 42/200\n",
            "48/48 [==============================] - 0s 4ms/step - loss: 0.1542 - mean_squared_error: 0.0450 - mae: 0.1518 - val_loss: 0.1457 - val_mean_squared_error: 0.0473 - val_mae: 0.1430\n",
            "Epoch 43/200\n",
            "48/48 [==============================] - 0s 5ms/step - loss: 0.1595 - mean_squared_error: 0.0489 - mae: 0.1572 - val_loss: 0.1445 - val_mean_squared_error: 0.0473 - val_mae: 0.1419\n",
            "Epoch 44/200\n",
            "35/48 [====================>.........] - ETA: 0s - loss: 0.1544 - mean_squared_error: 0.0495 - mae: 0.1519\n",
            "Epoch 00044: ReduceLROnPlateau reducing learning rate to 8.000000525498762e-06.\n",
            "48/48 [==============================] - 0s 4ms/step - loss: 0.1563 - mean_squared_error: 0.0504 - mae: 0.1539 - val_loss: 0.1455 - val_mean_squared_error: 0.0479 - val_mae: 0.1429\n",
            "Epoch 45/200\n",
            "48/48 [==============================] - 0s 4ms/step - loss: 0.1530 - mean_squared_error: 0.0444 - mae: 0.1507 - val_loss: 0.1454 - val_mean_squared_error: 0.0479 - val_mae: 0.1428\n",
            "Epoch 46/200\n",
            "48/48 [==============================] - 0s 4ms/step - loss: 0.1457 - mean_squared_error: 0.0423 - mae: 0.1434 - val_loss: 0.1447 - val_mean_squared_error: 0.0480 - val_mae: 0.1421\n",
            "Epoch 47/200\n",
            "48/48 [==============================] - 0s 4ms/step - loss: 0.1576 - mean_squared_error: 0.0475 - mae: 0.1553 - val_loss: 0.1438 - val_mean_squared_error: 0.0476 - val_mae: 0.1412\n",
            "Epoch 48/200\n",
            "48/48 [==============================] - 0s 4ms/step - loss: 0.1550 - mean_squared_error: 0.0471 - mae: 0.1526 - val_loss: 0.1431 - val_mean_squared_error: 0.0473 - val_mae: 0.1405\n",
            "Epoch 49/200\n",
            "48/48 [==============================] - 0s 4ms/step - loss: 0.1605 - mean_squared_error: 0.0491 - mae: 0.1581 - val_loss: 0.1419 - val_mean_squared_error: 0.0471 - val_mae: 0.1393\n",
            "Epoch 50/200\n",
            "48/48 [==============================] - 0s 4ms/step - loss: 0.1589 - mean_squared_error: 0.0479 - mae: 0.1566 - val_loss: 0.1435 - val_mean_squared_error: 0.0475 - val_mae: 0.1409\n",
            "Epoch 51/200\n",
            "48/48 [==============================] - 0s 4ms/step - loss: 0.1573 - mean_squared_error: 0.0483 - mae: 0.1549 - val_loss: 0.1430 - val_mean_squared_error: 0.0475 - val_mae: 0.1404\n",
            "Epoch 52/200\n",
            "48/48 [==============================] - 0s 4ms/step - loss: 0.1523 - mean_squared_error: 0.0476 - mae: 0.1499 - val_loss: 0.1416 - val_mean_squared_error: 0.0471 - val_mae: 0.1389\n",
            "Epoch 53/200\n",
            "48/48 [==============================] - 0s 4ms/step - loss: 0.1492 - mean_squared_error: 0.0451 - mae: 0.1468 - val_loss: 0.1411 - val_mean_squared_error: 0.0470 - val_mae: 0.1385\n",
            "Epoch 54/200\n",
            "46/48 [===========================>..] - ETA: 0s - loss: 0.1557 - mean_squared_error: 0.0472 - mae: 0.1533\n",
            "Epoch 00054: ReduceLROnPlateau reducing learning rate to 1.6000001778593287e-06.\n",
            "48/48 [==============================] - 0s 4ms/step - loss: 0.1560 - mean_squared_error: 0.0470 - mae: 0.1536 - val_loss: 0.1400 - val_mean_squared_error: 0.0467 - val_mae: 0.1374\n",
            "Epoch 55/200\n",
            "48/48 [==============================] - 0s 4ms/step - loss: 0.1467 - mean_squared_error: 0.0442 - mae: 0.1444 - val_loss: 0.1399 - val_mean_squared_error: 0.0467 - val_mae: 0.1373\n",
            "Epoch 56/200\n",
            "48/48 [==============================] - 0s 4ms/step - loss: 0.1602 - mean_squared_error: 0.0497 - mae: 0.1578 - val_loss: 0.1399 - val_mean_squared_error: 0.0467 - val_mae: 0.1373\n",
            "Epoch 57/200\n",
            "48/48 [==============================] - 0s 4ms/step - loss: 0.1501 - mean_squared_error: 0.0432 - mae: 0.1477 - val_loss: 0.1399 - val_mean_squared_error: 0.0467 - val_mae: 0.1373\n",
            "Epoch 58/200\n",
            "48/48 [==============================] - 0s 4ms/step - loss: 0.1518 - mean_squared_error: 0.0461 - mae: 0.1494 - val_loss: 0.1399 - val_mean_squared_error: 0.0467 - val_mae: 0.1372\n",
            "Epoch 59/200\n",
            "48/48 [==============================] - 0s 4ms/step - loss: 0.1433 - mean_squared_error: 0.0414 - mae: 0.1409 - val_loss: 0.1398 - val_mean_squared_error: 0.0466 - val_mae: 0.1372\n",
            "Epoch 60/200\n",
            "48/48 [==============================] - 0s 4ms/step - loss: 0.1537 - mean_squared_error: 0.0462 - mae: 0.1513 - val_loss: 0.1400 - val_mean_squared_error: 0.0467 - val_mae: 0.1374\n",
            "Epoch 61/200\n",
            "48/48 [==============================] - 0s 5ms/step - loss: 0.1594 - mean_squared_error: 0.0504 - mae: 0.1570 - val_loss: 0.1402 - val_mean_squared_error: 0.0467 - val_mae: 0.1375\n",
            "Epoch 62/200\n",
            "48/48 [==============================] - 0s 4ms/step - loss: 0.1537 - mean_squared_error: 0.0459 - mae: 0.1514 - val_loss: 0.1403 - val_mean_squared_error: 0.0467 - val_mae: 0.1377\n",
            "Epoch 63/200\n",
            "48/48 [==============================] - 0s 4ms/step - loss: 0.1517 - mean_squared_error: 0.0433 - mae: 0.1494 - val_loss: 0.1402 - val_mean_squared_error: 0.0467 - val_mae: 0.1375\n",
            "Epoch 64/200\n",
            "45/48 [===========================>..] - ETA: 0s - loss: 0.1549 - mean_squared_error: 0.0465 - mae: 0.1525\n",
            "Epoch 00064: ReduceLROnPlateau reducing learning rate to 3.200000264769187e-07.\n",
            "48/48 [==============================] - 0s 4ms/step - loss: 0.1533 - mean_squared_error: 0.0455 - mae: 0.1509 - val_loss: 0.1402 - val_mean_squared_error: 0.0467 - val_mae: 0.1375\n",
            "Epoch 65/200\n",
            "48/48 [==============================] - 0s 4ms/step - loss: 0.1581 - mean_squared_error: 0.0484 - mae: 0.1558 - val_loss: 0.1402 - val_mean_squared_error: 0.0467 - val_mae: 0.1375\n",
            "Epoch 66/200\n",
            "48/48 [==============================] - 0s 4ms/step - loss: 0.1500 - mean_squared_error: 0.0448 - mae: 0.1476 - val_loss: 0.1402 - val_mean_squared_error: 0.0467 - val_mae: 0.1375\n",
            "Epoch 67/200\n",
            "48/48 [==============================] - 0s 4ms/step - loss: 0.1525 - mean_squared_error: 0.0455 - mae: 0.1502 - val_loss: 0.1401 - val_mean_squared_error: 0.0466 - val_mae: 0.1375\n",
            "Epoch 68/200\n",
            "48/48 [==============================] - 0s 4ms/step - loss: 0.1552 - mean_squared_error: 0.0476 - mae: 0.1528 - val_loss: 0.1401 - val_mean_squared_error: 0.0466 - val_mae: 0.1375\n",
            "Epoch 69/200\n",
            "48/48 [==============================] - 0s 4ms/step - loss: 0.1525 - mean_squared_error: 0.0446 - mae: 0.1501 - val_loss: 0.1401 - val_mean_squared_error: 0.0466 - val_mae: 0.1375\n",
            "Epoch 70/200\n",
            "48/48 [==============================] - 0s 5ms/step - loss: 0.1574 - mean_squared_error: 0.0477 - mae: 0.1550 - val_loss: 0.1401 - val_mean_squared_error: 0.0466 - val_mae: 0.1375\n",
            "Epoch 71/200\n",
            "48/48 [==============================] - 0s 4ms/step - loss: 0.1583 - mean_squared_error: 0.0509 - mae: 0.1559 - val_loss: 0.1401 - val_mean_squared_error: 0.0466 - val_mae: 0.1375\n",
            "Epoch 72/200\n",
            "48/48 [==============================] - 0s 4ms/step - loss: 0.1533 - mean_squared_error: 0.0471 - mae: 0.1510 - val_loss: 0.1401 - val_mean_squared_error: 0.0466 - val_mae: 0.1375\n",
            "Epoch 73/200\n",
            "48/48 [==============================] - 0s 4ms/step - loss: 0.1552 - mean_squared_error: 0.0455 - mae: 0.1528 - val_loss: 0.1401 - val_mean_squared_error: 0.0467 - val_mae: 0.1375\n",
            "Epoch 74/200\n",
            "47/48 [============================>.] - ETA: 0s - loss: 0.1534 - mean_squared_error: 0.0464 - mae: 0.1510Restoring model weights from the end of the best epoch.\n",
            "\n",
            "Epoch 00074: ReduceLROnPlateau reducing learning rate to 6.400000529538374e-08.\n",
            "48/48 [==============================] - 0s 4ms/step - loss: 0.1530 - mean_squared_error: 0.0461 - mae: 0.1506 - val_loss: 0.1401 - val_mean_squared_error: 0.0467 - val_mae: 0.1375\n",
            "Epoch 00074: early stopping\n"
          ],
          "name": "stdout"
        }
      ]
    },
    {
      "cell_type": "code",
      "metadata": {
        "colab": {
          "base_uri": "https://localhost:8080/",
          "height": 283
        },
        "id": "bmZUzYQOWtBO",
        "outputId": "0e325aaa-0167-4e8c-d3b6-d1c8473a6fcd"
      },
      "source": [
        "plt.plot(history.history['mean_squared_error'],label='training loss')\n",
        "plt.plot(history.history['val_mean_squared_error'],label='testing loss')\n",
        "plt.legend()"
      ],
      "execution_count": 70,
      "outputs": [
        {
          "output_type": "execute_result",
          "data": {
            "text/plain": [
              "<matplotlib.legend.Legend at 0x7f8ef24c5198>"
            ]
          },
          "metadata": {
            "tags": []
          },
          "execution_count": 70
        },
        {
          "output_type": "display_data",
          "data": {
            "image/png": "[encoded data removed]",
            "text/plain": [
              "<Figure size 432x288 with 1 Axes>"
            ]
          },
          "metadata": {
            "tags": [],
            "needs_background": "light"
          }
        }
      ]
    },
    {
      "cell_type": "markdown",
      "metadata": {
        "id": "NoZaDBD1FHlM"
      },
      "source": [
        "# Analyzing effectiveness of model"
      ]
    },
    {
      "cell_type": "code",
      "metadata": {
        "id": "EvgoKqjeWog3",
        "colab": {
          "base_uri": "https://localhost:8080/"
        },
        "outputId": "3881ad7b-5458-4498-f98b-0f79c52ead3e"
      },
      "source": [
        "y_f_result = model.predict(X_test)\n",
        "y_result = scaler2.inverse_transform(y_f_result)\n",
        "y_actual = scaler2.inverse_transform(Y_test)\n",
        "\n",
        "compare = pd.DataFrame()\n",
        "compare['Expected'] = y_actual.reshape(1,-1)[0]\n",
        "compare['Result'] = y_result.reshape(1,-1)[0]\n",
        "compare['Difference'] = compare['Expected'] - compare['Result']\n",
        "compare['Percentage Error'] = 100 * compare['Difference']/compare['Expected']\n",
        "\n",
        "#Print out percentile descriptions of model accuracy\n",
        "compare['Percentage Error'].describe(percentiles=[0.001, 0.01, 0.05, 0.25, 0.5, 0.75, 0.95, 0.99, 0.999])"
      ],
      "execution_count": 68,
      "outputs": [
        {
          "output_type": "execute_result",
          "data": {
            "text/plain": [
              "count       237.000000\n",
              "mean       -619.459929\n",
              "std        7126.134721\n",
              "min     -102799.326682\n",
              "0.1%     -87698.845617\n",
              "1%         -389.511748\n",
              "5%         -190.542751\n",
              "25%         -19.831126\n",
              "50%          -1.003695\n",
              "75%           5.929017\n",
              "95%          24.726111\n",
              "99%          45.281149\n",
              "99.9%        54.807533\n",
              "max          57.101084\n",
              "Name: Percentage Error, dtype: float64"
            ]
          },
          "metadata": {
            "tags": []
          },
          "execution_count": 68
        }
      ]
    },
    {
      "cell_type": "code",
      "metadata": {
        "colab": {
          "base_uri": "https://localhost:8080/",
          "height": 265
        },
        "id": "WnH-J_afEkUW",
        "outputId": "56e1a889-3685-4305-a4fe-b64b6d817851"
      },
      "source": [
        "plt.scatter(compare['Expected'], compare['Result'])\n",
        "plt.show()"
      ],
      "execution_count": 69,
      "outputs": [
        {
          "output_type": "display_data",
          "data": {
            "image/png": "[encoded data removed]",
            "text/plain": [
              "<Figure size 432x288 with 1 Axes>"
            ]
          },
          "metadata": {
            "tags": [],
            "needs_background": "light"
          }
        }
      ]
    }
  ]
}