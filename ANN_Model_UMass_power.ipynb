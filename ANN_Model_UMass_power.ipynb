{
  "nbformat": 4,
  "nbformat_minor": 0,
  "metadata": {
    "kernelspec": {
      "display_name": "Python 3",
      "language": "python",
      "name": "python3"
    },
    "language_info": {
      "codemirror_mode": {
        "name": "ipython",
        "version": 3
      },
      "file_extension": ".py",
      "mimetype": "text/x-python",
      "name": "python",
      "nbconvert_exporter": "python",
      "pygments_lexer": "ipython3",
      "version": "3.7.6"
    },
    "colab": {
      "name": "ANN_Model_UMass_power.ipynb",
      "provenance": [],
      "include_colab_link": true
    },
    "accelerator": "GPU"
  },
  "cells": [
    {
      "cell_type": "markdown",
      "metadata": {
        "id": "view-in-github",
        "colab_type": "text"
      },
      "source": [
        "<a href=\"https://colab.research.google.com/github/A-Wadhwani/ME597-Project/blob/main/ANN_Model_UMass_power.ipynb\" target=\"_parent\"><img src=\"https://colab.research.google.com/assets/colab-badge.svg\" alt=\"Open In Colab\"/></a>"
      ]
    },
    {
      "cell_type": "markdown",
      "metadata": {
        "id": "nVptR3ybE4QL"
      },
      "source": [
        "# Setup"
      ]
    },
    {
      "cell_type": "code",
      "metadata": {
        "colab": {
          "base_uri": "https://localhost:8080/"
        },
        "id": "Xac5n8PnAWi6",
        "outputId": "ba5a5e96-4cb5-4671-a2e6-a7882416eeb4"
      },
      "source": [
        "#importing required libraries\n",
        "%load_ext tensorboard\n",
        "import tensorflow as tf\n",
        "import keras as kr\n",
        "import numpy as np\n",
        "import pandas as pd\n",
        "import datetime\n",
        "import statistics as st\n",
        "from sklearn import metrics\n",
        "import matplotlib.pyplot as plt\n",
        "import seaborn as sns\n",
        "\n",
        "from sklearn.preprocessing import StandardScaler\n",
        "from sklearn.preprocessing import RobustScaler\n",
        "\n",
        "from sklearn.model_selection import train_test_split\n",
        "\n",
        "from tensorflow import keras\n",
        "from tensorflow.keras import layers\n",
        "from tensorflow.keras import Sequential \n",
        "from tensorflow.keras.layers import Dense, Activation, Dropout\n",
        "from tensorflow.keras.callbacks import EarlyStopping\n",
        "from tensorflow.keras.callbacks import ReduceLROnPlateau\n",
        "from tensorflow.keras import regularizers\n",
        "from keras.wrappers.scikit_learn import KerasClassifier, KerasRegressor\n",
        "from tensorflow.keras import regularizers\n"
      ],
      "execution_count": 58,
      "outputs": [
        {
          "output_type": "stream",
          "text": [
            "The tensorboard extension is already loaded. To reload it, use:\n",
            "  %reload_ext tensorboard\n"
          ],
          "name": "stdout"
        }
      ]
    },
    {
      "cell_type": "code",
      "metadata": {
        "colab": {
          "base_uri": "https://localhost:8080/",
          "height": 614
        },
        "id": "rEfzx8CLAWi7",
        "outputId": "005ebd59-d0a4-4e22-f75e-94d3fabdc9d1"
      },
      "source": [
        "#Importing the dataset\n",
        "\n",
        "data_df = pd.read_csv(\"https://raw.githubusercontent.com/A-Wadhwani/ME597-Project/main/Datasets/Umass_total_data2.csv\")\n",
        "data_df.head(10)\n"
      ],
      "execution_count": 59,
      "outputs": [
        {
          "output_type": "execute_result",
          "data": {
            "text/html": [
              "<div>\n",
              "<style scoped>\n",
              "    .dataframe tbody tr th:only-of-type {\n",
              "        vertical-align: middle;\n",
              "    }\n",
              "\n",
              "    .dataframe tbody tr th {\n",
              "        vertical-align: top;\n",
              "    }\n",
              "\n",
              "    .dataframe thead th {\n",
              "        text-align: right;\n",
              "    }\n",
              "</style>\n",
              "<table border=\"1\" class=\"dataframe\">\n",
              "  <thead>\n",
              "    <tr style=\"text-align: right;\">\n",
              "      <th></th>\n",
              "      <th>Unnamed: 0</th>\n",
              "      <th>Year</th>\n",
              "      <th>Month</th>\n",
              "      <th>Day</th>\n",
              "      <th>DHI</th>\n",
              "      <th>DNI Max</th>\n",
              "      <th>DNI Min</th>\n",
              "      <th>DNI</th>\n",
              "      <th>GHI</th>\n",
              "      <th>Clearsky DHI</th>\n",
              "      <th>Clearsky DNI</th>\n",
              "      <th>Clearsky GHI</th>\n",
              "      <th>Wind Speed</th>\n",
              "      <th>Precipitable Water</th>\n",
              "      <th>Wind Direction</th>\n",
              "      <th>Relative Humidity</th>\n",
              "      <th>Temperature</th>\n",
              "      <th>Pressure</th>\n",
              "      <th>UMASS Amherst - Computer Science null</th>\n",
              "      <th>UMASS Amherst - Fine Arts Center null</th>\n",
              "      <th>UMASS Amherst - Recreation Center null</th>\n",
              "      <th>Date</th>\n",
              "    </tr>\n",
              "  </thead>\n",
              "  <tbody>\n",
              "    <tr>\n",
              "      <th>0</th>\n",
              "      <td>0</td>\n",
              "      <td>2017</td>\n",
              "      <td>2</td>\n",
              "      <td>3</td>\n",
              "      <td>76.100000</td>\n",
              "      <td>808</td>\n",
              "      <td>194</td>\n",
              "      <td>606.200000</td>\n",
              "      <td>305.800000</td>\n",
              "      <td>86.300000</td>\n",
              "      <td>697.200000</td>\n",
              "      <td>350.800000</td>\n",
              "      <td>0.480000</td>\n",
              "      <td>0.383400</td>\n",
              "      <td>277.570000</td>\n",
              "      <td>67.023000</td>\n",
              "      <td>-3.500000</td>\n",
              "      <td>1000.000000</td>\n",
              "      <td>1.061948</td>\n",
              "      <td>1.411040</td>\n",
              "      <td>1.095000</td>\n",
              "      <td>2017-02-03</td>\n",
              "    </tr>\n",
              "    <tr>\n",
              "      <th>1</th>\n",
              "      <td>1</td>\n",
              "      <td>2017</td>\n",
              "      <td>2</td>\n",
              "      <td>4</td>\n",
              "      <td>88.100000</td>\n",
              "      <td>874</td>\n",
              "      <td>286</td>\n",
              "      <td>676.200000</td>\n",
              "      <td>345.400000</td>\n",
              "      <td>88.200000</td>\n",
              "      <td>694.800000</td>\n",
              "      <td>355.100000</td>\n",
              "      <td>0.600000</td>\n",
              "      <td>0.363900</td>\n",
              "      <td>284.940000</td>\n",
              "      <td>67.680000</td>\n",
              "      <td>-3.900000</td>\n",
              "      <td>1000.000000</td>\n",
              "      <td>1.409026</td>\n",
              "      <td>1.852061</td>\n",
              "      <td>1.453818</td>\n",
              "      <td>2017-02-04</td>\n",
              "    </tr>\n",
              "    <tr>\n",
              "      <th>2</th>\n",
              "      <td>2</td>\n",
              "      <td>2017</td>\n",
              "      <td>2</td>\n",
              "      <td>5</td>\n",
              "      <td>122.888889</td>\n",
              "      <td>693</td>\n",
              "      <td>31</td>\n",
              "      <td>356.222222</td>\n",
              "      <td>278.333333</td>\n",
              "      <td>117.666667</td>\n",
              "      <td>615.888889</td>\n",
              "      <td>370.555556</td>\n",
              "      <td>0.566667</td>\n",
              "      <td>0.886000</td>\n",
              "      <td>209.822222</td>\n",
              "      <td>76.916667</td>\n",
              "      <td>-1.000000</td>\n",
              "      <td>992.222222</td>\n",
              "      <td>0.810475</td>\n",
              "      <td>0.826453</td>\n",
              "      <td>0.818667</td>\n",
              "      <td>2017-02-05</td>\n",
              "    </tr>\n",
              "    <tr>\n",
              "      <th>3</th>\n",
              "      <td>3</td>\n",
              "      <td>2017</td>\n",
              "      <td>2</td>\n",
              "      <td>6</td>\n",
              "      <td>77.666667</td>\n",
              "      <td>927</td>\n",
              "      <td>4</td>\n",
              "      <td>649.222222</td>\n",
              "      <td>336.444444</td>\n",
              "      <td>72.222222</td>\n",
              "      <td>752.111111</td>\n",
              "      <td>373.000000</td>\n",
              "      <td>0.611111</td>\n",
              "      <td>0.731889</td>\n",
              "      <td>294.100000</td>\n",
              "      <td>61.147778</td>\n",
              "      <td>-1.777778</td>\n",
              "      <td>1000.000000</td>\n",
              "      <td>1.234228</td>\n",
              "      <td>1.570186</td>\n",
              "      <td>1.250591</td>\n",
              "      <td>2017-02-06</td>\n",
              "    </tr>\n",
              "    <tr>\n",
              "      <th>4</th>\n",
              "      <td>4</td>\n",
              "      <td>2017</td>\n",
              "      <td>2</td>\n",
              "      <td>8</td>\n",
              "      <td>109.800000</td>\n",
              "      <td>850</td>\n",
              "      <td>33</td>\n",
              "      <td>466.400000</td>\n",
              "      <td>295.700000</td>\n",
              "      <td>96.600000</td>\n",
              "      <td>657.000000</td>\n",
              "      <td>360.400000</td>\n",
              "      <td>0.500000</td>\n",
              "      <td>1.026600</td>\n",
              "      <td>284.440000</td>\n",
              "      <td>98.111000</td>\n",
              "      <td>2.800000</td>\n",
              "      <td>985.000000</td>\n",
              "      <td>0.657363</td>\n",
              "      <td>1.043031</td>\n",
              "      <td>0.712076</td>\n",
              "      <td>2017-02-08</td>\n",
              "    </tr>\n",
              "    <tr>\n",
              "      <th>5</th>\n",
              "      <td>5</td>\n",
              "      <td>2017</td>\n",
              "      <td>2</td>\n",
              "      <td>10</td>\n",
              "      <td>97.700000</td>\n",
              "      <td>969</td>\n",
              "      <td>213</td>\n",
              "      <td>648.100000</td>\n",
              "      <td>347.400000</td>\n",
              "      <td>75.300000</td>\n",
              "      <td>799.600000</td>\n",
              "      <td>395.800000</td>\n",
              "      <td>0.800000</td>\n",
              "      <td>0.313100</td>\n",
              "      <td>303.320000</td>\n",
              "      <td>79.364000</td>\n",
              "      <td>-9.400000</td>\n",
              "      <td>1000.000000</td>\n",
              "      <td>0.630855</td>\n",
              "      <td>0.915967</td>\n",
              "      <td>0.251333</td>\n",
              "      <td>2017-02-10</td>\n",
              "    </tr>\n",
              "    <tr>\n",
              "      <th>6</th>\n",
              "      <td>6</td>\n",
              "      <td>2017</td>\n",
              "      <td>2</td>\n",
              "      <td>11</td>\n",
              "      <td>231.333333</td>\n",
              "      <td>71</td>\n",
              "      <td>44</td>\n",
              "      <td>60.000000</td>\n",
              "      <td>263.666667</td>\n",
              "      <td>174.333333</td>\n",
              "      <td>717.000000</td>\n",
              "      <td>559.333333</td>\n",
              "      <td>0.100000</td>\n",
              "      <td>1.254333</td>\n",
              "      <td>93.700000</td>\n",
              "      <td>93.980000</td>\n",
              "      <td>-2.000000</td>\n",
              "      <td>990.000000</td>\n",
              "      <td>0.013872</td>\n",
              "      <td>0.314078</td>\n",
              "      <td>0.006076</td>\n",
              "      <td>2017-02-11</td>\n",
              "    </tr>\n",
              "    <tr>\n",
              "      <th>7</th>\n",
              "      <td>7</td>\n",
              "      <td>2017</td>\n",
              "      <td>2</td>\n",
              "      <td>13</td>\n",
              "      <td>151.100000</td>\n",
              "      <td>634</td>\n",
              "      <td>54</td>\n",
              "      <td>364.500000</td>\n",
              "      <td>288.500000</td>\n",
              "      <td>134.700000</td>\n",
              "      <td>593.500000</td>\n",
              "      <td>384.800000</td>\n",
              "      <td>1.310000</td>\n",
              "      <td>0.568900</td>\n",
              "      <td>313.540000</td>\n",
              "      <td>91.813000</td>\n",
              "      <td>-4.100000</td>\n",
              "      <td>984.000000</td>\n",
              "      <td>0.021354</td>\n",
              "      <td>1.335474</td>\n",
              "      <td>0.008955</td>\n",
              "      <td>2017-02-13</td>\n",
              "    </tr>\n",
              "    <tr>\n",
              "      <th>8</th>\n",
              "      <td>8</td>\n",
              "      <td>2017</td>\n",
              "      <td>2</td>\n",
              "      <td>14</td>\n",
              "      <td>88.300000</td>\n",
              "      <td>907</td>\n",
              "      <td>269</td>\n",
              "      <td>715.200000</td>\n",
              "      <td>395.300000</td>\n",
              "      <td>86.300000</td>\n",
              "      <td>756.600000</td>\n",
              "      <td>402.000000</td>\n",
              "      <td>0.280000</td>\n",
              "      <td>0.607600</td>\n",
              "      <td>262.120000</td>\n",
              "      <td>88.257000</td>\n",
              "      <td>-3.300000</td>\n",
              "      <td>990.000000</td>\n",
              "      <td>0.177933</td>\n",
              "      <td>1.911908</td>\n",
              "      <td>0.117985</td>\n",
              "      <td>2017-02-14</td>\n",
              "    </tr>\n",
              "    <tr>\n",
              "      <th>9</th>\n",
              "      <td>9</td>\n",
              "      <td>2017</td>\n",
              "      <td>2</td>\n",
              "      <td>15</td>\n",
              "      <td>173.875000</td>\n",
              "      <td>457</td>\n",
              "      <td>7</td>\n",
              "      <td>231.000000</td>\n",
              "      <td>281.375000</td>\n",
              "      <td>151.500000</td>\n",
              "      <td>602.375000</td>\n",
              "      <td>438.750000</td>\n",
              "      <td>0.237500</td>\n",
              "      <td>1.008250</td>\n",
              "      <td>145.400000</td>\n",
              "      <td>99.466250</td>\n",
              "      <td>0.750000</td>\n",
              "      <td>975.000000</td>\n",
              "      <td>0.253753</td>\n",
              "      <td>0.659790</td>\n",
              "      <td>0.230424</td>\n",
              "      <td>2017-02-15</td>\n",
              "    </tr>\n",
              "  </tbody>\n",
              "</table>\n",
              "</div>"
            ],
            "text/plain": [
              "   Unnamed: 0  Year  ...  UMASS Amherst - Recreation Center null        Date\n",
              "0           0  2017  ...                                1.095000  2017-02-03\n",
              "1           1  2017  ...                                1.453818  2017-02-04\n",
              "2           2  2017  ...                                0.818667  2017-02-05\n",
              "3           3  2017  ...                                1.250591  2017-02-06\n",
              "4           4  2017  ...                                0.712076  2017-02-08\n",
              "5           5  2017  ...                                0.251333  2017-02-10\n",
              "6           6  2017  ...                                0.006076  2017-02-11\n",
              "7           7  2017  ...                                0.008955  2017-02-13\n",
              "8           8  2017  ...                                0.117985  2017-02-14\n",
              "9           9  2017  ...                                0.230424  2017-02-15\n",
              "\n",
              "[10 rows x 22 columns]"
            ]
          },
          "metadata": {
            "tags": []
          },
          "execution_count": 59
        }
      ]
    },
    {
      "cell_type": "code",
      "metadata": {
        "colab": {
          "base_uri": "https://localhost:8080/"
        },
        "id": "DN2UQXnqAWng",
        "outputId": "8b167345-7bca-4cb1-c1fa-dc4844b7f28f"
      },
      "source": [
        "data_df.dtypes"
      ],
      "execution_count": 60,
      "outputs": [
        {
          "output_type": "execute_result",
          "data": {
            "text/plain": [
              "Unnamed: 0                                  int64\n",
              "Year                                        int64\n",
              "Month                                       int64\n",
              "Day                                         int64\n",
              "DHI                                       float64\n",
              "DNI Max                                     int64\n",
              "DNI Min                                     int64\n",
              "DNI                                       float64\n",
              "GHI                                       float64\n",
              "Clearsky DHI                              float64\n",
              "Clearsky DNI                              float64\n",
              "Clearsky GHI                              float64\n",
              "Wind Speed                                float64\n",
              "Precipitable Water                        float64\n",
              "Wind Direction                            float64\n",
              "Relative Humidity                         float64\n",
              "Temperature                               float64\n",
              "Pressure                                  float64\n",
              "UMASS Amherst - Computer Science null     float64\n",
              "UMASS Amherst - Fine Arts Center null     float64\n",
              "UMASS Amherst - Recreation Center null    float64\n",
              "Date                                       object\n",
              "dtype: object"
            ]
          },
          "metadata": {
            "tags": []
          },
          "execution_count": 60
        }
      ]
    },
    {
      "cell_type": "markdown",
      "metadata": {
        "id": "sg-0P9C1E9R_"
      },
      "source": [
        "# Data Sorting and scaling"
      ]
    },
    {
      "cell_type": "code",
      "metadata": {
        "id": "LvBzH3Q8G8rD"
      },
      "source": [
        "#Splitting dataset into X and Y variables\n",
        "X_data = data_df[['DHI','DNI Max', 'DNI Min', 'DHI', 'GHI', 'Clearsky DNI', 'Clearsky DHI', 'Clearsky GHI', 'Wind Speed', 'Precipitable Water', 'Wind Direction', 'Relative Humidity', 'Temperature', 'Pressure']]\n",
        "Y_data = data_df[['UMASS Amherst - Fine Arts Center null']]"
      ],
      "execution_count": 61,
      "outputs": []
    },
    {
      "cell_type": "code",
      "metadata": {
        "id": "tYzyZugkAWi7"
      },
      "source": [
        "#Scaling the data\n",
        "scaler1 = RobustScaler()\n",
        "scaler2 = RobustScaler()\n",
        "\n",
        "X_data_scaled = scaler1.fit_transform(X_data)\n",
        "Y_data_scaled = scaler2.fit_transform(Y_data)"
      ],
      "execution_count": 62,
      "outputs": []
    },
    {
      "cell_type": "code",
      "metadata": {
        "id": "7T5gNS28AWi7"
      },
      "source": [
        "#Splitting the X and Y variables into train and test datasets\n",
        "X_train, X_test, Y_train, Y_test = train_test_split(X_data_scaled, Y_data_scaled, test_size=0.25)"
      ],
      "execution_count": 63,
      "outputs": []
    },
    {
      "cell_type": "markdown",
      "metadata": {
        "id": "6g6rIsahFDDT"
      },
      "source": [
        "# Developing ANN model"
      ]
    },
    {
      "cell_type": "code",
      "metadata": {
        "id": "KCgaNUF4VH9a"
      },
      "source": [
        "#creating optimizer method\n",
        "optimizer1 = tf.keras.optimizers.Adam(learning_rate=0.001, beta_1=0.8, beta_2=0.999, epsilon=1e-8)"
      ],
      "execution_count": 64,
      "outputs": []
    },
    {
      "cell_type": "code",
      "metadata": {
        "id": "GaEskgx6AWi8"
      },
      "source": [
        "# Creating and training the ANN model\n",
        "model = Sequential()\n",
        "model.add(Dense(512, input_dim = X_data.shape[1], activation='relu', kernel_initializer = 'random_normal'))\n",
        "model.add(Dense(256, activation='relu', kernel_initializer = 'random_normal',  activity_regularizer=regularizers.l1(3.5e-4)))\n",
        "model.add(Dropout(0.3))\n",
        "model.add(Dense(128, activation='relu', kernel_initializer = 'random_normal'))#,  activity_regularizer=regularizers.l1(3.5e-4)))\n",
        "model.add(Dropout(0.3))\n",
        "model.add(Dense(64, activation='relu', kernel_initializer = 'random_normal'))#,  activity_regularizer=regularizers.l1(3.5e-4)))\n",
        "model.add(Dropout(0.3))\n",
        "model.add(Dense(32, activation='relu', kernel_initializer = 'random_normal'))#,  activity_regularizer=regularizers.l1(3.5e-4)))\n",
        "model.add(Dropout(0.3))\n",
        "model.add(Dense(16, activation='relu', kernel_initializer = 'random_normal'))#,  activity_regularizer=regularizers.l1(3.5e-4)))\n",
        "model.add(Dropout(0.3))\n",
        "model.add(Dense(1, activation = 'linear'))\n",
        "model.compile(loss='mae', optimizer = optimizer1, metrics = ['mean_squared_error','mae'])\n",
        "\n",
        "\n",
        "monitor = EarlyStopping(monitor ='val_loss', min_delta= 1e-3, patience = 50, verbose =1, restore_best_weights=True  )\n",
        "reduce_lr = ReduceLROnPlateau(monitor='val_loss', factor=0.2, patience=10, verbose = 1)\n",
        "\n",
        "history = model.fit(X_train, Y_train, validation_data=(X_test, Y_test), epochs = 200, verbose =1, callbacks = [monitor, reduce_lr], batch_size = 15)"
      ],
      "execution_count": null,
      "outputs": []
    },
    {
      "cell_type": "code",
      "metadata": {
        "colab": {
          "base_uri": "https://localhost:8080/",
          "height": 297
        },
        "id": "bmZUzYQOWtBO",
        "outputId": "50ff5ddc-6f0e-48ea-e114-34a8d4894795"
      },
      "source": [
        "plt.plot(history.history['mean_squared_error'],label='MSE')\n",
        "plt.plot(history.history['val_mean_squared_error'],label='Val_MSE')\n",
        "plt.xlabel('Epochs')\n",
        "plt.ylabel('MSE')\n",
        "plt.legend()"
      ],
      "execution_count": 71,
      "outputs": [
        {
          "output_type": "execute_result",
          "data": {
            "text/plain": [
              "<matplotlib.legend.Legend at 0x7f8ef24cb438>"
            ]
          },
          "metadata": {
            "tags": []
          },
          "execution_count": 71
        },
        {
          "output_type": "display_data",
          "data": {
            "image/png": "[encoded data removed]",
            "text/plain": [
              "<Figure size 432x288 with 1 Axes>"
            ]
          },
          "metadata": {
            "tags": [],
            "needs_background": "light"
          }
        }
      ]
    },
    {
      "cell_type": "markdown",
      "metadata": {
        "id": "NoZaDBD1FHlM"
      },
      "source": [
        "# Analyzing effectiveness of model"
      ]
    },
    {
      "cell_type": "code",
      "metadata": {
        "id": "EvgoKqjeWog3",
        "colab": {
          "base_uri": "https://localhost:8080/"
        },
        "outputId": "3881ad7b-5458-4498-f98b-0f79c52ead3e"
      },
      "source": [
        "y_f_result = model.predict(X_test)\n",
        "y_result = scaler2.inverse_transform(y_f_result)\n",
        "y_actual = scaler2.inverse_transform(Y_test)\n",
        "\n",
        "compare = pd.DataFrame()\n",
        "compare['Expected'] = y_actual.reshape(1,-1)[0]\n",
        "compare['Result'] = y_result.reshape(1,-1)[0]\n",
        "compare['Difference'] = compare['Expected'] - compare['Result']\n",
        "compare['Percentage Error'] = 100 * compare['Difference']/compare['Expected']\n",
        "\n",
        "#Print out percentile descriptions of model accuracy\n",
        "compare['Percentage Error'].describe(percentiles=[0.001, 0.01, 0.05, 0.25, 0.5, 0.75, 0.95, 0.99, 0.999])"
      ],
      "execution_count": 68,
      "outputs": [
        {
          "output_type": "execute_result",
          "data": {
            "text/plain": [
              "count       237.000000\n",
              "mean       -619.459929\n",
              "std        7126.134721\n",
              "min     -102799.326682\n",
              "0.1%     -87698.845617\n",
              "1%         -389.511748\n",
              "5%         -190.542751\n",
              "25%         -19.831126\n",
              "50%          -1.003695\n",
              "75%           5.929017\n",
              "95%          24.726111\n",
              "99%          45.281149\n",
              "99.9%        54.807533\n",
              "max          57.101084\n",
              "Name: Percentage Error, dtype: float64"
            ]
          },
          "metadata": {
            "tags": []
          },
          "execution_count": 68
        }
      ]
    },
    {
      "cell_type": "code",
      "metadata": {
        "colab": {
          "base_uri": "https://localhost:8080/",
          "height": 265
        },
        "id": "WnH-J_afEkUW",
        "outputId": "56e1a889-3685-4305-a4fe-b64b6d817851"
      },
      "source": [
        "plt.scatter(compare['Expected'], compare['Result'])\n",
        "plt.show()"
      ],
      "execution_count": 69,
      "outputs": [
        {
          "output_type": "display_data",
          "data": {
            "image/png": "[encoded data removed]",
            "text/plain": [
              "<Figure size 432x288 with 1 Axes>"
            ]
          },
          "metadata": {
            "tags": [],
            "needs_background": "light"
          }
        }
      ]
    }
  ]
}