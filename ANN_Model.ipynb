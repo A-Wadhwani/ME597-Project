{
  "nbformat": 4,
  "nbformat_minor": 0,
  "metadata": {
    "kernelspec": {
      "display_name": "Python 3",
      "language": "python",
      "name": "python3"
    },
    "language_info": {
      "codemirror_mode": {
        "name": "ipython",
        "version": 3
      },
      "file_extension": ".py",
      "mimetype": "text/x-python",
      "name": "python",
      "nbconvert_exporter": "python",
      "pygments_lexer": "ipython3",
      "version": "3.7.6"
    },
    "colab": {
      "name": "ANN Model (initial).ipynb",
      "provenance": [],
      "include_colab_link": true
    }
  },
  "cells": [
    {
      "cell_type": "markdown",
      "metadata": {
        "id": "view-in-github",
        "colab_type": "text"
      },
      "source": [
        "<a href=\"https://colab.research.google.com/github/A-Wadhwani/ME597-Project/blob/main/ANN_Model.ipynb\" target=\"_parent\"><img src=\"https://colab.research.google.com/assets/colab-badge.svg\" alt=\"Open In Colab\"/></a>"
      ]
    },
    {
      "cell_type": "code",
      "metadata": {
        "id": "Xac5n8PnAWi6",
        "outputId": "c499082a-89f5-49ba-d67d-3f230c7c23cc"
      },
      "source": [
        "%load_ext tensorboard\n",
        "import tensorflow as tf\n",
        "import keras as kr\n",
        "import numpy as np\n",
        "import pandas as pd\n",
        "import datetime\n",
        "import statistics as st\n",
        "from sklearn import metrics\n",
        "import matplotlib.pyplot as plt\n",
        "import seaborn as sns\n",
        "\n",
        "from sklearn.preprocessing import StandardScaler\n",
        "\n",
        "from sklearn.model_selection import train_test_split\n",
        "\n",
        "from tensorflow import keras\n",
        "from tensorflow.keras import layers\n",
        "from tensorflow.keras import Sequential \n",
        "from tensorflow.keras.layers import Dense, Activation, Dropout\n",
        "from tensorflow.keras.callbacks import EarlyStopping\n",
        "from tensorflow.keras import regularizers\n",
        "from keras.wrappers.scikit_learn import KerasClassifier, KerasRegressor\n",
        "from tensorflow.keras.callbacks import EarlyStopping\n",
        "from tensorflow.keras import regularizers\n"
      ],
      "execution_count": null,
      "outputs": [
        {
          "output_type": "stream",
          "text": [
            "The tensorboard extension is already loaded. To reload it, use:\n",
            "  %reload_ext tensorboard\n"
          ],
          "name": "stdout"
        }
      ]
    },
    {
      "cell_type": "code",
      "metadata": {
        "id": "rEfzx8CLAWi7",
        "outputId": "5de2a5e5-dfb7-4310-9d45-36f0ca852d23"
      },
      "source": [
        "data_df = pd.read_csv(\"final_power_gen_data.csv\")\n",
        "data_df.head(10)"
      ],
      "execution_count": null,
      "outputs": [
        {
          "output_type": "execute_result",
          "data": {
            "text/html": [
              "<div>\n",
              "<style scoped>\n",
              "    .dataframe tbody tr th:only-of-type {\n",
              "        vertical-align: middle;\n",
              "    }\n",
              "\n",
              "    .dataframe tbody tr th {\n",
              "        vertical-align: top;\n",
              "    }\n",
              "\n",
              "    .dataframe thead th {\n",
              "        text-align: right;\n",
              "    }\n",
              "</style>\n",
              "<table border=\"1\" class=\"dataframe\">\n",
              "  <thead>\n",
              "    <tr style=\"text-align: right;\">\n",
              "      <th></th>\n",
              "      <th>Unnamed: 0</th>\n",
              "      <th>AMBIENT_TEMPERATURE</th>\n",
              "      <th>MODULE_TEMPERATURE</th>\n",
              "      <th>IRRADIATION</th>\n",
              "      <th>DAILY_YIELD</th>\n",
              "    </tr>\n",
              "  </thead>\n",
              "  <tbody>\n",
              "    <tr>\n",
              "      <th>0</th>\n",
              "      <td>0</td>\n",
              "      <td>30.565992</td>\n",
              "      <td>35.559493</td>\n",
              "      <td>0.300622</td>\n",
              "      <td>4201.0</td>\n",
              "    </tr>\n",
              "    <tr>\n",
              "      <th>1</th>\n",
              "      <td>1</td>\n",
              "      <td>29.478612</td>\n",
              "      <td>35.143314</td>\n",
              "      <td>0.246631</td>\n",
              "      <td>5677.0</td>\n",
              "    </tr>\n",
              "    <tr>\n",
              "      <th>2</th>\n",
              "      <td>2</td>\n",
              "      <td>29.780109</td>\n",
              "      <td>34.626731</td>\n",
              "      <td>0.221183</td>\n",
              "      <td>6342.0</td>\n",
              "    </tr>\n",
              "    <tr>\n",
              "      <th>3</th>\n",
              "      <td>3</td>\n",
              "      <td>27.336694</td>\n",
              "      <td>31.618089</td>\n",
              "      <td>0.223914</td>\n",
              "      <td>7641.0</td>\n",
              "    </tr>\n",
              "    <tr>\n",
              "      <th>4</th>\n",
              "      <td>4</td>\n",
              "      <td>28.233016</td>\n",
              "      <td>33.349863</td>\n",
              "      <td>0.279030</td>\n",
              "      <td>9423.0</td>\n",
              "    </tr>\n",
              "    <tr>\n",
              "      <th>5</th>\n",
              "      <td>5</td>\n",
              "      <td>29.055461</td>\n",
              "      <td>34.782797</td>\n",
              "      <td>0.283242</td>\n",
              "      <td>9151.0</td>\n",
              "    </tr>\n",
              "    <tr>\n",
              "      <th>6</th>\n",
              "      <td>6</td>\n",
              "      <td>29.648566</td>\n",
              "      <td>36.748054</td>\n",
              "      <td>0.297248</td>\n",
              "      <td>9863.0</td>\n",
              "    </tr>\n",
              "    <tr>\n",
              "      <th>7</th>\n",
              "      <td>7</td>\n",
              "      <td>30.649599</td>\n",
              "      <td>36.909950</td>\n",
              "      <td>0.293333</td>\n",
              "      <td>9688.0</td>\n",
              "    </tr>\n",
              "    <tr>\n",
              "      <th>8</th>\n",
              "      <td>8</td>\n",
              "      <td>30.805943</td>\n",
              "      <td>37.116551</td>\n",
              "      <td>0.285688</td>\n",
              "      <td>4635.0</td>\n",
              "    </tr>\n",
              "    <tr>\n",
              "      <th>9</th>\n",
              "      <td>9</td>\n",
              "      <td>30.818429</td>\n",
              "      <td>36.567041</td>\n",
              "      <td>0.276635</td>\n",
              "      <td>9224.0</td>\n",
              "    </tr>\n",
              "  </tbody>\n",
              "</table>\n",
              "</div>"
            ],
            "text/plain": [
              "   Unnamed: 0  AMBIENT_TEMPERATURE  MODULE_TEMPERATURE  IRRADIATION  \\\n",
              "0           0            30.565992           35.559493     0.300622   \n",
              "1           1            29.478612           35.143314     0.246631   \n",
              "2           2            29.780109           34.626731     0.221183   \n",
              "3           3            27.336694           31.618089     0.223914   \n",
              "4           4            28.233016           33.349863     0.279030   \n",
              "5           5            29.055461           34.782797     0.283242   \n",
              "6           6            29.648566           36.748054     0.297248   \n",
              "7           7            30.649599           36.909950     0.293333   \n",
              "8           8            30.805943           37.116551     0.285688   \n",
              "9           9            30.818429           36.567041     0.276635   \n",
              "\n",
              "   DAILY_YIELD  \n",
              "0       4201.0  \n",
              "1       5677.0  \n",
              "2       6342.0  \n",
              "3       7641.0  \n",
              "4       9423.0  \n",
              "5       9151.0  \n",
              "6       9863.0  \n",
              "7       9688.0  \n",
              "8       4635.0  \n",
              "9       9224.0  "
            ]
          },
          "metadata": {
            "tags": []
          },
          "execution_count": 34
        }
      ]
    },
    {
      "cell_type": "code",
      "metadata": {
        "id": "WLFirqGMAWi7"
      },
      "source": [
        "X_data = data_df[['AMBIENT_TEMPERATURE', 'MODULE_TEMPERATURE','IRRADIATION']]\n",
        "Y_data = data_df[['DAILY_YIELD']]"
      ],
      "execution_count": null,
      "outputs": []
    },
    {
      "cell_type": "code",
      "metadata": {
        "id": "tYzyZugkAWi7"
      },
      "source": [
        "scaler1 = StandardScaler()\n",
        "scaler2 = StandardScaler()"
      ],
      "execution_count": null,
      "outputs": []
    },
    {
      "cell_type": "code",
      "metadata": {
        "id": "5rOsOfw-AWi7"
      },
      "source": [
        "X_data_scaled = scaler1.fit_transform(X_data)\n",
        "Y_data_scaled = scaler2.fit_transform(Y_data)"
      ],
      "execution_count": null,
      "outputs": []
    },
    {
      "cell_type": "code",
      "metadata": {
        "id": "7T5gNS28AWi7"
      },
      "source": [
        "X_train, X_test, Y_train, Y_test = train_test_split(X_data_scaled, Y_data_scaled, test_size=0.25)"
      ],
      "execution_count": null,
      "outputs": []
    },
    {
      "cell_type": "code",
      "metadata": {
        "id": "GaEskgx6AWi8",
        "outputId": "58198502-722f-4530-d407-7e435ede3881"
      },
      "source": [
        "model = Sequential()\n",
        "model.add(Dense(1000, input_dim = X_data.shape[1], activation='relu', kernel_initializer = 'random_normal'))\n",
        "model.add(Dense(500, activation='relu', kernel_initializer = 'random_normal',  activity_regularizer=regularizers.l2(3.5e-4)))\n",
        "model.add(Dropout(0.3))\n",
        "model.add(Dense(250, activation='relu', kernel_initializer = 'random_normal',  activity_regularizer=regularizers.l2(3.5e-4)))\n",
        "model.add(Dropout(0.6))\n",
        "model.add(Dense(120, activation='relu', kernel_initializer = 'random_normal',  activity_regularizer=regularizers.l2(3.5e-4)))\n",
        "model.add(Dense(1))\n",
        "model.compile(loss='mean_squared_error', optimizer = 'Adam', metrics = ['mean_squared_error'])\n",
        "\n",
        "log_dir = \"logs/fit/\" + datetime.datetime.now().strftime(\"%Y%m%d-%H%M%S\")\n",
        "tensorboard_callback = tf.keras.callbacks.TensorBoard(log_dir=log_dir, histogram_freq=1)\n",
        "monitor = EarlyStopping(monitor ='val_loss', min_delta= 1e-3, patience = 30, verbose =1, restore_best_weights=True  )\n",
        "\n",
        "model.fit(X_train, Y_train, validation_data=(X_test, Y_test), epochs = 100, verbose =1, callbacks = [monitor, tensorboard_callback], batch_size = 5)"
      ],
      "execution_count": null,
      "outputs": [
        {
          "output_type": "stream",
          "text": [
            "Epoch 1/100\n",
            "178/178 [==============================] - 1s 6ms/step - loss: 0.8804 - mean_squared_error: 0.8753 - val_loss: 0.7310 - val_mean_squared_error: 0.7269\n",
            "Epoch 2/100\n",
            "178/178 [==============================] - 1s 5ms/step - loss: 0.8292 - mean_squared_error: 0.8258 - val_loss: 0.7326 - val_mean_squared_error: 0.7301\n",
            "Epoch 3/100\n",
            "178/178 [==============================] - 1s 5ms/step - loss: 0.8510 - mean_squared_error: 0.8486 - val_loss: 0.7573 - val_mean_squared_error: 0.7558\n",
            "Epoch 4/100\n",
            "178/178 [==============================] - 1s 5ms/step - loss: 0.8274 - mean_squared_error: 0.8254 - val_loss: 0.7186 - val_mean_squared_error: 0.7161\n",
            "Epoch 5/100\n",
            "178/178 [==============================] - 1s 4ms/step - loss: 0.8117 - mean_squared_error: 0.8099 - val_loss: 0.7331 - val_mean_squared_error: 0.7317\n",
            "Epoch 6/100\n",
            "178/178 [==============================] - 1s 5ms/step - loss: 0.8250 - mean_squared_error: 0.8234 - val_loss: 0.7113 - val_mean_squared_error: 0.7097\n",
            "Epoch 7/100\n",
            "178/178 [==============================] - 1s 4ms/step - loss: 0.8180 - mean_squared_error: 0.8164 - val_loss: 0.7563 - val_mean_squared_error: 0.7553\n",
            "Epoch 8/100\n",
            "178/178 [==============================] - 1s 5ms/step - loss: 0.8088 - mean_squared_error: 0.8072 - val_loss: 0.7158 - val_mean_squared_error: 0.7142\n",
            "Epoch 9/100\n",
            "178/178 [==============================] - 1s 5ms/step - loss: 0.7876 - mean_squared_error: 0.7858 - val_loss: 0.7187 - val_mean_squared_error: 0.7171\n",
            "Epoch 10/100\n",
            "178/178 [==============================] - 1s 5ms/step - loss: 0.7996 - mean_squared_error: 0.7978 - val_loss: 0.7104 - val_mean_squared_error: 0.7083\n",
            "Epoch 11/100\n",
            "178/178 [==============================] - 1s 5ms/step - loss: 0.8081 - mean_squared_error: 0.8063 - val_loss: 0.7354 - val_mean_squared_error: 0.7338\n",
            "Epoch 12/100\n",
            "178/178 [==============================] - 1s 5ms/step - loss: 0.8059 - mean_squared_error: 0.8043 - val_loss: 0.7269 - val_mean_squared_error: 0.7250\n",
            "Epoch 13/100\n",
            "178/178 [==============================] - 1s 5ms/step - loss: 0.8105 - mean_squared_error: 0.8088 - val_loss: 0.7305 - val_mean_squared_error: 0.7291\n",
            "Epoch 14/100\n",
            "178/178 [==============================] - 1s 5ms/step - loss: 0.8198 - mean_squared_error: 0.8180 - val_loss: 0.7220 - val_mean_squared_error: 0.7203\n",
            "Epoch 15/100\n",
            "178/178 [==============================] - 1s 5ms/step - loss: 0.8037 - mean_squared_error: 0.8019 - val_loss: 0.7146 - val_mean_squared_error: 0.7130\n",
            "Epoch 16/100\n",
            "178/178 [==============================] - 1s 5ms/step - loss: 0.7871 - mean_squared_error: 0.7853 - val_loss: 0.7199 - val_mean_squared_error: 0.7184\n",
            "Epoch 17/100\n",
            "178/178 [==============================] - 1s 5ms/step - loss: 0.7992 - mean_squared_error: 0.7976 - val_loss: 0.7174 - val_mean_squared_error: 0.7158\n",
            "Epoch 18/100\n",
            "178/178 [==============================] - 1s 5ms/step - loss: 0.7976 - mean_squared_error: 0.7959 - val_loss: 0.7319 - val_mean_squared_error: 0.7306\n",
            "Epoch 19/100\n",
            "178/178 [==============================] - 1s 5ms/step - loss: 0.7983 - mean_squared_error: 0.7966 - val_loss: 0.7284 - val_mean_squared_error: 0.7270\n",
            "Epoch 20/100\n",
            "178/178 [==============================] - 1s 5ms/step - loss: 0.8095 - mean_squared_error: 0.8077 - val_loss: 0.7185 - val_mean_squared_error: 0.7160\n",
            "Epoch 21/100\n",
            "178/178 [==============================] - 1s 5ms/step - loss: 0.8138 - mean_squared_error: 0.8119 - val_loss: 0.7245 - val_mean_squared_error: 0.7221\n",
            "Epoch 22/100\n",
            "178/178 [==============================] - 1s 5ms/step - loss: 0.7893 - mean_squared_error: 0.7872 - val_loss: 0.7275 - val_mean_squared_error: 0.7257\n",
            "Epoch 23/100\n",
            "178/178 [==============================] - 1s 5ms/step - loss: 0.7906 - mean_squared_error: 0.7887 - val_loss: 0.7332 - val_mean_squared_error: 0.7319\n",
            "Epoch 24/100\n",
            "178/178 [==============================] - 1s 5ms/step - loss: 0.7936 - mean_squared_error: 0.7919 - val_loss: 0.7112 - val_mean_squared_error: 0.7093\n",
            "Epoch 25/100\n",
            "178/178 [==============================] - 1s 5ms/step - loss: 0.7983 - mean_squared_error: 0.7965 - val_loss: 0.7187 - val_mean_squared_error: 0.7171\n",
            "Epoch 26/100\n",
            "178/178 [==============================] - 1s 5ms/step - loss: 0.7994 - mean_squared_error: 0.7976 - val_loss: 0.7132 - val_mean_squared_error: 0.7111\n",
            "Epoch 27/100\n",
            "178/178 [==============================] - 1s 6ms/step - loss: 0.7953 - mean_squared_error: 0.7934 - val_loss: 0.7141 - val_mean_squared_error: 0.7123\n",
            "Epoch 28/100\n",
            "178/178 [==============================] - 1s 5ms/step - loss: 0.7972 - mean_squared_error: 0.7954 - val_loss: 0.7439 - val_mean_squared_error: 0.7428\n",
            "Epoch 29/100\n",
            "178/178 [==============================] - 1s 6ms/step - loss: 0.8044 - mean_squared_error: 0.8028 - val_loss: 0.7199 - val_mean_squared_error: 0.7182\n",
            "Epoch 30/100\n",
            "178/178 [==============================] - 1s 6ms/step - loss: 0.7952 - mean_squared_error: 0.7935 - val_loss: 0.7159 - val_mean_squared_error: 0.7142\n",
            "Epoch 31/100\n",
            "178/178 [==============================] - 1s 5ms/step - loss: 0.7905 - mean_squared_error: 0.7888 - val_loss: 0.7207 - val_mean_squared_error: 0.7187\n",
            "Epoch 32/100\n",
            "178/178 [==============================] - 1s 5ms/step - loss: 0.7958 - mean_squared_error: 0.7939 - val_loss: 0.7198 - val_mean_squared_error: 0.7178\n",
            "Epoch 33/100\n",
            "178/178 [==============================] - 1s 5ms/step - loss: 0.7977 - mean_squared_error: 0.7958 - val_loss: 0.7153 - val_mean_squared_error: 0.7133\n",
            "Epoch 34/100\n",
            "178/178 [==============================] - 1s 5ms/step - loss: 0.7887 - mean_squared_error: 0.7867 - val_loss: 0.7213 - val_mean_squared_error: 0.7191\n",
            "Epoch 35/100\n",
            "178/178 [==============================] - 1s 5ms/step - loss: 0.7938 - mean_squared_error: 0.7915 - val_loss: 0.7250 - val_mean_squared_error: 0.7231\n",
            "Epoch 36/100\n",
            "169/178 [===========================>..] - ETA: 0s - loss: 0.7963 - mean_squared_error: 0.7943Restoring model weights from the end of the best epoch.\n",
            "178/178 [==============================] - 1s 5ms/step - loss: 0.7924 - mean_squared_error: 0.7904 - val_loss: 0.7238 - val_mean_squared_error: 0.7221\n",
            "Epoch 00036: early stopping\n"
          ],
          "name": "stdout"
        },
        {
          "output_type": "execute_result",
          "data": {
            "text/plain": [
              "<tensorflow.python.keras.callbacks.History at 0x161a2a25b48>"
            ]
          },
          "metadata": {
            "tags": []
          },
          "execution_count": 40
        }
      ]
    },
    {
      "cell_type": "code",
      "metadata": {
        "id": "MRGDigpmAWi8",
        "outputId": "71c18115-0479-4f5e-bc08-65e43c18840f"
      },
      "source": [
        "#runs tensorboard\n",
        "%tensorboard --logdir logs/fit"
      ],
      "execution_count": null,
      "outputs": [
        {
          "output_type": "display_data",
          "data": {
            "text/plain": [
              "Reusing TensorBoard on port 6006 (pid 21540), started 0:01:01 ago. (Use '!kill 21540' to kill it.)"
            ]
          },
          "metadata": {
            "tags": []
          }
        },
        {
          "output_type": "display_data",
          "data": {
            "text/html": [
              "\n",
              "      <iframe id=\"tensorboard-frame-f083f57b6c9b9e94\" width=\"100%\" height=\"800\" frameborder=\"0\">\n",
              "      </iframe>\n",
              "      <script>\n",
              "        (function() {\n",
              "          const frame = document.getElementById(\"tensorboard-frame-f083f57b6c9b9e94\");\n",
              "          const url = new URL(\"/\", window.location);\n",
              "          url.port = 6006;\n",
              "          frame.src = url;\n",
              "        })();\n",
              "      </script>\n",
              "  "
            ],
            "text/plain": [
              "<IPython.core.display.HTML object>"
            ]
          },
          "metadata": {
            "tags": []
          }
        }
      ]
    },
    {
      "cell_type": "code",
      "metadata": {
        "id": "ZmvzRux1AWi8"
      },
      "source": [
        ""
      ],
      "execution_count": null,
      "outputs": []
    }
  ]
}