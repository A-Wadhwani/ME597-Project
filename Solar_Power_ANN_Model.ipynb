{
  "nbformat": 4,
  "nbformat_minor": 0,
  "metadata": {
    "kernelspec": {
      "display_name": "Python 3",
      "language": "python",
      "name": "python3"
    },
    "language_info": {
      "codemirror_mode": {
        "name": "ipython",
        "version": 3
      },
      "file_extension": ".py",
      "mimetype": "text/x-python",
      "name": "python",
      "nbconvert_exporter": "python",
      "pygments_lexer": "ipython3",
      "version": "3.7.6"
    },
    "colab": {
      "name": "ANN Model (initial).ipynb",
      "provenance": [],
      "include_colab_link": true
    },
    "accelerator": "GPU"
  },
  "cells": [
    {
      "cell_type": "markdown",
      "metadata": {
        "id": "view-in-github",
        "colab_type": "text"
      },
      "source": [
        "<a href=\"https://colab.research.google.com/github/A-Wadhwani/ME597-Project/blob/main/Solar_Power_ANN_Model.ipynb\" target=\"_parent\"><img src=\"https://colab.research.google.com/assets/colab-badge.svg\" alt=\"Open In Colab\"/></a>"
      ]
    },
    {
      "cell_type": "code",
      "metadata": {
        "colab": {
          "base_uri": "https://localhost:8080/"
        },
        "id": "Xac5n8PnAWi6",
        "outputId": "e2bbd52e-042f-429b-935c-0d79c9aca47f"
      },
      "source": [
        "#importing required libraries\n",
        "%load_ext tensorboard\n",
        "import tensorflow as tf\n",
        "import keras as kr\n",
        "import numpy as np\n",
        "import pandas as pd\n",
        "import datetime\n",
        "import statistics as st\n",
        "from sklearn import metrics\n",
        "import matplotlib.pyplot as plt\n",
        "import seaborn as sns\n",
        "\n",
        "from sklearn.preprocessing import StandardScaler\n",
        "from sklearn.preprocessing import RobustScaler\n",
        "\n",
        "from sklearn.model_selection import train_test_split\n",
        "\n",
        "from tensorflow import keras\n",
        "from tensorflow.keras import layers\n",
        "from tensorflow.keras import Sequential \n",
        "from tensorflow.keras.layers import Dense, Activation, Dropout\n",
        "from tensorflow.keras.callbacks import EarlyStopping\n",
        "from tensorflow.keras.callbacks import ReduceLROnPlateau\n",
        "from tensorflow.keras import regularizers\n",
        "from keras.wrappers.scikit_learn import KerasClassifier, KerasRegressor\n",
        "from tensorflow.keras import regularizers\n"
      ],
      "execution_count": 428,
      "outputs": [
        {
          "output_type": "stream",
          "text": [
            "The tensorboard extension is already loaded. To reload it, use:\n",
            "  %reload_ext tensorboard\n"
          ],
          "name": "stdout"
        }
      ]
    },
    {
      "cell_type": "code",
      "metadata": {
        "colab": {
          "base_uri": "https://localhost:8080/",
          "height": 340
        },
        "id": "rEfzx8CLAWi7",
        "outputId": "03877511-0188-4809-bdd7-c395b5d8e9b3"
      },
      "source": [
        "#Importing the dataset\n",
        "#####data_df = pd.read_csv(\"/content/plant1_dataset_codes.csv\")\n",
        "data_df = pd.read_csv(\"/content/final_power_gen_data.csv\")\n",
        "data_df.head(10)\n"
      ],
      "execution_count": 429,
      "outputs": [
        {
          "output_type": "execute_result",
          "data": {
            "text/html": [
              "<div>\n",
              "<style scoped>\n",
              "    .dataframe tbody tr th:only-of-type {\n",
              "        vertical-align: middle;\n",
              "    }\n",
              "\n",
              "    .dataframe tbody tr th {\n",
              "        vertical-align: top;\n",
              "    }\n",
              "\n",
              "    .dataframe thead th {\n",
              "        text-align: right;\n",
              "    }\n",
              "</style>\n",
              "<table border=\"1\" class=\"dataframe\">\n",
              "  <thead>\n",
              "    <tr style=\"text-align: right;\">\n",
              "      <th></th>\n",
              "      <th>Unnamed: 0</th>\n",
              "      <th>AMBIENT_TEMPERATURE</th>\n",
              "      <th>MODULE_TEMPERATURE</th>\n",
              "      <th>IRRADIATION</th>\n",
              "      <th>DAILY_YIELD</th>\n",
              "      <th>SOURCE_KEY</th>\n",
              "    </tr>\n",
              "  </thead>\n",
              "  <tbody>\n",
              "    <tr>\n",
              "      <th>0</th>\n",
              "      <td>0</td>\n",
              "      <td>30.565992</td>\n",
              "      <td>35.559493</td>\n",
              "      <td>0.300622</td>\n",
              "      <td>4201.0</td>\n",
              "      <td>3</td>\n",
              "    </tr>\n",
              "    <tr>\n",
              "      <th>1</th>\n",
              "      <td>1</td>\n",
              "      <td>29.478612</td>\n",
              "      <td>35.143314</td>\n",
              "      <td>0.246631</td>\n",
              "      <td>5677.0</td>\n",
              "      <td>3</td>\n",
              "    </tr>\n",
              "    <tr>\n",
              "      <th>2</th>\n",
              "      <td>2</td>\n",
              "      <td>29.780109</td>\n",
              "      <td>34.626731</td>\n",
              "      <td>0.221183</td>\n",
              "      <td>6342.0</td>\n",
              "      <td>3</td>\n",
              "    </tr>\n",
              "    <tr>\n",
              "      <th>3</th>\n",
              "      <td>3</td>\n",
              "      <td>27.336694</td>\n",
              "      <td>31.618089</td>\n",
              "      <td>0.223914</td>\n",
              "      <td>7641.0</td>\n",
              "      <td>3</td>\n",
              "    </tr>\n",
              "    <tr>\n",
              "      <th>4</th>\n",
              "      <td>4</td>\n",
              "      <td>28.233016</td>\n",
              "      <td>33.349863</td>\n",
              "      <td>0.279030</td>\n",
              "      <td>9423.0</td>\n",
              "      <td>3</td>\n",
              "    </tr>\n",
              "    <tr>\n",
              "      <th>5</th>\n",
              "      <td>5</td>\n",
              "      <td>29.055461</td>\n",
              "      <td>34.782797</td>\n",
              "      <td>0.283242</td>\n",
              "      <td>9151.0</td>\n",
              "      <td>3</td>\n",
              "    </tr>\n",
              "    <tr>\n",
              "      <th>6</th>\n",
              "      <td>6</td>\n",
              "      <td>29.648566</td>\n",
              "      <td>36.748054</td>\n",
              "      <td>0.297248</td>\n",
              "      <td>9863.0</td>\n",
              "      <td>3</td>\n",
              "    </tr>\n",
              "    <tr>\n",
              "      <th>7</th>\n",
              "      <td>7</td>\n",
              "      <td>30.649599</td>\n",
              "      <td>36.909950</td>\n",
              "      <td>0.293333</td>\n",
              "      <td>9688.0</td>\n",
              "      <td>3</td>\n",
              "    </tr>\n",
              "    <tr>\n",
              "      <th>8</th>\n",
              "      <td>8</td>\n",
              "      <td>30.805943</td>\n",
              "      <td>37.116551</td>\n",
              "      <td>0.285688</td>\n",
              "      <td>4635.0</td>\n",
              "      <td>3</td>\n",
              "    </tr>\n",
              "    <tr>\n",
              "      <th>9</th>\n",
              "      <td>9</td>\n",
              "      <td>30.818429</td>\n",
              "      <td>36.567041</td>\n",
              "      <td>0.276635</td>\n",
              "      <td>9224.0</td>\n",
              "      <td>3</td>\n",
              "    </tr>\n",
              "  </tbody>\n",
              "</table>\n",
              "</div>"
            ],
            "text/plain": [
              "   Unnamed: 0  AMBIENT_TEMPERATURE  ...  DAILY_YIELD  SOURCE_KEY\n",
              "0           0            30.565992  ...       4201.0           3\n",
              "1           1            29.478612  ...       5677.0           3\n",
              "2           2            29.780109  ...       6342.0           3\n",
              "3           3            27.336694  ...       7641.0           3\n",
              "4           4            28.233016  ...       9423.0           3\n",
              "5           5            29.055461  ...       9151.0           3\n",
              "6           6            29.648566  ...       9863.0           3\n",
              "7           7            30.649599  ...       9688.0           3\n",
              "8           8            30.805943  ...       4635.0           3\n",
              "9           9            30.818429  ...       9224.0           3\n",
              "\n",
              "[10 rows x 6 columns]"
            ]
          },
          "metadata": {
            "tags": []
          },
          "execution_count": 429
        }
      ]
    },
    {
      "cell_type": "code",
      "metadata": {
        "id": "LvBzH3Q8G8rD"
      },
      "source": [
        "#Splitting dataset into X and Y variables\n",
        "X_data = data_df[['AMBIENT_TEMPERATURE','MODULE_TEMPERATURE','IRRADIATION','SOURCE_KEY']]\n",
        "Y_data = data_df[['DAILY_YIELD']]"
      ],
      "execution_count": 430,
      "outputs": []
    },
    {
      "cell_type": "code",
      "metadata": {
        "id": "tYzyZugkAWi7"
      },
      "source": [
        "#Scaling the data\n",
        "scaler1 = RobustScaler()\n",
        "scaler2 = RobustScaler()\n",
        "\n",
        "X_data_scaled = scaler1.fit_transform(X_data)\n",
        "Y_data_scaled = scaler2.fit_transform(Y_data)"
      ],
      "execution_count": 431,
      "outputs": []
    },
    {
      "cell_type": "code",
      "metadata": {
        "id": "7T5gNS28AWi7"
      },
      "source": [
        "#Splitting the X and Y variables into train and test datasets\n",
        "X_train, X_test, Y_train, Y_test = train_test_split(X_data_scaled, Y_data_scaled, test_size=0.25)"
      ],
      "execution_count": 432,
      "outputs": []
    },
    {
      "cell_type": "code",
      "metadata": {
        "id": "KCgaNUF4VH9a"
      },
      "source": [
        "#creating optimizer method\n",
        "optimizer1 = tf.keras.optimizers.Adam(learning_rate=0.001, beta_1=0.8, beta_2=0.999, epsilon=1e-8)"
      ],
      "execution_count": 433,
      "outputs": []
    },
    {
      "cell_type": "code",
      "metadata": {
        "colab": {
          "base_uri": "https://localhost:8080/"
        },
        "id": "GaEskgx6AWi8",
        "outputId": "ce395d79-7b5b-4316-ae04-906127ad603e"
      },
      "source": [
        "# Creating and training the ANN model\n",
        "model = Sequential()\n",
        "model.add(Dense(512, input_dim = X_data.shape[1], activation='relu', kernel_initializer = 'random_normal'))\n",
        "model.add(Dense(256, activation='relu', kernel_initializer = 'random_normal',  activity_regularizer=regularizers.l1(3.5e-4)))\n",
        "model.add(Dropout(0.1))\n",
        "model.add(Dense(128, activation='relu', kernel_initializer = 'random_normal'))#,  activity_regularizer=regularizers.l1(3.5e-4)))\n",
        "model.add(Dropout(0.1))\n",
        "model.add(Dense(64, activation='relu', kernel_initializer = 'random_normal'))#,  activity_regularizer=regularizers.l1(3.5e-4)))\n",
        "model.add(Dropout(0.1))\n",
        "model.add(Dense(32, activation='relu', kernel_initializer = 'random_normal'))#,  activity_regularizer=regularizers.l1(3.5e-4)))\n",
        "model.add(Dropout(0.1))\n",
        "model.add(Dense(16, activation='relu', kernel_initializer = 'random_normal'))#,  activity_regularizer=regularizers.l1(3.5e-4)))\n",
        "model.add(Dropout(0.1))\n",
        "model.add(Dense(1, activation = 'linear'))\n",
        "model.compile(loss='mae', optimizer = optimizer1, metrics = ['mean_squared_error','mae'])\n",
        "\n",
        "'''\n",
        "log_dir = \"logs/fit/\" + datetime.datetime.now().strftime(\"%Y%m%d-%H%M%S\")\n",
        "tensorboard_callback = tf.keras.callbacks.TensorBoard(log_dir=log_dir, histogram_freq=1)\n",
        "'''\n",
        "monitor = EarlyStopping(monitor ='val_loss', min_delta= 1e-3, patience = 50, verbose =1, restore_best_weights=True  )\n",
        "reduce_lr = ReduceLROnPlateau(monitor='val_loss', factor=0.2, patience=20, verbose = 1)\n",
        "\n",
        "#history = model.fit(X_train, Y_train, validation_data=(X_test, Y_test), epochs = 300, verbose =1, callbacks = [monitor,''' tensorboard_callback,''' reduce_lr], batch_size = 15)\n",
        "history = model.fit(X_train, Y_train, validation_data=(X_test, Y_test), epochs = 300, verbose =1, callbacks = [monitor, reduce_lr], batch_size = 5)"
      ],
      "execution_count": 434,
      "outputs": [
        {
          "output_type": "stream",
          "text": [
            "Epoch 1/300\n",
            "178/178 [==============================] - 1s 7ms/step - loss: 0.4526 - mean_squared_error: 0.3046 - mae: 0.4505 - val_loss: 0.4558 - val_mean_squared_error: 0.3107 - val_mae: 0.4536\n",
            "Epoch 2/300\n",
            "178/178 [==============================] - 1s 4ms/step - loss: 0.4019 - mean_squared_error: 0.2726 - mae: 0.3996 - val_loss: 0.4253 - val_mean_squared_error: 0.3107 - val_mae: 0.4231\n",
            "Epoch 3/300\n",
            "178/178 [==============================] - 1s 4ms/step - loss: 0.4055 - mean_squared_error: 0.2813 - mae: 0.4034 - val_loss: 0.4399 - val_mean_squared_error: 0.3155 - val_mae: 0.4384\n",
            "Epoch 4/300\n",
            "178/178 [==============================] - 1s 5ms/step - loss: 0.4023 - mean_squared_error: 0.2848 - mae: 0.4005 - val_loss: 0.4155 - val_mean_squared_error: 0.3090 - val_mae: 0.4138\n",
            "Epoch 5/300\n",
            "178/178 [==============================] - 1s 4ms/step - loss: 0.3946 - mean_squared_error: 0.2765 - mae: 0.3929 - val_loss: 0.4283 - val_mean_squared_error: 0.3093 - val_mae: 0.4268\n",
            "Epoch 6/300\n",
            "178/178 [==============================] - 1s 4ms/step - loss: 0.3942 - mean_squared_error: 0.2833 - mae: 0.3926 - val_loss: 0.4212 - val_mean_squared_error: 0.3237 - val_mae: 0.4198\n",
            "Epoch 7/300\n",
            "178/178 [==============================] - 1s 4ms/step - loss: 0.3911 - mean_squared_error: 0.2846 - mae: 0.3895 - val_loss: 0.4238 - val_mean_squared_error: 0.3109 - val_mae: 0.4224\n",
            "Epoch 8/300\n",
            "178/178 [==============================] - 1s 4ms/step - loss: 0.3870 - mean_squared_error: 0.2783 - mae: 0.3856 - val_loss: 0.4321 - val_mean_squared_error: 0.3281 - val_mae: 0.4311\n",
            "Epoch 9/300\n",
            "178/178 [==============================] - 1s 4ms/step - loss: 0.3940 - mean_squared_error: 0.2821 - mae: 0.3927 - val_loss: 0.4216 - val_mean_squared_error: 0.3030 - val_mae: 0.4204\n",
            "Epoch 10/300\n",
            "178/178 [==============================] - 1s 4ms/step - loss: 0.3883 - mean_squared_error: 0.2769 - mae: 0.3869 - val_loss: 0.4137 - val_mean_squared_error: 0.3114 - val_mae: 0.4123\n",
            "Epoch 11/300\n",
            "178/178 [==============================] - 1s 5ms/step - loss: 0.3863 - mean_squared_error: 0.2773 - mae: 0.3849 - val_loss: 0.4099 - val_mean_squared_error: 0.3107 - val_mae: 0.4086\n",
            "Epoch 12/300\n",
            "178/178 [==============================] - 1s 4ms/step - loss: 0.3886 - mean_squared_error: 0.2830 - mae: 0.3873 - val_loss: 0.4191 - val_mean_squared_error: 0.3155 - val_mae: 0.4180\n",
            "Epoch 13/300\n",
            "178/178 [==============================] - 1s 4ms/step - loss: 0.3872 - mean_squared_error: 0.2811 - mae: 0.3860 - val_loss: 0.4082 - val_mean_squared_error: 0.3127 - val_mae: 0.4070\n",
            "Epoch 14/300\n",
            "178/178 [==============================] - 1s 4ms/step - loss: 0.3812 - mean_squared_error: 0.2761 - mae: 0.3800 - val_loss: 0.4076 - val_mean_squared_error: 0.3104 - val_mae: 0.4064\n",
            "Epoch 15/300\n",
            "178/178 [==============================] - 1s 4ms/step - loss: 0.3824 - mean_squared_error: 0.2777 - mae: 0.3812 - val_loss: 0.4194 - val_mean_squared_error: 0.2911 - val_mae: 0.4183\n",
            "Epoch 16/300\n",
            "178/178 [==============================] - 1s 4ms/step - loss: 0.3843 - mean_squared_error: 0.2756 - mae: 0.3830 - val_loss: 0.4296 - val_mean_squared_error: 0.2873 - val_mae: 0.4284\n",
            "Epoch 17/300\n",
            "178/178 [==============================] - 1s 4ms/step - loss: 0.3868 - mean_squared_error: 0.2790 - mae: 0.3855 - val_loss: 0.4205 - val_mean_squared_error: 0.3099 - val_mae: 0.4193\n",
            "Epoch 18/300\n",
            "178/178 [==============================] - 1s 4ms/step - loss: 0.3832 - mean_squared_error: 0.2755 - mae: 0.3819 - val_loss: 0.4127 - val_mean_squared_error: 0.3117 - val_mae: 0.4116\n",
            "Epoch 19/300\n",
            "178/178 [==============================] - 1s 4ms/step - loss: 0.3816 - mean_squared_error: 0.2766 - mae: 0.3804 - val_loss: 0.4132 - val_mean_squared_error: 0.3117 - val_mae: 0.4120\n",
            "Epoch 20/300\n",
            "178/178 [==============================] - 1s 4ms/step - loss: 0.3837 - mean_squared_error: 0.2773 - mae: 0.3825 - val_loss: 0.4132 - val_mean_squared_error: 0.3060 - val_mae: 0.4121\n",
            "Epoch 21/300\n",
            "178/178 [==============================] - 1s 4ms/step - loss: 0.3825 - mean_squared_error: 0.2766 - mae: 0.3814 - val_loss: 0.4190 - val_mean_squared_error: 0.2937 - val_mae: 0.4179\n",
            "Epoch 22/300\n",
            "178/178 [==============================] - 1s 4ms/step - loss: 0.3883 - mean_squared_error: 0.2823 - mae: 0.3871 - val_loss: 0.4126 - val_mean_squared_error: 0.2926 - val_mae: 0.4114\n",
            "Epoch 23/300\n",
            "178/178 [==============================] - 1s 4ms/step - loss: 0.3873 - mean_squared_error: 0.2772 - mae: 0.3862 - val_loss: 0.4120 - val_mean_squared_error: 0.2987 - val_mae: 0.4109\n",
            "Epoch 24/300\n",
            "178/178 [==============================] - 1s 4ms/step - loss: 0.3792 - mean_squared_error: 0.2744 - mae: 0.3781 - val_loss: 0.4248 - val_mean_squared_error: 0.3132 - val_mae: 0.4234\n",
            "Epoch 25/300\n",
            "178/178 [==============================] - 1s 4ms/step - loss: 0.3853 - mean_squared_error: 0.2736 - mae: 0.3841 - val_loss: 0.4098 - val_mean_squared_error: 0.3111 - val_mae: 0.4087\n",
            "Epoch 26/300\n",
            "178/178 [==============================] - 1s 5ms/step - loss: 0.3861 - mean_squared_error: 0.2805 - mae: 0.3850 - val_loss: 0.4099 - val_mean_squared_error: 0.3008 - val_mae: 0.4089\n",
            "Epoch 27/300\n",
            "178/178 [==============================] - 1s 4ms/step - loss: 0.3822 - mean_squared_error: 0.2746 - mae: 0.3811 - val_loss: 0.4153 - val_mean_squared_error: 0.3031 - val_mae: 0.4143\n",
            "Epoch 28/300\n",
            "178/178 [==============================] - 1s 4ms/step - loss: 0.3806 - mean_squared_error: 0.2792 - mae: 0.3794 - val_loss: 0.4128 - val_mean_squared_error: 0.3119 - val_mae: 0.4116\n",
            "Epoch 29/300\n",
            "178/178 [==============================] - 1s 4ms/step - loss: 0.3857 - mean_squared_error: 0.2800 - mae: 0.3845 - val_loss: 0.4127 - val_mean_squared_error: 0.3034 - val_mae: 0.4117\n",
            "Epoch 30/300\n",
            "178/178 [==============================] - 1s 4ms/step - loss: 0.3811 - mean_squared_error: 0.2745 - mae: 0.3800 - val_loss: 0.4205 - val_mean_squared_error: 0.3212 - val_mae: 0.4195\n",
            "Epoch 31/300\n",
            "178/178 [==============================] - 1s 4ms/step - loss: 0.3752 - mean_squared_error: 0.2761 - mae: 0.3741 - val_loss: 0.4106 - val_mean_squared_error: 0.3190 - val_mae: 0.4096\n",
            "Epoch 32/300\n",
            "178/178 [==============================] - 1s 5ms/step - loss: 0.3805 - mean_squared_error: 0.2753 - mae: 0.3795 - val_loss: 0.4113 - val_mean_squared_error: 0.3080 - val_mae: 0.4103\n",
            "Epoch 33/300\n",
            "178/178 [==============================] - 1s 4ms/step - loss: 0.3822 - mean_squared_error: 0.2755 - mae: 0.3812 - val_loss: 0.4361 - val_mean_squared_error: 0.3109 - val_mae: 0.4353\n",
            "Epoch 34/300\n",
            "169/178 [===========================>..] - ETA: 0s - loss: 0.3853 - mean_squared_error: 0.2798 - mae: 0.3844\n",
            "Epoch 00034: ReduceLROnPlateau reducing learning rate to 0.00020000000949949026.\n",
            "178/178 [==============================] - 1s 5ms/step - loss: 0.3852 - mean_squared_error: 0.2786 - mae: 0.3842 - val_loss: 0.4141 - val_mean_squared_error: 0.2952 - val_mae: 0.4130\n",
            "Epoch 35/300\n",
            "178/178 [==============================] - 1s 4ms/step - loss: 0.3804 - mean_squared_error: 0.2737 - mae: 0.3793 - val_loss: 0.4085 - val_mean_squared_error: 0.3036 - val_mae: 0.4075\n",
            "Epoch 36/300\n",
            "178/178 [==============================] - 1s 4ms/step - loss: 0.3755 - mean_squared_error: 0.2727 - mae: 0.3744 - val_loss: 0.4087 - val_mean_squared_error: 0.3072 - val_mae: 0.4077\n",
            "Epoch 37/300\n",
            "178/178 [==============================] - 1s 5ms/step - loss: 0.3749 - mean_squared_error: 0.2724 - mae: 0.3739 - val_loss: 0.4082 - val_mean_squared_error: 0.3031 - val_mae: 0.4072\n",
            "Epoch 38/300\n",
            "178/178 [==============================] - 1s 4ms/step - loss: 0.3738 - mean_squared_error: 0.2706 - mae: 0.3728 - val_loss: 0.4114 - val_mean_squared_error: 0.3065 - val_mae: 0.4105\n",
            "Epoch 39/300\n",
            "178/178 [==============================] - 1s 4ms/step - loss: 0.3694 - mean_squared_error: 0.2674 - mae: 0.3684 - val_loss: 0.4089 - val_mean_squared_error: 0.3060 - val_mae: 0.4079\n",
            "Epoch 40/300\n",
            "178/178 [==============================] - 1s 4ms/step - loss: 0.3709 - mean_squared_error: 0.2687 - mae: 0.3699 - val_loss: 0.4079 - val_mean_squared_error: 0.3094 - val_mae: 0.4069\n",
            "Epoch 41/300\n",
            "178/178 [==============================] - 1s 5ms/step - loss: 0.3704 - mean_squared_error: 0.2710 - mae: 0.3694 - val_loss: 0.4089 - val_mean_squared_error: 0.3038 - val_mae: 0.4080\n",
            "Epoch 42/300\n",
            "178/178 [==============================] - 1s 4ms/step - loss: 0.3721 - mean_squared_error: 0.2714 - mae: 0.3712 - val_loss: 0.4141 - val_mean_squared_error: 0.3049 - val_mae: 0.4132\n",
            "Epoch 43/300\n",
            "178/178 [==============================] - 1s 4ms/step - loss: 0.3721 - mean_squared_error: 0.2704 - mae: 0.3712 - val_loss: 0.4104 - val_mean_squared_error: 0.3035 - val_mae: 0.4095\n",
            "Epoch 44/300\n",
            "178/178 [==============================] - 1s 4ms/step - loss: 0.3742 - mean_squared_error: 0.2720 - mae: 0.3732 - val_loss: 0.4086 - val_mean_squared_error: 0.3099 - val_mae: 0.4077\n",
            "Epoch 45/300\n",
            "178/178 [==============================] - 1s 4ms/step - loss: 0.3715 - mean_squared_error: 0.2696 - mae: 0.3705 - val_loss: 0.4104 - val_mean_squared_error: 0.3023 - val_mae: 0.4095\n",
            "Epoch 46/300\n",
            "178/178 [==============================] - 1s 4ms/step - loss: 0.3704 - mean_squared_error: 0.2671 - mae: 0.3695 - val_loss: 0.4075 - val_mean_squared_error: 0.3063 - val_mae: 0.4066\n",
            "Epoch 47/300\n",
            "178/178 [==============================] - 1s 4ms/step - loss: 0.3696 - mean_squared_error: 0.2693 - mae: 0.3686 - val_loss: 0.4115 - val_mean_squared_error: 0.3028 - val_mae: 0.4106\n",
            "Epoch 48/300\n",
            "178/178 [==============================] - 1s 4ms/step - loss: 0.3689 - mean_squared_error: 0.2681 - mae: 0.3680 - val_loss: 0.4114 - val_mean_squared_error: 0.3026 - val_mae: 0.4104\n",
            "Epoch 49/300\n",
            "178/178 [==============================] - 1s 4ms/step - loss: 0.3720 - mean_squared_error: 0.2673 - mae: 0.3711 - val_loss: 0.4094 - val_mean_squared_error: 0.3055 - val_mae: 0.4085\n",
            "Epoch 50/300\n",
            "178/178 [==============================] - 1s 5ms/step - loss: 0.3693 - mean_squared_error: 0.2672 - mae: 0.3684 - val_loss: 0.4102 - val_mean_squared_error: 0.3020 - val_mae: 0.4093\n",
            "Epoch 51/300\n",
            "178/178 [==============================] - 1s 4ms/step - loss: 0.3705 - mean_squared_error: 0.2694 - mae: 0.3696 - val_loss: 0.4100 - val_mean_squared_error: 0.3071 - val_mae: 0.4091\n",
            "Epoch 52/300\n",
            "178/178 [==============================] - 1s 4ms/step - loss: 0.3701 - mean_squared_error: 0.2685 - mae: 0.3692 - val_loss: 0.4125 - val_mean_squared_error: 0.3061 - val_mae: 0.4117\n",
            "Epoch 53/300\n",
            "178/178 [==============================] - 1s 4ms/step - loss: 0.3694 - mean_squared_error: 0.2690 - mae: 0.3685 - val_loss: 0.4095 - val_mean_squared_error: 0.3053 - val_mae: 0.4087\n",
            "Epoch 54/300\n",
            "178/178 [==============================] - 1s 4ms/step - loss: 0.3714 - mean_squared_error: 0.2707 - mae: 0.3706 - val_loss: 0.4109 - val_mean_squared_error: 0.3016 - val_mae: 0.4100\n",
            "Epoch 55/300\n",
            "178/178 [==============================] - 1s 5ms/step - loss: 0.3710 - mean_squared_error: 0.2684 - mae: 0.3701 - val_loss: 0.4122 - val_mean_squared_error: 0.3051 - val_mae: 0.4114\n",
            "Epoch 56/300\n",
            "178/178 [==============================] - 1s 4ms/step - loss: 0.3663 - mean_squared_error: 0.2676 - mae: 0.3654 - val_loss: 0.4132 - val_mean_squared_error: 0.3002 - val_mae: 0.4123\n",
            "Epoch 57/300\n",
            "178/178 [==============================] - 1s 4ms/step - loss: 0.3698 - mean_squared_error: 0.2661 - mae: 0.3689 - val_loss: 0.4106 - val_mean_squared_error: 0.3043 - val_mae: 0.4098\n",
            "Epoch 58/300\n",
            "178/178 [==============================] - 1s 4ms/step - loss: 0.3686 - mean_squared_error: 0.2668 - mae: 0.3677 - val_loss: 0.4075 - val_mean_squared_error: 0.3058 - val_mae: 0.4066\n",
            "Epoch 59/300\n",
            "178/178 [==============================] - 1s 4ms/step - loss: 0.3696 - mean_squared_error: 0.2674 - mae: 0.3687 - val_loss: 0.4105 - val_mean_squared_error: 0.3048 - val_mae: 0.4096\n",
            "Epoch 60/300\n",
            "178/178 [==============================] - 1s 4ms/step - loss: 0.3695 - mean_squared_error: 0.2646 - mae: 0.3687 - val_loss: 0.4129 - val_mean_squared_error: 0.3100 - val_mae: 0.4121\n",
            "Epoch 61/300\n",
            "178/178 [==============================] - 1s 4ms/step - loss: 0.3714 - mean_squared_error: 0.2713 - mae: 0.3706 - val_loss: 0.4117 - val_mean_squared_error: 0.3066 - val_mae: 0.4109\n",
            "Epoch 62/300\n",
            "178/178 [==============================] - 1s 4ms/step - loss: 0.3679 - mean_squared_error: 0.2681 - mae: 0.3670 - val_loss: 0.4108 - val_mean_squared_error: 0.3035 - val_mae: 0.4100\n",
            "Epoch 63/300\n",
            "173/178 [============================>.] - ETA: 0s - loss: 0.3615 - mean_squared_error: 0.2567 - mae: 0.3607Restoring model weights from the end of the best epoch.\n",
            "178/178 [==============================] - 1s 4ms/step - loss: 0.3665 - mean_squared_error: 0.2637 - mae: 0.3657 - val_loss: 0.4114 - val_mean_squared_error: 0.3012 - val_mae: 0.4105\n",
            "Epoch 00063: early stopping\n"
          ],
          "name": "stdout"
        }
      ]
    },
    {
      "cell_type": "code",
      "metadata": {
        "colab": {
          "base_uri": "https://localhost:8080/",
          "height": 287
        },
        "id": "bmZUzYQOWtBO",
        "outputId": "219c3175-f404-4cc7-cfa7-084d112da01d"
      },
      "source": [
        "plt.plot(history.history['loss'],label='training loss')\n",
        "plt.plot(history.history['val_loss'],label='testing loss')\n",
        "plt.legend()"
      ],
      "execution_count": 435,
      "outputs": [
        {
          "output_type": "execute_result",
          "data": {
            "text/plain": [
              "<matplotlib.legend.Legend at 0x7f033ad684e0>"
            ]
          },
          "metadata": {
            "tags": []
          },
          "execution_count": 435
        },
        {
          "output_type": "display_data",
          "data": {
            "image/png": "[encoded data removed]",
            "text/plain": [
              "<Figure size 432x288 with 1 Axes>"
            ]
          },
          "metadata": {
            "tags": [],
            "needs_background": "light"
          }
        }
      ]
    },
    {
      "cell_type": "code",
      "metadata": {
        "id": "MRGDigpmAWi8"
      },
      "source": [
        "\n",
        "#runs tensorboard\n",
        "#%tensorboard --logdir logs/fit"
      ],
      "execution_count": 436,
      "outputs": []
    },
    {
      "cell_type": "code",
      "metadata": {
        "id": "EvgoKqjeWog3"
      },
      "source": [
        ""
      ],
      "execution_count": 436,
      "outputs": []
    }
  ]
}